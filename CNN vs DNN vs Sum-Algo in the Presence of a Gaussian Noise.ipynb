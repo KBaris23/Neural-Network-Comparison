{
 "cells": [
  {
   "cell_type": "code",
   "execution_count": 1,
   "metadata": {
    "execution": {
     "iopub.execute_input": "2022-12-24T18:25:24.166054Z",
     "iopub.status.busy": "2022-12-24T18:25:24.165434Z",
     "iopub.status.idle": "2022-12-24T18:26:33.334380Z",
     "shell.execute_reply": "2022-12-24T18:26:33.333300Z",
     "shell.execute_reply.started": "2022-12-24T18:25:24.165978Z"
    },
    "id": "RIO91Fu65s6k"
   },
   "outputs": [
    {
     "name": "stdout",
     "output_type": "stream",
     "text": [
      "Downloading data from https://zenodo.org/record/846388/files/gamma_angle_position_5deg_xy.h5?download=1\n",
      "2060006240/2060006240 [==============================] - 61s 0us/step\n"
     ]
    },
    {
     "data": {
      "text/plain": [
       "'/root/.keras/datasets/gamma_angle_position_5deg_xy.h5'"
      ]
     },
     "execution_count": 1,
     "metadata": {},
     "output_type": "execute_result"
    }
   ],
   "source": [
    "import tensorflow\n",
    "import numpy as np\n",
    "import pandas as pd\n",
    "import os\n",
    "import tensorflow.keras as keras\n",
    "import h5py\n",
    "zip_file=keras.utils.get_file(\n",
    "    fname=\"gamma_angle_position_5deg_xy.h5\",\n",
    "    origin=\"https://zenodo.org/record/846388/files/gamma_angle_position_5deg_xy.h5?download=1\",\n",
    "    extract=True\n",
    "\n",
    ")\n",
    "dirnam=os.path.join(os.path.dirname(zip_file), \"gamma_angle_position_5deg_xy.h5\")\n",
    "zip_file\n"
   ]
  },
  {
   "cell_type": "code",
   "execution_count": 13,
   "metadata": {
    "execution": {
     "iopub.execute_input": "2022-12-24T19:07:19.621571Z",
     "iopub.status.busy": "2022-12-24T19:07:19.621193Z",
     "iopub.status.idle": "2022-12-24T19:07:20.641726Z",
     "shell.execute_reply": "2022-12-24T19:07:20.640779Z",
     "shell.execute_reply.started": "2022-12-24T19:07:19.621544Z"
    }
   },
   "outputs": [
    {
     "name": "stderr",
     "output_type": "stream",
     "text": [
      "findfont: Font family ['Helvetica'] not found. Falling back to DejaVu Sans.\n",
      "findfont: Font family ['Helvetica'] not found. Falling back to DejaVu Sans.\n"
     ]
    },
    {
     "data": {
      "image/png": "[encoded data removed]",
      "text/plain": [
       "<Figure size 3240x1080 with 2 Axes>"
      ]
     },
     "metadata": {
      "needs_background": "light"
     },
     "output_type": "display_data"
    }
   ],
   "source": [
    "#Data Example with Colorbar\n",
    "from mpl_toolkits.axes_grid1 import AxesGrid\n",
    "import matplotlib as mpl\n",
    "mpl.rc('font', family='Helvetica')\n",
    "fig = plt.figure(1, (45,15))\n",
    "grid = AxesGrid(fig, 142,\n",
    "                    nrows_ncols=(1, 1),\n",
    "                    axes_pad=12,\n",
    "                    share_all=True,\n",
    "                    cbar_mode=\"each\",\n",
    "                    cbar_size=\"7%\",\n",
    "                    cbar_pad=\"7%\",\n",
    "                    )\n",
    "n=25\n",
    "#im0=grid[0].imshow(layer_0_data[n]/100,aspect=\"auto\",extent=(0,1,0,1))\n",
    "#im1=grid[0].imshow(layer_1_data[n]/100,aspect=\"auto\",extent=(0,1,0,1))\n",
    "im2=grid[0].imshow(layer_2_data[n]/100,aspect=\"auto\", extent=(0,1,0,1))\n",
    "\n",
    "# Set font size of tick labels to 15\n",
    "grid[0].tick_params(labelsize=21)\n",
    "\n",
    "# Get reference to Axes object for colorbar\n",
    "cbar_ax = grid.cbar_axes[0]\n",
    "\n",
    "# Set font size of colorbar tick labels to 15\n",
    "cbar_ax.tick_params(labelsize=21)\n",
    "\n",
    "# Set font size of colorbar label to 20\n",
    "cbar_ax.yaxis.label.set_size(25)\n",
    "\n",
    "#grid.cbar_axes[0].colorbar(im0,label=\"Energy(MeV)\",ticks=np.arange(0,np.max(layer_0_data[n]),5))\n",
    "#grid.cbar_axes[0].colorbar(im1,label=\"Energy(MeV)\",ticks=np.arange(0,np.max(layer_1_data[n]),50))\n",
    "grid.cbar_axes[0].colorbar(im2,label=\"Energy(MeV)\",ticks=np.arange(0,np.max(layer_2_data[n]),0.1))\n",
    "plt.draw()\n",
    "plt.show()\n"
   ]
  },
  {
   "cell_type": "code",
   "execution_count": 3,
   "metadata": {
    "execution": {
     "iopub.execute_input": "2022-12-24T18:27:10.291051Z",
     "iopub.status.busy": "2022-12-24T18:27:10.289705Z",
     "iopub.status.idle": "2022-12-24T18:27:14.285924Z",
     "shell.execute_reply": "2022-12-24T18:27:14.285127Z",
     "shell.execute_reply.started": "2022-12-24T18:27:10.291017Z"
    },
    "id": "cuM9humvFrbe"
   },
   "outputs": [
    {
     "name": "stdout",
     "output_type": "stream",
     "text": [
      "(500000, 3, 96)\n"
     ]
    }
   ],
   "source": [
    "#Data Import\n",
    "layer_0_data = (np.array(h5py.File(zip_file)[\"layer_0\"][:]))\n",
    "layer_1_data = (np.array(h5py.File(zip_file)[\"layer_1\"][:]))\n",
    "layer_2_data = (np.array(h5py.File(zip_file)[\"layer_2\"][:]))\n",
    "energy=(np.array(h5py.File(zip_file)[\"energy\"]))\n",
    "energy=energy.reshape(energy.shape[0])\n",
    "print(layer_0_data.shape)\n",
    "\n",
    "nrm_l0=np.max(layer_0_data)\n",
    "nrm_l1=np.max(layer_1_data)\n",
    "nrm_l2=np.max(layer_2_data)\n",
    "nrm_e=np.max(energy)\n",
    "\n",
    "\n",
    "Layer_0_data_preprocessed=layer_0_data/nrm_l0\n",
    "Layer_1_data_preprocessed=layer_1_data/nrm_l1\n",
    "Layer_2_data_preprocessed=layer_2_data/nrm_l2\n",
    "energy = energy / nrm_e\n"
   ]
  },
  {
   "cell_type": "code",
   "execution_count": 4,
   "metadata": {
    "execution": {
     "iopub.execute_input": "2022-10-24T11:11:15.993079Z",
     "iopub.status.busy": "2022-10-24T11:11:15.992778Z",
     "iopub.status.idle": "2022-10-24T11:11:16.005391Z",
     "shell.execute_reply": "2022-10-24T11:11:16.003422Z",
     "shell.execute_reply.started": "2022-10-24T11:11:15.993053Z"
    }
   },
   "outputs": [
    {
     "data": {
      "text/plain": [
       "array([[[0.00000000e+00, 0.00000000e+00, 0.00000000e+00, ...,\n",
       "         0.00000000e+00, 0.00000000e+00, 0.00000000e+00],\n",
       "        [0.00000000e+00, 0.00000000e+00, 0.00000000e+00, ...,\n",
       "         0.00000000e+00, 0.00000000e+00, 0.00000000e+00],\n",
       "        [0.00000000e+00, 0.00000000e+00, 0.00000000e+00, ...,\n",
       "         0.00000000e+00, 0.00000000e+00, 0.00000000e+00]],\n",
       "\n",
       "       [[0.00000000e+00, 2.40711802e-07, 2.90011534e-07, ...,\n",
       "         0.00000000e+00, 0.00000000e+00, 0.00000000e+00],\n",
       "        [6.44887283e-06, 1.92491792e-05, 0.00000000e+00, ...,\n",
       "         0.00000000e+00, 0.00000000e+00, 1.32958062e-04],\n",
       "        [0.00000000e+00, 0.00000000e+00, 0.00000000e+00, ...,\n",
       "         1.24407611e-05, 1.08539811e-04, 1.65105335e-07]],\n",
       "\n",
       "       [[0.00000000e+00, 0.00000000e+00, 0.00000000e+00, ...,\n",
       "         0.00000000e+00, 0.00000000e+00, 0.00000000e+00],\n",
       "        [0.00000000e+00, 0.00000000e+00, 1.25305227e-04, ...,\n",
       "         4.21652981e-05, 0.00000000e+00, 0.00000000e+00],\n",
       "        [0.00000000e+00, 0.00000000e+00, 0.00000000e+00, ...,\n",
       "         0.00000000e+00, 0.00000000e+00, 0.00000000e+00]],\n",
       "\n",
       "       ...,\n",
       "\n",
       "       [[0.00000000e+00, 0.00000000e+00, 0.00000000e+00, ...,\n",
       "         0.00000000e+00, 0.00000000e+00, 0.00000000e+00],\n",
       "        [0.00000000e+00, 0.00000000e+00, 0.00000000e+00, ...,\n",
       "         0.00000000e+00, 0.00000000e+00, 0.00000000e+00],\n",
       "        [0.00000000e+00, 0.00000000e+00, 0.00000000e+00, ...,\n",
       "         0.00000000e+00, 0.00000000e+00, 0.00000000e+00]],\n",
       "\n",
       "       [[1.62849424e-04, 0.00000000e+00, 0.00000000e+00, ...,\n",
       "         0.00000000e+00, 0.00000000e+00, 0.00000000e+00],\n",
       "        [0.00000000e+00, 0.00000000e+00, 5.79549016e-05, ...,\n",
       "         0.00000000e+00, 0.00000000e+00, 0.00000000e+00],\n",
       "        [0.00000000e+00, 0.00000000e+00, 0.00000000e+00, ...,\n",
       "         0.00000000e+00, 0.00000000e+00, 0.00000000e+00]],\n",
       "\n",
       "       [[0.00000000e+00, 0.00000000e+00, 0.00000000e+00, ...,\n",
       "         0.00000000e+00, 0.00000000e+00, 0.00000000e+00],\n",
       "        [0.00000000e+00, 0.00000000e+00, 0.00000000e+00, ...,\n",
       "         0.00000000e+00, 0.00000000e+00, 0.00000000e+00],\n",
       "        [0.00000000e+00, 0.00000000e+00, 0.00000000e+00, ...,\n",
       "         0.00000000e+00, 0.00000000e+00, 0.00000000e+00]]])"
      ]
     },
     "execution_count": 4,
     "metadata": {},
     "output_type": "execute_result"
    }
   ],
   "source": [
    "Layer_0_data_preprocessed"
   ]
  },
  {
   "cell_type": "code",
   "execution_count": 18,
   "metadata": {
    "execution": {
     "iopub.execute_input": "2022-12-24T09:46:44.322386Z",
     "iopub.status.busy": "2022-12-24T09:46:44.321479Z",
     "iopub.status.idle": "2022-12-24T09:46:44.327621Z",
     "shell.execute_reply": "2022-12-24T09:46:44.326619Z",
     "shell.execute_reply.started": "2022-12-24T09:46:44.322357Z"
    },
    "id": "I7a-mPR6O9qa"
   },
   "outputs": [],
   "source": [
    "#DNN Preprocess-1\n",
    "flatten_layer_0=Layer_0_data_preprocessed.reshape(500000,3*96)\n",
    "flatten_layer_1=Layer_1_data_preprocessed.reshape(500000,12*12)\n",
    "flatten_layer_2=Layer_2_data_preprocessed.reshape(500000,6*12)\n",
    "#from random import randint\n",
    "#random_selection=np.array([x for x in range (500000) if x not in random])"
   ]
  },
  {
   "cell_type": "code",
   "execution_count": 19,
   "metadata": {
    "execution": {
     "iopub.execute_input": "2022-12-24T09:46:45.678857Z",
     "iopub.status.busy": "2022-12-24T09:46:45.678401Z",
     "iopub.status.idle": "2022-12-24T09:46:50.089185Z",
     "shell.execute_reply": "2022-12-24T09:46:50.087727Z",
     "shell.execute_reply.started": "2022-12-24T09:46:45.678817Z"
    },
    "id": "Qpn56IptgnKn"
   },
   "outputs": [],
   "source": [
    "#Train Test Split \n",
    "from sklearn.model_selection import train_test_split\n",
    "layer_0_train, layer_0_test, energy_train, energy_test,  layer_1_train,layer_1_test, layer_2_train, layer_2_test,= train_test_split(flatten_layer_0,  energy, flatten_layer_1, flatten_layer_2,  test_size=0.4, random_state=42)\n",
    "layer_0_train_2D, layer_0_test_2D, energy_train, energy_test,  layer_1_train_2D,layer_1_test_2D, layer_2_train_2D, layer_2_test2D,= train_test_split(Layer_0_data_preprocessed,  energy, Layer_1_data_preprocessed, Layer_2_data_preprocessed,  test_size=0.4, random_state=42)"
   ]
  },
  {
   "cell_type": "code",
   "execution_count": null,
   "metadata": {},
   "outputs": [],
   "source": [
    "#DNN Preprocess-2\n",
    "lc1_test=np.array([np.concatenate((layer_0_test, layer_1_test, layer_2_test),axis=1)  ])\n",
    "lc1_train=np.array([np.concatenate((layer_0_train, layer_1_train, layer_2_train),axis=1)  ])\n",
    "lc1_train=lc1_train.reshape(lc1_train.shape[1],lc1_train.shape[2])\n",
    "lc1_test=lc1_test.reshape(lc1_test.shape[1],lc1_test.shape[2])"
   ]
  },
  {
   "cell_type": "code",
   "execution_count": 21,
   "metadata": {
    "execution": {
     "iopub.execute_input": "2022-12-24T09:46:52.208904Z",
     "iopub.status.busy": "2022-12-24T09:46:52.208594Z",
     "iopub.status.idle": "2022-12-24T09:46:52.214888Z",
     "shell.execute_reply": "2022-12-24T09:46:52.214171Z",
     "shell.execute_reply.started": "2022-12-24T09:46:52.208850Z"
    },
    "id": "7yz029HZvne9"
   },
   "outputs": [],
   "source": [
    "#Model Run Mechanism\n",
    "def run_experiment(model, x_train, y_train):\n",
    "    \n",
    "    model.compile(\n",
    "        optimizer=keras.optimizers.Adam(0.003),\n",
    "        loss=keras.losses.MeanSquaredError(reduction=\"auto\", name=\"mean_squared_error\")#,\n",
    "    )\n",
    "    \n",
    "    early_stopping = keras.callbacks.EarlyStopping(\n",
    "        monitor=\"val_loss\", patience=50, restore_best_weights=True\n",
    "    )\n",
    "    \n",
    "    history = model.fit(\n",
    "        x=x_train,\n",
    "        y=y_train,\n",
    "        epochs=50,\n",
    "        batch_size=2028,\n",
    "        validation_split=0.2,\n",
    "        callbacks=[early_stopping],\n",
    "    )\n",
    "    return history"
   ]
  },
  {
   "cell_type": "code",
   "execution_count": 22,
   "metadata": {
    "execution": {
     "iopub.execute_input": "2022-12-24T09:46:52.217013Z",
     "iopub.status.busy": "2022-12-24T09:46:52.216766Z",
     "iopub.status.idle": "2022-12-24T09:46:53.361838Z",
     "shell.execute_reply": "2022-12-24T09:46:53.360770Z",
     "shell.execute_reply.started": "2022-12-24T09:46:52.216990Z"
    },
    "id": "AgJ2Mj70s9fk"
   },
   "outputs": [
    {
     "name": "stdout",
     "output_type": "stream",
     "text": [
      "Model: \"dnn\"\n",
      "_________________________________________________________________\n",
      " Layer (type)                Output Shape              Param #   \n",
      "=================================================================\n",
      " input_features (InputLayer)  [(None, 504)]            0         \n",
      "                                                                 \n",
      " dense (Dense)               (None, 1024)              517120    \n",
      "                                                                 \n",
      " dropout (Dropout)           (None, 1024)              0         \n",
      "                                                                 \n",
      " dense_1 (Dense)             (None, 512)               524800    \n",
      "                                                                 \n",
      " dropout_1 (Dropout)         (None, 512)               0         \n",
      "                                                                 \n",
      " dense_2 (Dense)             (None, 64)                32832     \n",
      "                                                                 \n",
      " dropout_2 (Dropout)         (None, 64)                0         \n",
      "                                                                 \n",
      " output (Dense)              (None, 1)                 65        \n",
      "                                                                 \n",
      "=================================================================\n",
      "Total params: 1,074,817\n",
      "Trainable params: 1,074,817\n",
      "Non-trainable params: 0\n",
      "_________________________________________________________________\n"
     ]
    }
   ],
   "source": [
    "#DNN\n",
    "import keras.layers as layers\n",
    "import tensorflow as tf\n",
    "hidden_units = [1024, 512,64]\n",
    "def dnn(hidden_units, num_classes, dropout_rate):\n",
    "    inputs = layers.Input(shape=(144+(96*3)+72,), name=\"input_features\")\n",
    "    x = inputs\n",
    "    for units in hidden_units:        \n",
    "        x  = layers.Dense(units, activation=tf.nn.relu)(x)\n",
    "        x  = layers.Dropout(rate=dropout_rate)(x)\n",
    "    logits = layers.Dense(num_classes, name=\"output\")(x)\n",
    "    # Create the model.\n",
    "    return keras.Model(inputs=inputs, outputs=logits, name=\"dnn\")\n",
    "\n",
    "\n",
    "dnn_model = dnn(hidden_units, 1, 0)\n",
    "dnn_model.summary()"
   ]
  },
  {
   "cell_type": "code",
   "execution_count": 23,
   "metadata": {
    "execution": {
     "iopub.execute_input": "2022-12-24T09:46:53.364141Z",
     "iopub.status.busy": "2022-12-24T09:46:53.363869Z",
     "iopub.status.idle": "2022-12-24T09:46:53.375884Z",
     "shell.execute_reply": "2022-12-24T09:46:53.374950Z",
     "shell.execute_reply.started": "2022-12-24T09:46:53.364116Z"
    }
   },
   "outputs": [],
   "source": [
    "#CNN\n",
    "def cnn(hidden_units, num_classes, dropout_rate):\n",
    "    inputs0 = layers.Input(shape=(3,96,1,), name=\"input_features_l0\")\n",
    "    inputs1 = layers.Input(shape=(12,12,1,), name=\"input_features_l1\")\n",
    "    inputs2 = layers.Input(shape=(12,6,1,), name=\"input_features_l2\")\n",
    "    cnn0 = layers.Conv2D(32, 3, activation='relu', padding='same')(inputs0)\n",
    "    cnn0 = layers.Conv2D(64, 3, activation='relu')(cnn0)\n",
    "    # cnn0 = layers.Conv2D(64, 5, activation='relu')(cnn0)\n",
    "    cnn0 = layers.Flatten()(cnn0)\n",
    "    inputs0_flat = layers.Flatten()(inputs0)\n",
    "    cnn0Comb = layers.Concatenate()([cnn0,inputs0_flat])\n",
    "    cnn1 = layers.Conv2D(32, 3, activation='relu', padding='same')(inputs1)\n",
    "    cnn1 = layers.Conv2D(64, 3, activation='relu')(cnn1)\n",
    "    cnn1 = layers.Conv2D(128, 5, activation='relu')(cnn1)\n",
    "    cnn1 = layers.Flatten()(cnn1)\n",
    "    inputs1_flat = layers.Flatten()(inputs1)\n",
    "    cnn1Comb = layers.Concatenate()([cnn1,inputs1_flat])\n",
    "    cnn2 = layers.Conv2D(32, 3, activation='relu', padding='same')(inputs2)\n",
    "    cnn2 = layers.Conv2D(64, 3, activation='relu')(cnn2)  \n",
    "    cnn2 = layers.Conv2D(128, 3, activation='relu')(cnn2)      \n",
    "    cnn2 = layers.Flatten()(cnn2)\n",
    "    inputs2_flat = layers.Flatten()(inputs2)\n",
    "    cnn2Comb = layers.Concatenate()([cnn2,inputs2_flat])\n",
    "    x =  layers.Concatenate()([cnn0Comb,cnn1Comb,cnn2Comb])\n",
    "    for units in hidden_units:        \n",
    "        x  = layers.Dense(units, activation=tf.nn.relu)(x)\n",
    "       # x  = layers.Dropout(rate=dropout_rate)(x)\n",
    "    logits = layers.Dense(num_classes, name=\"output\")(x)\n",
    "    # Create the model.\n",
    "    return keras.Model(inputs=(inputs0,inputs1,inputs2), outputs=logits, name=\"cnn\")"
   ]
  },
  {
   "cell_type": "code",
   "execution_count": 24,
   "metadata": {
    "execution": {
     "iopub.execute_input": "2022-12-24T09:46:54.082508Z",
     "iopub.status.busy": "2022-12-24T09:46:54.082095Z",
     "iopub.status.idle": "2022-12-24T09:46:54.274479Z",
     "shell.execute_reply": "2022-12-24T09:46:54.273365Z",
     "shell.execute_reply.started": "2022-12-24T09:46:54.082481Z"
    }
   },
   "outputs": [
    {
     "name": "stdout",
     "output_type": "stream",
     "text": [
      "Model: \"cnn\"\n",
      "__________________________________________________________________________________________________\n",
      " Layer (type)                   Output Shape         Param #     Connected to                     \n",
      "==================================================================================================\n",
      " input_features_l1 (InputLayer)  [(None, 12, 12, 1)]  0          []                               \n",
      "                                                                                                  \n",
      " input_features_l2 (InputLayer)  [(None, 12, 6, 1)]  0           []                               \n",
      "                                                                                                  \n",
      " input_features_l0 (InputLayer)  [(None, 3, 96, 1)]  0           []                               \n",
      "                                                                                                  \n",
      " conv2d_2 (Conv2D)              (None, 12, 12, 32)   320         ['input_features_l1[0][0]']      \n",
      "                                                                                                  \n",
      " conv2d_5 (Conv2D)              (None, 12, 6, 32)    320         ['input_features_l2[0][0]']      \n",
      "                                                                                                  \n",
      " conv2d (Conv2D)                (None, 3, 96, 32)    320         ['input_features_l0[0][0]']      \n",
      "                                                                                                  \n",
      " conv2d_3 (Conv2D)              (None, 10, 10, 64)   18496       ['conv2d_2[0][0]']               \n",
      "                                                                                                  \n",
      " conv2d_6 (Conv2D)              (None, 10, 4, 64)    18496       ['conv2d_5[0][0]']               \n",
      "                                                                                                  \n",
      " conv2d_1 (Conv2D)              (None, 1, 94, 64)    18496       ['conv2d[0][0]']                 \n",
      "                                                                                                  \n",
      " conv2d_4 (Conv2D)              (None, 6, 6, 128)    204928      ['conv2d_3[0][0]']               \n",
      "                                                                                                  \n",
      " conv2d_7 (Conv2D)              (None, 8, 2, 128)    73856       ['conv2d_6[0][0]']               \n",
      "                                                                                                  \n",
      " flatten (Flatten)              (None, 6016)         0           ['conv2d_1[0][0]']               \n",
      "                                                                                                  \n",
      " flatten_1 (Flatten)            (None, 288)          0           ['input_features_l0[0][0]']      \n",
      "                                                                                                  \n",
      " flatten_2 (Flatten)            (None, 4608)         0           ['conv2d_4[0][0]']               \n",
      "                                                                                                  \n",
      " flatten_3 (Flatten)            (None, 144)          0           ['input_features_l1[0][0]']      \n",
      "                                                                                                  \n",
      " flatten_4 (Flatten)            (None, 2048)         0           ['conv2d_7[0][0]']               \n",
      "                                                                                                  \n",
      " flatten_5 (Flatten)            (None, 72)           0           ['input_features_l2[0][0]']      \n",
      "                                                                                                  \n",
      " concatenate (Concatenate)      (None, 6304)         0           ['flatten[0][0]',                \n",
      "                                                                  'flatten_1[0][0]']              \n",
      "                                                                                                  \n",
      " concatenate_1 (Concatenate)    (None, 4752)         0           ['flatten_2[0][0]',              \n",
      "                                                                  'flatten_3[0][0]']              \n",
      "                                                                                                  \n",
      " concatenate_2 (Concatenate)    (None, 2120)         0           ['flatten_4[0][0]',              \n",
      "                                                                  'flatten_5[0][0]']              \n",
      "                                                                                                  \n",
      " concatenate_3 (Concatenate)    (None, 13176)        0           ['concatenate[0][0]',            \n",
      "                                                                  'concatenate_1[0][0]',          \n",
      "                                                                  'concatenate_2[0][0]']          \n",
      "                                                                                                  \n",
      " dense_3 (Dense)                (None, 1024)         13493248    ['concatenate_3[0][0]']          \n",
      "                                                                                                  \n",
      " dense_4 (Dense)                (None, 512)          524800      ['dense_3[0][0]']                \n",
      "                                                                                                  \n",
      " dense_5 (Dense)                (None, 64)           32832       ['dense_4[0][0]']                \n",
      "                                                                                                  \n",
      " output (Dense)                 (None, 1)            65          ['dense_5[0][0]']                \n",
      "                                                                                                  \n",
      "==================================================================================================\n",
      "Total params: 14,386,177\n",
      "Trainable params: 14,386,177\n",
      "Non-trainable params: 0\n",
      "__________________________________________________________________________________________________\n"
     ]
    }
   ],
   "source": [
    "cnn_model = cnn(hidden_units, 1, 0.1)\n",
    "cnn_model.summary()"
   ]
  },
  {
   "cell_type": "code",
   "execution_count": 25,
   "metadata": {
    "execution": {
     "iopub.execute_input": "2022-12-24T09:46:55.419748Z",
     "iopub.status.busy": "2022-12-24T09:46:55.419358Z",
     "iopub.status.idle": "2022-12-24T09:48:23.402087Z",
     "shell.execute_reply": "2022-12-24T09:48:23.401271Z",
     "shell.execute_reply.started": "2022-12-24T09:46:55.419723Z"
    },
    "id": "PUPhTztZvza-"
   },
   "outputs": [
    {
     "name": "stdout",
     "output_type": "stream",
     "text": [
      "Epoch 1/50\n",
      "119/119 [==============================] - 3s 18ms/step - loss: 0.0202 - val_loss: 6.8074e-04\n",
      "Epoch 2/50\n",
      "119/119 [==============================] - 2s 14ms/step - loss: 3.6802e-04 - val_loss: 1.7861e-04\n",
      "Epoch 3/50\n",
      "119/119 [==============================] - 2s 15ms/step - loss: 1.4574e-04 - val_loss: 8.9791e-05\n",
      "Epoch 4/50\n",
      "119/119 [==============================] - 2s 15ms/step - loss: 9.4048e-05 - val_loss: 6.3192e-05\n",
      "Epoch 5/50\n",
      "119/119 [==============================] - 2s 15ms/step - loss: 7.7034e-05 - val_loss: 5.3095e-05\n",
      "Epoch 6/50\n",
      "119/119 [==============================] - 2s 14ms/step - loss: 6.9413e-05 - val_loss: 4.8797e-05\n",
      "Epoch 7/50\n",
      "119/119 [==============================] - 2s 15ms/step - loss: 6.5723e-05 - val_loss: 4.5928e-05\n",
      "Epoch 8/50\n",
      "119/119 [==============================] - 2s 14ms/step - loss: 6.3463e-05 - val_loss: 4.4843e-05\n",
      "Epoch 9/50\n",
      "119/119 [==============================] - 2s 15ms/step - loss: 6.1956e-05 - val_loss: 4.3791e-05\n",
      "Epoch 10/50\n",
      "119/119 [==============================] - 2s 14ms/step - loss: 6.0711e-05 - val_loss: 4.2688e-05\n",
      "Epoch 11/50\n",
      "119/119 [==============================] - 2s 14ms/step - loss: 5.9568e-05 - val_loss: 4.4123e-05\n",
      "Epoch 12/50\n",
      "119/119 [==============================] - 2s 14ms/step - loss: 5.9071e-05 - val_loss: 4.1471e-05\n",
      "Epoch 13/50\n",
      "119/119 [==============================] - 2s 14ms/step - loss: 5.7461e-05 - val_loss: 4.1422e-05\n",
      "Epoch 14/50\n",
      "119/119 [==============================] - 2s 14ms/step - loss: 5.7917e-05 - val_loss: 4.2100e-05\n",
      "Epoch 15/50\n",
      "119/119 [==============================] - 2s 14ms/step - loss: 5.7652e-05 - val_loss: 3.9901e-05\n",
      "Epoch 16/50\n",
      "119/119 [==============================] - 2s 14ms/step - loss: 5.5963e-05 - val_loss: 4.1002e-05\n",
      "Epoch 17/50\n",
      "119/119 [==============================] - 2s 15ms/step - loss: 6.0155e-05 - val_loss: 3.9676e-05\n",
      "Epoch 18/50\n",
      "119/119 [==============================] - 2s 14ms/step - loss: 5.7423e-05 - val_loss: 4.0054e-05\n",
      "Epoch 19/50\n",
      "119/119 [==============================] - 2s 14ms/step - loss: 7.0921e-05 - val_loss: 6.4030e-05\n",
      "Epoch 20/50\n",
      "119/119 [==============================] - 2s 14ms/step - loss: 7.2728e-05 - val_loss: 4.1394e-05\n",
      "Epoch 21/50\n",
      "119/119 [==============================] - 2s 14ms/step - loss: 9.0852e-05 - val_loss: 4.5432e-05\n",
      "Epoch 22/50\n",
      "119/119 [==============================] - 2s 15ms/step - loss: 6.3955e-05 - val_loss: 1.3249e-04\n",
      "Epoch 23/50\n",
      "119/119 [==============================] - 2s 15ms/step - loss: 8.4178e-05 - val_loss: 6.5290e-05\n",
      "Epoch 24/50\n",
      "119/119 [==============================] - 2s 15ms/step - loss: 1.1997e-04 - val_loss: 4.1197e-05\n",
      "Epoch 25/50\n",
      "119/119 [==============================] - 2s 14ms/step - loss: 6.9683e-05 - val_loss: 5.6053e-05\n",
      "Epoch 26/50\n",
      "119/119 [==============================] - 2s 14ms/step - loss: 1.0484e-04 - val_loss: 5.0434e-05\n",
      "Epoch 27/50\n",
      "119/119 [==============================] - 2s 14ms/step - loss: 1.0049e-04 - val_loss: 4.0418e-05\n",
      "Epoch 28/50\n",
      "119/119 [==============================] - 2s 14ms/step - loss: 8.5516e-05 - val_loss: 7.5535e-05\n",
      "Epoch 29/50\n",
      "119/119 [==============================] - 2s 16ms/step - loss: 9.4749e-05 - val_loss: 4.2902e-05\n",
      "Epoch 30/50\n",
      "119/119 [==============================] - 2s 14ms/step - loss: 7.7979e-05 - val_loss: 4.5943e-05\n",
      "Epoch 31/50\n",
      "119/119 [==============================] - 2s 14ms/step - loss: 8.7728e-05 - val_loss: 1.2570e-04\n",
      "Epoch 32/50\n",
      "119/119 [==============================] - 2s 14ms/step - loss: 9.4258e-05 - val_loss: 4.9937e-05\n",
      "Epoch 33/50\n",
      "119/119 [==============================] - 2s 14ms/step - loss: 1.0626e-04 - val_loss: 5.5421e-05\n",
      "Epoch 34/50\n",
      "119/119 [==============================] - 2s 14ms/step - loss: 7.5153e-05 - val_loss: 5.5353e-05\n",
      "Epoch 35/50\n",
      "119/119 [==============================] - 2s 14ms/step - loss: 7.3939e-05 - val_loss: 4.1584e-05\n",
      "Epoch 36/50\n",
      "119/119 [==============================] - 2s 15ms/step - loss: 8.8569e-05 - val_loss: 6.0198e-05\n",
      "Epoch 37/50\n",
      "119/119 [==============================] - 2s 15ms/step - loss: 8.0372e-05 - val_loss: 3.9533e-05\n",
      "Epoch 38/50\n",
      "119/119 [==============================] - 2s 14ms/step - loss: 9.3121e-05 - val_loss: 3.8425e-05\n",
      "Epoch 39/50\n",
      "119/119 [==============================] - 2s 14ms/step - loss: 7.9164e-05 - val_loss: 5.0942e-05\n",
      "Epoch 40/50\n",
      "119/119 [==============================] - 2s 15ms/step - loss: 7.5097e-05 - val_loss: 4.0750e-05\n",
      "Epoch 41/50\n",
      "119/119 [==============================] - 2s 15ms/step - loss: 7.4833e-05 - val_loss: 5.3089e-05\n",
      "Epoch 42/50\n",
      "119/119 [==============================] - 2s 16ms/step - loss: 6.7397e-05 - val_loss: 5.1095e-05\n",
      "Epoch 43/50\n",
      "119/119 [==============================] - 2s 15ms/step - loss: 7.0599e-05 - val_loss: 3.9669e-05\n",
      "Epoch 44/50\n",
      "119/119 [==============================] - 2s 14ms/step - loss: 1.0529e-04 - val_loss: 3.8831e-05\n",
      "Epoch 45/50\n",
      "119/119 [==============================] - 2s 14ms/step - loss: 4.3637e-05 - val_loss: 4.1500e-05\n",
      "Epoch 46/50\n",
      "119/119 [==============================] - 2s 14ms/step - loss: 6.2857e-05 - val_loss: 9.1261e-05\n",
      "Epoch 47/50\n",
      "119/119 [==============================] - 2s 15ms/step - loss: 6.2454e-05 - val_loss: 4.3915e-05\n",
      "Epoch 48/50\n",
      "119/119 [==============================] - 2s 14ms/step - loss: 7.5863e-05 - val_loss: 3.8844e-05\n",
      "Epoch 49/50\n",
      "119/119 [==============================] - 2s 14ms/step - loss: 4.8106e-05 - val_loss: 5.0785e-05\n",
      "Epoch 50/50\n",
      "119/119 [==============================] - 2s 14ms/step - loss: 5.2760e-05 - val_loss: 7.7032e-05\n"
     ]
    }
   ],
   "source": [
    "#DNN Training\n",
    "x_train=lc1_train\n",
    "y_train=energy_train\n",
    "history_dnn=run_experiment(dnn_model, x_train,y_train)"
   ]
  },
  {
   "cell_type": "code",
   "execution_count": 26,
   "metadata": {
    "execution": {
     "iopub.execute_input": "2022-12-24T09:48:23.404112Z",
     "iopub.status.busy": "2022-12-24T09:48:23.403849Z",
     "iopub.status.idle": "2022-12-24T10:14:14.957905Z",
     "shell.execute_reply": "2022-12-24T10:14:14.956892Z",
     "shell.execute_reply.started": "2022-12-24T09:48:23.404089Z"
    }
   },
   "outputs": [
    {
     "name": "stdout",
     "output_type": "stream",
     "text": [
      "Epoch 1/50\n",
      "119/119 [==============================] - 36s 277ms/step - loss: 0.2967 - val_loss: 1.5766e-04\n",
      "Epoch 2/50\n",
      "119/119 [==============================] - 31s 263ms/step - loss: 1.1443e-04 - val_loss: 6.4419e-05\n",
      "Epoch 3/50\n",
      "119/119 [==============================] - 31s 261ms/step - loss: 7.5967e-05 - val_loss: 5.0914e-05\n",
      "Epoch 4/50\n",
      "119/119 [==============================] - 31s 262ms/step - loss: 6.7333e-05 - val_loss: 4.6689e-05\n",
      "Epoch 5/50\n",
      "119/119 [==============================] - 31s 260ms/step - loss: 6.3911e-05 - val_loss: 4.4304e-05\n",
      "Epoch 6/50\n",
      "119/119 [==============================] - 31s 259ms/step - loss: 6.2057e-05 - val_loss: 4.4389e-05\n",
      "Epoch 7/50\n",
      "119/119 [==============================] - 31s 260ms/step - loss: 6.0830e-05 - val_loss: 4.3072e-05\n",
      "Epoch 8/50\n",
      "119/119 [==============================] - 31s 259ms/step - loss: 5.9999e-05 - val_loss: 4.5081e-05\n",
      "Epoch 9/50\n",
      "119/119 [==============================] - 31s 260ms/step - loss: 5.9335e-05 - val_loss: 4.2102e-05\n",
      "Epoch 10/50\n",
      "119/119 [==============================] - 31s 259ms/step - loss: 5.8804e-05 - val_loss: 4.2665e-05\n",
      "Epoch 11/50\n",
      "119/119 [==============================] - 31s 260ms/step - loss: 5.8435e-05 - val_loss: 4.0938e-05\n",
      "Epoch 12/50\n",
      "119/119 [==============================] - 31s 259ms/step - loss: 5.7546e-05 - val_loss: 4.1224e-05\n",
      "Epoch 13/50\n",
      "119/119 [==============================] - 31s 260ms/step - loss: 5.7189e-05 - val_loss: 4.0699e-05\n",
      "Epoch 14/50\n",
      "119/119 [==============================] - 31s 260ms/step - loss: 5.7351e-05 - val_loss: 4.0144e-05\n",
      "Epoch 15/50\n",
      "119/119 [==============================] - 31s 259ms/step - loss: 5.6270e-05 - val_loss: 4.2617e-05\n",
      "Epoch 16/50\n",
      "119/119 [==============================] - 31s 260ms/step - loss: 5.6942e-05 - val_loss: 3.8975e-05\n",
      "Epoch 17/50\n",
      "119/119 [==============================] - 31s 259ms/step - loss: 5.5006e-05 - val_loss: 4.5705e-05\n",
      "Epoch 18/50\n",
      "119/119 [==============================] - 31s 260ms/step - loss: 5.7289e-05 - val_loss: 3.8196e-05\n",
      "Epoch 19/50\n",
      "119/119 [==============================] - 31s 259ms/step - loss: 5.5489e-05 - val_loss: 3.8279e-05\n",
      "Epoch 20/50\n",
      "119/119 [==============================] - 31s 260ms/step - loss: 5.5032e-05 - val_loss: 4.1400e-05\n",
      "Epoch 21/50\n",
      "119/119 [==============================] - 31s 259ms/step - loss: 6.0515e-05 - val_loss: 4.2645e-05\n",
      "Epoch 22/50\n",
      "119/119 [==============================] - 31s 262ms/step - loss: 5.4459e-05 - val_loss: 3.7158e-05\n",
      "Epoch 23/50\n",
      "119/119 [==============================] - 31s 259ms/step - loss: 6.0744e-05 - val_loss: 5.2226e-05\n",
      "Epoch 24/50\n",
      "119/119 [==============================] - 31s 260ms/step - loss: 6.4346e-05 - val_loss: 3.6830e-05\n",
      "Epoch 25/50\n",
      "119/119 [==============================] - 31s 262ms/step - loss: 7.2317e-05 - val_loss: 3.6266e-05\n",
      "Epoch 26/50\n",
      "119/119 [==============================] - 31s 259ms/step - loss: 5.5880e-05 - val_loss: 6.3857e-05\n",
      "Epoch 27/50\n",
      "119/119 [==============================] - 31s 260ms/step - loss: 6.8034e-05 - val_loss: 4.2849e-05\n",
      "Epoch 28/50\n",
      "119/119 [==============================] - 31s 260ms/step - loss: 7.2075e-05 - val_loss: 3.8464e-05\n",
      "Epoch 29/50\n",
      "119/119 [==============================] - 31s 259ms/step - loss: 6.8233e-05 - val_loss: 6.0415e-05\n",
      "Epoch 30/50\n",
      "119/119 [==============================] - 31s 259ms/step - loss: 7.2293e-05 - val_loss: 3.7554e-05\n",
      "Epoch 31/50\n",
      "119/119 [==============================] - 31s 259ms/step - loss: 6.9806e-05 - val_loss: 1.0078e-04\n",
      "Epoch 32/50\n",
      "119/119 [==============================] - 31s 259ms/step - loss: 7.1464e-05 - val_loss: 4.1034e-05\n",
      "Epoch 33/50\n",
      "119/119 [==============================] - 31s 259ms/step - loss: 9.1888e-05 - val_loss: 3.8508e-05\n",
      "Epoch 34/50\n",
      "119/119 [==============================] - 31s 260ms/step - loss: 5.7664e-05 - val_loss: 1.3679e-04\n",
      "Epoch 35/50\n",
      "119/119 [==============================] - 31s 259ms/step - loss: 7.7201e-05 - val_loss: 6.5681e-05\n",
      "Epoch 36/50\n",
      "119/119 [==============================] - 31s 259ms/step - loss: 6.4223e-05 - val_loss: 5.6687e-05\n",
      "Epoch 37/50\n",
      "119/119 [==============================] - 31s 259ms/step - loss: 7.6802e-05 - val_loss: 3.8530e-05\n",
      "Epoch 38/50\n",
      "119/119 [==============================] - 31s 259ms/step - loss: 7.3492e-05 - val_loss: 8.0014e-05\n",
      "Epoch 39/50\n",
      "119/119 [==============================] - 31s 260ms/step - loss: 6.6614e-05 - val_loss: 9.8813e-05\n",
      "Epoch 40/50\n",
      "119/119 [==============================] - 31s 259ms/step - loss: 7.4618e-05 - val_loss: 1.3758e-04\n",
      "Epoch 41/50\n",
      "119/119 [==============================] - 31s 259ms/step - loss: 7.6836e-05 - val_loss: 6.0421e-05\n",
      "Epoch 42/50\n",
      "119/119 [==============================] - 31s 261ms/step - loss: 7.1508e-05 - val_loss: 5.1091e-05\n",
      "Epoch 43/50\n",
      "119/119 [==============================] - 31s 260ms/step - loss: 6.9518e-05 - val_loss: 3.8878e-05\n",
      "Epoch 44/50\n",
      "119/119 [==============================] - 31s 259ms/step - loss: 6.2886e-05 - val_loss: 4.1946e-05\n",
      "Epoch 45/50\n",
      "119/119 [==============================] - 31s 259ms/step - loss: 9.1732e-05 - val_loss: 8.5772e-05\n",
      "Epoch 46/50\n",
      "119/119 [==============================] - 31s 259ms/step - loss: 5.9307e-05 - val_loss: 4.8776e-05\n",
      "Epoch 47/50\n",
      "119/119 [==============================] - 31s 259ms/step - loss: 6.5839e-05 - val_loss: 4.6314e-05\n",
      "Epoch 48/50\n",
      "119/119 [==============================] - 31s 259ms/step - loss: 6.4093e-05 - val_loss: 1.0531e-04\n",
      "Epoch 49/50\n",
      "119/119 [==============================] - 31s 260ms/step - loss: 8.9943e-05 - val_loss: 3.4815e-05\n",
      "Epoch 50/50\n",
      "119/119 [==============================] - 31s 259ms/step - loss: 5.3384e-05 - val_loss: 3.6082e-05\n"
     ]
    }
   ],
   "source": [
    "#CNN Training\n",
    "history_cnn=run_experiment(cnn_model,[layer_0_train_2D,layer_1_train_2D,layer_2_train_2D],energy_train)"
   ]
  },
  {
   "cell_type": "code",
   "execution_count": 27,
   "metadata": {
    "execution": {
     "iopub.execute_input": "2022-12-24T10:14:14.960352Z",
     "iopub.status.busy": "2022-12-24T10:14:14.959995Z",
     "iopub.status.idle": "2022-12-24T10:14:54.330134Z",
     "shell.execute_reply": "2022-12-24T10:14:54.329025Z",
     "shell.execute_reply.started": "2022-12-24T10:14:14.960324Z"
    }
   },
   "outputs": [
    {
     "name": "stdout",
     "output_type": "stream",
     "text": [
      "6250/6250 [==============================] - 24s 4ms/step\n",
      "6250/6250 [==============================] - 10s 2ms/step\n"
     ]
    }
   ],
   "source": [
    "#Model Predictions\n",
    "cnn_predict = cnn_model.predict(x=[layer_0_test_2D,layer_1_test_2D,layer_2_test2D], verbose=1)\n",
    "dnn_predict = dnn_model.predict(x=lc1_test, verbose=1)"
   ]
  },
  {
   "cell_type": "code",
   "execution_count": 39,
   "metadata": {
    "execution": {
     "iopub.execute_input": "2022-12-24T10:18:32.918145Z",
     "iopub.status.busy": "2022-12-24T10:18:32.917785Z",
     "iopub.status.idle": "2022-12-24T10:18:33.166753Z",
     "shell.execute_reply": "2022-12-24T10:18:33.165557Z",
     "shell.execute_reply.started": "2022-12-24T10:18:32.918131Z"
    },
    "id": "64s3HBLVmxJl"
   },
   "outputs": [
    {
     "data": {
      "image/png": "[encoded data removed]",
      "text/plain": [
       "<Figure size 720x360 with 2 Axes>"
      ]
     },
     "metadata": {
      "needs_background": "light"
     },
     "output_type": "display_data"
    }
   ],
   "source": [
    "#Training Curves\n",
    "import matplotlib.pyplot as plt\n",
    "fig, (ax) = plt.subplots(1, 2, figsize=(10,5))\n",
    "ax[0].plot(history_dnn.history[\"loss\"])\n",
    "ax[0].plot(history_dnn.history[\"val_loss\"])\n",
    "ax[0].legend([\"train\", \"val\"],fontsize=15, loc=\"upper right\")\n",
    "ax[0].set_xlabel(\"Training Epochs\",fontsize=15)\n",
    "ax[0].set_ylabel(\"Loss(MSE)\", fontsize=15)\n",
    "ax[0].tick_params(labelsize=12)\n",
    "ax[1].tick_params(labelsize=12)\n",
    "ax[1].plot(history_cnn.history[\"loss\"])\n",
    "ax[1].plot(history_cnn.history[\"val_loss\"])\n",
    "ax[1].legend([\"train\", \"val\"],fontsize=15, loc=\"upper right\")\n",
    "ax[1].set_xlabel(\"Training Epochs\",fontsize=15)\n",
    "ax[1].set_ylim(top  = 0.001, bottom = 0.0)\n",
    "ax[0].set_ylim(top  = 0.001, bottom = 0.0)\n",
    "plt.show()"
   ]
  },
  {
   "cell_type": "code",
   "execution_count": 35,
   "metadata": {
    "execution": {
     "iopub.execute_input": "2022-12-24T10:17:09.908997Z",
     "iopub.status.busy": "2022-12-24T10:17:09.908664Z",
     "iopub.status.idle": "2022-12-24T10:17:10.754339Z",
     "shell.execute_reply": "2022-12-24T10:17:10.753562Z",
     "shell.execute_reply.started": "2022-12-24T10:17:09.908974Z"
    }
   },
   "outputs": [
    {
     "data": {
      "image/png": "[encoded data removed]",
      "text/plain": [
       "<Figure size 360x360 with 1 Axes>"
      ]
     },
     "metadata": {
      "needs_background": "light"
     },
     "output_type": "display_data"
    }
   ],
   "source": [
    "#Prediction Histogram\n",
    "energy = np.array(energy)\n",
    "dnn_predict = np.array(dnn_predict)\n",
    "cnn_predict = np.array(cnn_predict)\n",
    "fig, ax = plt.subplots(1,1,figsize=[5,5])\n",
    "ax.hist(energy,bins= 100, density= True,alpha=0.4, label=\"Sum energy\") \n",
    "ax.hist(dnn_predict,bins= 100, density = True ,alpha=0.4, label=\"DNN predict\")\n",
    "ax.hist(cnn_predict,bins= 100, density = True,alpha=0.5, color=\"g\", label=\"CNN predict\")\n",
    "ax.set_xlabel(\"Single Particle Energy Prediction (GeV)\")\n",
    "ax.set_ylabel(\"Frequency(Normalized)\")\n",
    "ax.set_title(\"DNN vs CNN vs Sum-Algo Prediction Frequency Hist\")\n",
    "plt.legend()\n",
    "plt.show()"
   ]
  },
  {
   "cell_type": "code",
   "execution_count": 36,
   "metadata": {
    "execution": {
     "iopub.execute_input": "2022-12-24T10:17:12.911213Z",
     "iopub.status.busy": "2022-12-24T10:17:12.910810Z",
     "iopub.status.idle": "2022-12-24T10:17:13.421078Z",
     "shell.execute_reply": "2022-12-24T10:17:13.420323Z",
     "shell.execute_reply.started": "2022-12-24T10:17:12.911187Z"
    }
   },
   "outputs": [
    {
     "name": "stdout",
     "output_type": "stream",
     "text": [
      "104028\n",
      "145430\n",
      "0.025423336026229953\n",
      "0.012249898073222111\n",
      "-0.014381871465063405\n",
      "-6.856688916029345e-06\n"
     ]
    }
   ],
   "source": [
    "#Energy Resolution\n",
    "dnn_predict = dnn_predict.reshape(dnn_predict.shape[0])\n",
    "energy_cut  = 0 / (nrm_e * 1000)\n",
    "dnn_diff_pred = (dnn_predict[energy_test>energy_cut] - energy_test[energy_test>energy_cut])/ energy_test[energy_test>energy_cut]\n",
    "diff_sum = (np.sum(layer_0_test[energy_test>energy_cut],axis=1)*nrm_l0+np.sum(layer_1_test[energy_test>energy_cut],axis=1)*nrm_l1+np.sum(layer_2_test[energy_test>energy_cut],axis=1)*nrm_l2 - energy_test[energy_test>energy_cut]*nrm_e*1000 + 0.0068*energy_test[energy_test>energy_cut]*nrm_e*1000)/(energy_test[energy_test>energy_cut]*nrm_e*1000)\n",
    "print(np.argmin(diff_sum))\n",
    "print(np.sum(diff_sum>0))\n",
    "print(np.std(dnn_diff_pred))\n",
    "print(np.std(diff_sum))\n",
    "print(np.mean(dnn_diff_pred))\n",
    "print(np.mean(diff_sum))"
   ]
  },
  {
   "cell_type": "code",
   "execution_count": 31,
   "metadata": {
    "execution": {
     "iopub.execute_input": "2022-12-24T10:14:55.981395Z",
     "iopub.status.busy": "2022-12-24T10:14:55.981113Z",
     "iopub.status.idle": "2022-12-24T10:14:55.989127Z",
     "shell.execute_reply": "2022-12-24T10:14:55.987109Z",
     "shell.execute_reply.started": "2022-12-24T10:14:55.981370Z"
    }
   },
   "outputs": [],
   "source": [
    "cnn_diff_pred=np.array([cnn_predict]).reshape(cnn_predict.shape[0])"
   ]
  },
  {
   "cell_type": "code",
   "execution_count": 32,
   "metadata": {
    "execution": {
     "iopub.execute_input": "2022-12-24T10:14:55.991105Z",
     "iopub.status.busy": "2022-12-24T10:14:55.990782Z",
     "iopub.status.idle": "2022-12-24T10:14:55.999825Z",
     "shell.execute_reply": "2022-12-24T10:14:55.998123Z",
     "shell.execute_reply.started": "2022-12-24T10:14:55.991078Z"
    }
   },
   "outputs": [],
   "source": [
    "#CNN Energy Resolution\n",
    "cnn_diff_predict=(cnn_diff_pred[energy_test>energy_cut]-energy_test[energy_test>energy_cut])/energy_test[energy_test>energy_cut]"
   ]
  },
  {
   "cell_type": "code",
   "execution_count": null,
   "metadata": {
    "execution": {
     "iopub.execute_input": "2022-12-24T11:56:01.478599Z",
     "iopub.status.busy": "2022-12-24T11:56:01.477116Z",
     "iopub.status.idle": "2022-12-24T11:56:02.253836Z",
     "shell.execute_reply": "2022-12-24T11:56:02.251830Z",
     "shell.execute_reply.started": "2022-12-24T11:56:01.478566Z"
    },
    "id": "rVUjJx44mycm"
   },
   "outputs": [],
   "source": [
    "#Energy Resolution Plots\n",
    "fig, ax = plt.subplots(1,1,figsize=[7,5])\n",
    "ax.hist(dnn_diff_pred, bins = 100, range=[-0.03,0.03], label = \"DNN \") \n",
    "ax.hist(diff_sum, alpha = 0.6, bins = 100, range=[-0.03,0.03], label = \"Sum-Algo \", color=\"r\")\n",
    "ax.hist(cnn_diff_predict,  bins = 100, range=[-0.03,0.03],color=\"g\", label = \"CNN \")\n",
    "import matplotlib.pyplot as plt\n",
    "from matplotlib.text import Text\n",
    "ylabel = Text(s='Frequency', fontsize=15)\n",
    "ax.set_ylabel(ylabel)\n",
    "\n",
    "# Use the Text class to customize the tick marks\n",
    "tick_params = Text(fontsize=12)\n",
    "ax.tick_params(labelsize=tick_params)\n",
    "\n",
    "# Use the Text class to customize the xlabel\n",
    "xlabel = Text(s=r\"E_$\\mathrm{Resolution}$\", fontsize=15)\n",
    "ax.set_xlabel(xlabel)\n",
    "\n",
    "# Use the Text class to customize the legend\n",
    "legend = Text(fontsize=15)\n",
    "ax.legend(fontsize=legend)\n",
    "\n",
    "# Show the plot\n",
    "plt.show()\n"
   ]
  }
 ],
 "metadata": {
  "colab": {
   "collapsed_sections": [],
   "private_outputs": true,
   "provenance": []
  },
  "kernelspec": {
   "display_name": "Python 3 (ipykernel)",
   "language": "python",
   "name": "python3"
  },
  "language_info": {
   "codemirror_mode": {
    "name": "ipython",
    "version": 3
   },
   "file_extension": ".py",
   "mimetype": "text/x-python",
   "name": "python",
   "nbconvert_exporter": "python",
   "pygments_lexer": "ipython3",
   "version": "3.9.12"
  }
 },
 "nbformat": 4,
 "nbformat_minor": 4
}
