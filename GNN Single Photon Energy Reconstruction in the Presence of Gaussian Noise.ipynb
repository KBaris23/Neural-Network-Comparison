{
 "cells": [
  {
   "cell_type": "code",
   "execution_count": 1,
   "metadata": {
    "execution": {
     "iopub.execute_input": "2022-12-25T13:28:53.792576Z",
     "iopub.status.busy": "2022-12-25T13:28:53.792211Z",
     "iopub.status.idle": "2022-12-25T13:29:59.576886Z",
     "shell.execute_reply": "2022-12-25T13:29:59.576155Z",
     "shell.execute_reply.started": "2022-12-25T13:28:53.792506Z"
    },
    "id": "RIO91Fu65s6k"
   },
   "outputs": [
    {
     "name": "stdout",
     "output_type": "stream",
     "text": [
      "Downloading data from https://zenodo.org/record/846388/files/gamma_angle_position_5deg_xy.h5?download=1\n",
      "2060006240/2060006240 [==============================] - 62s 0us/step\n"
     ]
    }
   ],
   "source": [
    "import tensorflow\n",
    "import numpy as np\n",
    "import pandas as pd\n",
    "import os\n",
    "import tensorflow.keras as keras\n",
    "zip_file=keras.utils.get_file(\n",
    "    fname=\"gamma_angle_position_5deg_xy.h5\",\n",
    "    origin=\"https://zenodo.org/record/846388/files/gamma_angle_position_5deg_xy.h5?download=1\",\n",
    "    extract=True\n",
    "\n",
    ")\n",
    "dirnam=os.path.join(os.path.dirname(zip_file), \"gamma_angle_position_5deg_xy.h5\")\n",
    "import h5py\n",
    "#data imported"
   ]
  },
  {
   "cell_type": "code",
   "execution_count": 2,
   "metadata": {
    "execution": {
     "iopub.execute_input": "2022-12-25T13:30:11.153633Z",
     "iopub.status.busy": "2022-12-25T13:30:11.152795Z",
     "iopub.status.idle": "2022-12-25T13:30:11.159996Z",
     "shell.execute_reply": "2022-12-25T13:30:11.158679Z",
     "shell.execute_reply.started": "2022-12-25T13:30:11.153602Z"
    }
   },
   "outputs": [],
   "source": [
    "def max_loc(layer):\n",
    "    layer_flat_2D=layer.reshape(layer.shape[0],layer.shape[1]*layer.shape[2])\n",
    "    maxx = np.argmax(layer_flat_2D,axis=1)%layer.shape[2]\n",
    "    maxy = np.argmax(layer_flat_2D,axis=1)//layer.shape[2]\n",
    "    max = np.stack([maxx,maxy],axis=1)\n",
    "    return max\n",
    "    #maxes = Layer_1_data_preprocessed.take(max)"
   ]
  },
  {
   "cell_type": "code",
   "execution_count": 3,
   "metadata": {
    "execution": {
     "iopub.execute_input": "2022-12-25T13:30:12.502760Z",
     "iopub.status.busy": "2022-12-25T13:30:12.502386Z",
     "iopub.status.idle": "2022-12-25T13:30:12.510044Z",
     "shell.execute_reply": "2022-12-25T13:30:12.509076Z",
     "shell.execute_reply.started": "2022-12-25T13:30:12.502733Z"
    }
   },
   "outputs": [],
   "source": [
    "def extract_message(layers):\n",
    "    max_coor = max_loc(layers)\n",
    "    print(max_coor.shape)\n",
    "    e_message = np.zeros((1,3,3))\n",
    "    message = np.empty((500000,3,3))\n",
    "    print(max_coor[0,0])\n",
    "    for index in range(max_coor.shape[0]):\n",
    "        if(max_coor[index,0] > 1 and max_coor[index,1] > 1 and  max_coor[index,0] < layers.shape[2]-1 and max_coor[index,1] < layers.shape[1]-1):\n",
    "            test = np.array(layers[index,max_coor[index,1]-1:max_coor[index,1]+2,max_coor[index,0]-1:max_coor[index,0]+2])\n",
    "        else:\n",
    "            test = e_message\n",
    "        if index == 12 : \n",
    "            print(test)\n",
    "        message[index] =  test\n",
    "    return message\n",
    "#first gnn model input extraction"
   ]
  },
  {
   "cell_type": "code",
   "execution_count": 4,
   "metadata": {
    "execution": {
     "iopub.execute_input": "2022-12-25T13:30:13.685867Z",
     "iopub.status.busy": "2022-12-25T13:30:13.685463Z",
     "iopub.status.idle": "2022-12-25T13:30:17.366668Z",
     "shell.execute_reply": "2022-12-25T13:30:17.365608Z",
     "shell.execute_reply.started": "2022-12-25T13:30:13.685840Z"
    },
    "id": "cuM9humvFrbe"
   },
   "outputs": [
    {
     "name": "stdout",
     "output_type": "stream",
     "text": [
      "(500000, 3, 96)\n"
     ]
    }
   ],
   "source": [
    "layer_0_data = (np.array(h5py.File(zip_file)[\"layer_0\"][:]))\n",
    "layer_1_data = (np.array(h5py.File(zip_file)[\"layer_1\"][:]))\n",
    "layer_2_data = (np.array(h5py.File(zip_file)[\"layer_2\"][:]))\n",
    "energy=(np.array(h5py.File(zip_file)[\"energy\"]))\n",
    "order = np.arange(0, energy.shape[0])\n",
    "np.random.shuffle(order)\n",
    "energy=energy.reshape(energy.shape[0])\n",
    "energy_s = energy[order]\n",
    "layer_0_data_s = layer_0_data[order] \n",
    "layer_1_data_s = layer_1_data[order] \n",
    "layer_2_data_s = layer_2_data[order] \n",
    "\n",
    "\n",
    "nottobe_merged = max_loc(layer_1_data_s) == max_loc(layer_1_data)\n",
    "\n",
    "print(layer_0_data.shape)\n",
    "\n",
    "nrm_e=np.max(energy)\n",
    "\n",
    "\n",
    "#data classes imported"
   ]
  },
  {
   "cell_type": "code",
   "execution_count": 6,
   "metadata": {
    "execution": {
     "iopub.execute_input": "2022-12-25T13:30:17.385051Z",
     "iopub.status.busy": "2022-12-25T13:30:17.384771Z",
     "iopub.status.idle": "2022-12-25T13:30:28.594949Z",
     "shell.execute_reply": "2022-12-25T13:30:28.594185Z",
     "shell.execute_reply.started": "2022-12-25T13:30:17.385016Z"
    }
   },
   "outputs": [],
   "source": [
    "#Data and Gaussian Noise Generation\n",
    "rng = np.random.default_rng()\n",
    "noise_l0 = rng.normal(0,167,layer_0_data.shape[0]*layer_0_data.shape[1]*layer_0_data.shape[2])\n",
    "noise_l0 = noise_l0.reshape(layer_0_data.shape[0],layer_0_data.shape[1],layer_0_data.shape[2])\n",
    "mask = np.zeros([layer_0_data.shape[1],layer_0_data.shape[2]])\n",
    "layer_0_data= layer_0_data + noise_l0\n",
    "nrm_l0=np.max(layer_0_data)\n",
    "layer_0_data[layer_0_data<0] = 0\n",
    "\n",
    "\n",
    "\n",
    "noise_l1 = rng.normal(0,167,layer_1_data.shape[0]*layer_1_data.shape[1]*layer_1_data.shape[2])\n",
    "noise_l1 = noise_l1.reshape(layer_1_data.shape[0],layer_1_data.shape[1],layer_1_data.shape[2])\n",
    "mask = np.zeros([layer_1_data.shape[1],layer_1_data.shape[2]])\n",
    "layer_1_data = layer_1_data+ noise_l1\n",
    "nrm_l1=np.max(layer_1_data)\n",
    "layer_1_data[layer_1_data<0] = 0\n",
    "\n",
    "noise_l2 = rng.normal(0,167,layer_2_data.shape[0]*layer_2_data.shape[1]*layer_2_data.shape[2])\n",
    "noise_l2 = noise_l2.reshape(layer_2_data.shape[0],layer_2_data.shape[1],layer_2_data.shape[2])\n",
    "mask = np.zeros([layer_2_data.shape[1],layer_2_data.shape[2]])\n",
    "layer_2_data = layer_2_data + noise_l2\n",
    "nrm_l2=np.max(layer_2_data)\n",
    "layer_2_data[layer_2_data<0] = 0\n",
    "\n",
    "\n",
    "\n",
    "Layer_0_data_preprocessed=(layer_0_data)/nrm_l0\n",
    "Layer_1_data_preprocessed=(layer_1_data)/nrm_l1\n",
    "Layer_2_data_preprocessed=(layer_2_data)/nrm_l2\n",
    "energy = energy / nrm_e\n",
    "#data, noise and preprocessing "
   ]
  },
  {
   "cell_type": "code",
   "execution_count": 7,
   "metadata": {
    "execution": {
     "iopub.execute_input": "2022-12-25T13:30:28.596790Z",
     "iopub.status.busy": "2022-12-25T13:30:28.596422Z",
     "iopub.status.idle": "2022-12-25T13:30:31.677819Z",
     "shell.execute_reply": "2022-12-25T13:30:31.676686Z",
     "shell.execute_reply.started": "2022-12-25T13:30:28.596765Z"
    }
   },
   "outputs": [
    {
     "name": "stdout",
     "output_type": "stream",
     "text": [
      "(500000, 2)\n",
      "6\n",
      "[[0.00580476 0.02361415 0.01326333]\n",
      " [0.01948256 0.76968743 0.07553522]\n",
      " [0.01260247 0.06561635 0.02826863]]\n",
      "(500000, 2)\n",
      "1\n",
      "[[0.02446623 0.         0.00394014]\n",
      " [0.00839246 0.0401287  0.01810443]\n",
      " [0.         0.00483277 0.0124329 ]]\n"
     ]
    }
   ],
   "source": [
    "messages_l1_gnn = extract_message(Layer_1_data_preprocessed)\n",
    "messages_l2_gnn = extract_message(Layer_2_data_preprocessed)\n",
    "#first gnn inputs"
   ]
  },
  {
   "cell_type": "code",
   "execution_count": 8,
   "metadata": {
    "execution": {
     "iopub.execute_input": "2022-12-25T13:30:33.350433Z",
     "iopub.status.busy": "2022-12-25T13:30:33.350059Z",
     "iopub.status.idle": "2022-12-25T13:31:44.063531Z",
     "shell.execute_reply": "2022-12-25T13:31:44.062812Z",
     "shell.execute_reply.started": "2022-12-25T13:30:33.350413Z"
    }
   },
   "outputs": [],
   "source": [
    "#Data Preprocessing and Exclusion of Some Data\n",
    "def empty2D(par):\n",
    "    empty1=par==np.zeros((3,3))\n",
    "    empty1=np.logical_and.reduce(empty1, axis = 2)\n",
    "    empty1=np.array(np.where(empty1==True))\n",
    "    empty1=empty1[0]\n",
    "    empty1=set(empty1)\n",
    "    return empty1\n",
    "def intersect2L(layer1,layer2):\n",
    "    intersect=layer1.union(layer2)\n",
    "    return intersect\n",
    "emp1=empty2D(messages_l1_gnn)\n",
    "emp2=empty2D(messages_l2_gnn)\n",
    "excluded_data1=intersect2L(emp1,emp2)\n",
    "excluded_data1=np.array([list(excluded_data1)])\n",
    "excluded_data1.shape\n",
    "included_data1=[]\n",
    "for index in range(messages_l1_gnn.shape[0]):\n",
    "    if ((index in excluded_data1)==False):\n",
    "        included_data1.append(index)"
   ]
  },
  {
   "cell_type": "code",
   "execution_count": 9,
   "metadata": {
    "execution": {
     "iopub.execute_input": "2022-12-25T13:31:44.065311Z",
     "iopub.status.busy": "2022-12-25T13:31:44.064938Z",
     "iopub.status.idle": "2022-12-25T13:31:47.041516Z",
     "shell.execute_reply": "2022-12-25T13:31:47.040796Z",
     "shell.execute_reply.started": "2022-12-25T13:31:44.065287Z"
    }
   },
   "outputs": [
    {
     "data": {
      "text/plain": [
       "(149121, 3, 96)"
      ]
     },
     "execution_count": 9,
     "metadata": {},
     "output_type": "execute_result"
    }
   ],
   "source": [
    "inp1_gnnbaseline=np.copy(Layer_0_data_preprocessed)[included_data1]\n",
    "messages_l1_gnn1=np.copy(messages_l1_gnn)[included_data1]\n",
    "messages_l2_gnn1=np.copy(messages_l2_gnn)[included_data1]\n",
    "inp1_gnnbaseline.shape"
   ]
  },
  {
   "cell_type": "code",
   "execution_count": 114,
   "metadata": {
    "execution": {
     "iopub.execute_input": "2022-11-22T19:36:39.328872Z",
     "iopub.status.busy": "2022-11-22T19:36:39.328437Z",
     "iopub.status.idle": "2022-11-22T19:36:39.344756Z",
     "shell.execute_reply": "2022-11-22T19:36:39.343545Z",
     "shell.execute_reply.started": "2022-11-22T19:36:39.328829Z"
    }
   },
   "outputs": [],
   "source": [
    "#Input Check\n",
    "def check_layer_0(ind):\n",
    "    fig, ax=plt.subplots(1,3)\n",
    "    ax[0].imshow(layer_0_data_st[ind], aspect=\"auto\")\n",
    "    ax[1].imshow(particle0_1[ind])\n",
    "    print(max_loc(layer_0_data_st)[ind,1])\n",
    "    ax[2].imshow(particle0_2[ind])\n",
    "    print(particle0_1[ind], particle0_2[ind])\n",
    "    print(max_loc(layer_0_data_st)[ind])\n",
    "    print(max_loc(layer_clone_0_1)[ind])\n",
    "def check_layer_2(ind):\n",
    "    fig, ax=plt.subplots(1,3)\n",
    "    ax[0].imshow(layer_2_data_st[ind], aspect=\"auto\")\n",
    "    ax[1].imshow(particle2_1[ind])\n",
    "    print(max_loc(layer_2_data_st)[ind,1])\n",
    "    ax[2].imshow(particle2_2[ind])\n",
    "    print(particle2_1[ind], particle2_2[ind])\n",
    "    print(max_loc(layer_2_data_st)[ind])\n",
    "    print(max_loc(layer_clone_2_1)[ind])\n",
    "def check_layer_1(int):\n",
    "    fig, ax=plt.subplots(1,4)\n",
    "    ax[0].imshow(particle1_1[int])\n",
    "    ax[1].imshow(layer_1_data_st[int])\n",
    "    ax[2].imshow(particle1_2[int])\n",
    "    ax[3].imshow(layer_clone_1_1[int])\n",
    "    print(max_loc(layer_1_data_st)[int])\n",
    "    print(max_loc(layer_clone_1_1)[int])\n",
    "    print(particle1_1[int])\n",
    "    print(particle1_2[int])"
   ]
  },
  {
   "cell_type": "code",
   "execution_count": 11,
   "metadata": {
    "execution": {
     "iopub.execute_input": "2022-12-24T12:05:20.698609Z",
     "iopub.status.busy": "2022-12-24T12:05:20.698326Z",
     "iopub.status.idle": "2022-12-24T12:05:20.907102Z",
     "shell.execute_reply": "2022-12-24T12:05:20.906399Z",
     "shell.execute_reply.started": "2022-12-24T12:05:20.698585Z"
    },
    "scrolled": true,
    "tags": []
   },
   "outputs": [
    {
     "name": "stdout",
     "output_type": "stream",
     "text": [
      "5\n",
      "6\n",
      "0.7227150696723847\n",
      "(500000, 2)\n",
      "[0.         0.00350288]\n"
     ]
    }
   ],
   "source": [
    "#DNN and CNN Data Generation\n",
    "layer1_flat_2D=np.reshape(Layer_1_data_preprocessed,[500000,144])\n",
    "maxx = np.argmax(layer1_flat_2D,axis=1)//12\n",
    "maxy = np.argmax(layer1_flat_2D,axis=1)%12\n",
    "max = np.stack([maxy,maxx],axis=1)\n",
    "maxes = Layer_1_data_preprocessed.take(max)\n",
    "print(maxx[0])\n",
    "print(maxy[0])\n",
    "print(Layer_1_data_preprocessed[0][5][6])\n",
    "print(maxes.shape)\n",
    "print(maxes[0])"
   ]
  },
  {
   "cell_type": "code",
   "execution_count": 12,
   "metadata": {
    "execution": {
     "iopub.execute_input": "2022-12-24T12:05:20.911360Z",
     "iopub.status.busy": "2022-12-24T12:05:20.911058Z",
     "iopub.status.idle": "2022-12-24T12:05:20.916675Z",
     "shell.execute_reply": "2022-12-24T12:05:20.915525Z",
     "shell.execute_reply.started": "2022-12-24T12:05:20.911335Z"
    },
    "id": "I7a-mPR6O9qa"
   },
   "outputs": [],
   "source": [
    "#DNN Preprocessing-1\n",
    "flatten_layer_0=Layer_0_data_preprocessed.reshape(500000,3*96)\n",
    "flatten_layer_1=Layer_1_data_preprocessed.reshape(500000,12*12)\n",
    "flatten_layer_2=Layer_2_data_preprocessed.reshape(500000,6*12)\n",
    "#from random import randint"
   ]
  },
  {
   "cell_type": "code",
   "execution_count": 10,
   "metadata": {
    "execution": {
     "iopub.execute_input": "2022-12-25T13:31:47.043102Z",
     "iopub.status.busy": "2022-12-25T13:31:47.042702Z",
     "iopub.status.idle": "2022-12-25T13:31:47.389200Z",
     "shell.execute_reply": "2022-12-25T13:31:47.388520Z",
     "shell.execute_reply.started": "2022-12-25T13:31:47.043076Z"
    },
    "id": "Qpn56IptgnKn"
   },
   "outputs": [],
   "source": [
    "#Test-Trial\n",
    "from sklearn.model_selection import train_test_split\n",
    "#layer_0_train, layer_0_test, energy_train, energy_test,  layer_1_train,layer_1_test, layer_2_train, layer_2_test= train_test_split(flatten_layer_0,  energy, flatten_layer_1, flatten_layer_2,  test_size=0.4, random_state=42)\n",
    "#layer_0_train_2D, layer_0_test_2D, energy_train, energy_test,layer_1_train2d,layer_1_test2d,layer_2_train2d,layer_2_test2d=train_test_split(Layer_0_data_preprocessed,  energy, Layer_1_data_preprocessed, Layer_2_data_preprocessed,test_size=0.4, random_state=42)\n",
    "energy_gnn_train,energy_gnn_test,layer0gnn_train,layer0_gnn_test, messages_l1_gnn_train, messages_l1_gnn_test, messages_l2_gnn_train, messages_l2_gnn_test= train_test_split(energy[included_data1],inp1_gnnbaseline, messages_l1_gnn1, messages_l2_gnn1 ,test_size=0.4, random_state=42)"
   ]
  },
  {
   "cell_type": "code",
   "execution_count": null,
   "metadata": {
    "execution": {
     "iopub.execute_input": "2022-12-24T11:58:41.854410Z",
     "iopub.status.busy": "2022-12-24T11:58:41.854157Z"
    },
    "id": "TOYVznGWZMyy"
   },
   "outputs": [],
   "source": [
    "#DNN Preprocessing-2\n",
    "lc1_test=np.array([np.concatenate((layer_0_test, layer_1_test, layer_2_test),axis=1)  ])\n",
    "lc1_train=np.array([np.concatenate((layer_0_train, layer_1_train, layer_2_train),axis=1)  ])\n",
    "lc1_train=lc1_train.reshape(lc1_train.shape[1],lc1_train.shape[2])\n",
    "lc1_test=lc1_test.reshape(lc1_test.shape[1],lc1_test.shape[2])"
   ]
  },
  {
   "cell_type": "code",
   "execution_count": 57,
   "metadata": {
    "execution": {
     "iopub.execute_input": "2022-12-10T18:22:29.446220Z",
     "iopub.status.busy": "2022-12-10T18:22:29.445970Z",
     "iopub.status.idle": "2022-12-10T18:22:29.450975Z",
     "shell.execute_reply": "2022-12-10T18:22:29.450206Z",
     "shell.execute_reply.started": "2022-12-10T18:22:29.446195Z"
    },
    "id": "Z06AW0WdFnIy"
   },
   "outputs": [
    {
     "name": "stdout",
     "output_type": "stream",
     "text": [
      "(200000, 504)\n",
      "(200000,)\n",
      "(300000, 504)\n",
      "(300000,)\n"
     ]
    }
   ],
   "source": [
    "print(lc1_test.shape) \n",
    "print(energy_test.shape)\n",
    "print(lc1_train.shape)\n",
    "print(energy_train.shape) "
   ]
  },
  {
   "cell_type": "code",
   "execution_count": 11,
   "metadata": {
    "execution": {
     "iopub.execute_input": "2022-12-25T13:31:55.021195Z",
     "iopub.status.busy": "2022-12-25T13:31:55.020687Z",
     "iopub.status.idle": "2022-12-25T13:31:55.025986Z",
     "shell.execute_reply": "2022-12-25T13:31:55.025315Z",
     "shell.execute_reply.started": "2022-12-25T13:31:55.021167Z"
    },
    "id": "7yz029HZvne9"
   },
   "outputs": [],
   "source": [
    "#Model Run Settings\n",
    "def run_experiment(model, x_train, y_train):\n",
    "    \n",
    "    model.compile(\n",
    "        optimizer=keras.optimizers.Adam(0.003),\n",
    "        loss=keras.losses.MeanSquaredError(reduction=\"auto\", name=\"mean_squared_error\")#,\n",
    "        #metrics=tf.keras.metrics.BinaryAccuracy(),\n",
    "    )\n",
    "    \n",
    "    early_stopping = keras.callbacks.EarlyStopping(\n",
    "        monitor=\"val_loss\", patience=50, restore_best_weights=True\n",
    "    )\n",
    "    \n",
    "    history = model.fit(\n",
    "        x=x_train,\n",
    "        y=y_train,\n",
    "        epochs=50,\n",
    "        batch_size=1024,\n",
    "        validation_split=0.2,\n",
    "        callbacks=[early_stopping],\n",
    "    )\n",
    "\n",
    "    return history"
   ]
  },
  {
   "cell_type": "code",
   "execution_count": 12,
   "metadata": {
    "execution": {
     "iopub.execute_input": "2022-12-25T13:31:56.942805Z",
     "iopub.status.busy": "2022-12-25T13:31:56.942535Z",
     "iopub.status.idle": "2022-12-25T13:31:57.977459Z",
     "shell.execute_reply": "2022-12-25T13:31:57.976528Z",
     "shell.execute_reply.started": "2022-12-25T13:31:56.942778Z"
    },
    "id": "AgJ2Mj70s9fk"
   },
   "outputs": [
    {
     "name": "stdout",
     "output_type": "stream",
     "text": [
      "Model: \"dnn\"\n",
      "_________________________________________________________________\n",
      " Layer (type)                Output Shape              Param #   \n",
      "=================================================================\n",
      " input_features (InputLayer)  [(None, 504)]            0         \n",
      "                                                                 \n",
      " dense (Dense)               (None, 1024)              517120    \n",
      "                                                                 \n",
      " dropout (Dropout)           (None, 1024)              0         \n",
      "                                                                 \n",
      " dense_1 (Dense)             (None, 512)               524800    \n",
      "                                                                 \n",
      " dropout_1 (Dropout)         (None, 512)               0         \n",
      "                                                                 \n",
      " dense_2 (Dense)             (None, 64)                32832     \n",
      "                                                                 \n",
      " dropout_2 (Dropout)         (None, 64)                0         \n",
      "                                                                 \n",
      " output (Dense)              (None, 1)                 65        \n",
      "                                                                 \n",
      "=================================================================\n",
      "Total params: 1,074,817\n",
      "Trainable params: 1,074,817\n",
      "Non-trainable params: 0\n",
      "_________________________________________________________________\n"
     ]
    }
   ],
   "source": [
    "#DNN \n",
    "import keras.layers as layers\n",
    "import tensorflow as tf\n",
    "hidden_units = [1024, 512,64]\n",
    "def dnn(hidden_units, num_classes, dropout_rate):\n",
    "    inputs = layers.Input(shape=(144+(96*3)+72,), name=\"input_features\")\n",
    "    x = inputs\n",
    "    for units in hidden_units:        \n",
    "        x  = layers.Dense(units, activation=tf.nn.relu)(x)\n",
    "        x  = layers.Dropout(rate=dropout_rate)(x)\n",
    "    logits = layers.Dense(num_classes, name=\"output\")(x)\n",
    "    # Create the model.\n",
    "    return keras.Model(inputs=inputs, outputs=logits, name=\"dnn\")\n",
    "baseline_model = dnn(hidden_units, 1, 0)\n",
    "baseline_model.summary()"
   ]
  },
  {
   "cell_type": "code",
   "execution_count": 17,
   "metadata": {
    "execution": {
     "iopub.execute_input": "2022-12-10T18:52:12.478615Z",
     "iopub.status.busy": "2022-12-10T18:52:12.477779Z",
     "iopub.status.idle": "2022-12-10T18:52:12.489916Z",
     "shell.execute_reply": "2022-12-10T18:52:12.488444Z",
     "shell.execute_reply.started": "2022-12-10T18:52:12.478578Z"
    }
   },
   "outputs": [],
   "source": [
    "#CNN\n",
    "def cnn(hidden_units, num_classes, dropout_rate):\n",
    "    inputs0 = layers.Input(shape=(3,96,1,), name=\"input_features_l0\")\n",
    "    inputs1 = layers.Input(shape=(12,12,1,), name=\"input_features_l1\")\n",
    "    inputs2 = layers.Input(shape=(12,6,1,), name=\"input_features_l2\")\n",
    "    cnn0 = layers.Conv2D(32, 3, activation='relu', padding='same')(inputs0)\n",
    "    cnn0 = layers.Conv2D(64, 3, activation='relu', padding='same')(cnn0)\n",
    "    #cnn0 = layers.Conv2D(128, 5, activation='relu', padding='same')(cnn0)\n",
    "    cnn0 = layers.Flatten()(cnn0)\n",
    "    inputs0_flat = layers.Flatten()(inputs0)\n",
    "    cnn0Comb = layers.Concatenate()([cnn0,inputs0_flat])\n",
    "    cnn1 = layers.Conv2D(32, 3, activation='relu', padding='same')(inputs1)\n",
    "    cnn1 = layers.Conv2D(64, 3, activation='relu', padding='same')(cnn1)\n",
    "    #cnn1 = layers.Conv2D(128, 5, activation='relu', padding='same')(cnn1)\n",
    "    cnn1 = layers.Flatten()(cnn1)\n",
    "    inputs1_flat = layers.Flatten()(inputs1)\n",
    "    cnn1Comb = layers.Concatenate()([cnn1,inputs1_flat])\n",
    "    cnn2 = layers.Conv2D(32, 3, activation='relu', padding='same')(inputs2)\n",
    "    cnn2 = layers.Conv2D(64, 3, activation='relu', padding='same')(cnn2)  \n",
    "    #cnn2 = layers.Conv2D(128, 5, activation='relu', padding='same')(cnn2)      \n",
    "    cnn2 = layers.Flatten()(cnn2)\n",
    "    inputs2_flat = layers.Flatten()(inputs2)\n",
    "    cnn2Comb = layers.Concatenate()([cnn2,inputs2_flat])\n",
    "    x =  layers.Concatenate()([cnn0Comb,cnn1Comb,cnn2Comb])\n",
    "    for units in hidden_units:        \n",
    "        x  = layers.Dense(units, activation=tf.nn.relu)(x)\n",
    "        x  = layers.Dropout(rate=dropout_rate)(x)\n",
    "    logits = layers.Dense(num_classes, name=\"output\")(x)\n",
    "    return keras.Model(inputs=(inputs0,inputs1,inputs2), outputs=logits, name=\"cnn\")"
   ]
  },
  {
   "cell_type": "code",
   "execution_count": 13,
   "metadata": {
    "execution": {
     "iopub.execute_input": "2022-12-25T13:32:00.781902Z",
     "iopub.status.busy": "2022-12-25T13:32:00.781534Z",
     "iopub.status.idle": "2022-12-25T13:32:00.790678Z",
     "shell.execute_reply": "2022-12-25T13:32:00.789935Z",
     "shell.execute_reply.started": "2022-12-25T13:32:00.781873Z"
    }
   },
   "outputs": [],
   "source": [
    "#GNN\n",
    "def gnn(hidden_units, num_classes, dropout_rate):\n",
    "    inputs0 = layers.Input(shape=(3,96,1,), name=\"input_features_l0\")\n",
    "    inputs1 = layers.Input(shape=(3,3,1,), name=\"input_features_l1\")\n",
    "    inputs2 = layers.Input(shape=(3,3,1,), name=\"input_features_l2\")\n",
    "    cnn0 = layers.Conv2D(32, 3, activation='relu', padding='same')(inputs0)\n",
    "    cnn0 = layers.Conv2D(64, 3, activation='relu', padding='same')(cnn0)\n",
    "    #cnn0 = layers.Conv2D(128, 5, activation='relu', padding='same')(cnn0)\n",
    "    cnn0 = layers.Flatten()(cnn0)\n",
    "    inputs0_flat = layers.Flatten()(inputs0)\n",
    "    cnn0Comb = layers.Concatenate()([cnn0,inputs0_flat])\n",
    "    cnn1 = layers.Conv2D(32, 2, activation='relu', padding='same')(inputs1)\n",
    "    #cnn1 = layers.Conv2D(64, 2, activation='relu', padding='same')(cnn1)\n",
    "    #cnn1 = layers.Conv2D(128, 5, activation='relu', padding='same')(cnn1)\n",
    "    cnn1 = layers.Flatten()(cnn1)\n",
    "    inputs1_flat = layers.Flatten()(inputs1)\n",
    "    cnn1Comb = layers.Concatenate()([cnn1,inputs1_flat])\n",
    "    cnn2 = layers.Conv2D(32, 2, activation='relu', padding='same')(inputs2)\n",
    "    #cnn2 = layers.Conv2D(64, 2, activation='relu', padding='same')(cnn2)  \n",
    "    #cnn2 = layers.Conv2D(128, 5, activation='relu', padding='same')(cnn2)      \n",
    "    cnn2 = layers.Flatten()(cnn2)\n",
    "    inputs2_flat = layers.Flatten()(inputs2)\n",
    "    cnn2Comb = layers.Concatenate()([cnn2,inputs2_flat])\n",
    "    x =  layers.Concatenate()([cnn0Comb,cnn1Comb,cnn2Comb])\n",
    "    for units in hidden_units:        \n",
    "        x  = layers.Dense(units, activation=tf.nn.relu)(x)\n",
    "        x  = layers.Dropout(rate=dropout_rate)(x)\n",
    "    logits = layers.Dense(num_classes, name=\"output\")(x)\n",
    "    return keras.Model(inputs=(inputs0,inputs1,inputs2), outputs=logits, name=\"gnn\")"
   ]
  },
  {
   "cell_type": "code",
   "execution_count": 15,
   "metadata": {
    "execution": {
     "iopub.execute_input": "2022-12-25T13:32:06.698112Z",
     "iopub.status.busy": "2022-12-25T13:32:06.697669Z",
     "iopub.status.idle": "2022-12-25T13:32:06.863070Z",
     "shell.execute_reply": "2022-12-25T13:32:06.862059Z",
     "shell.execute_reply.started": "2022-12-25T13:32:06.698080Z"
    }
   },
   "outputs": [
    {
     "name": "stdout",
     "output_type": "stream",
     "text": [
      "Model: \"gnn\"\n",
      "__________________________________________________________________________________________________\n",
      " Layer (type)                   Output Shape         Param #     Connected to                     \n",
      "==================================================================================================\n",
      " input_features_l0 (InputLayer)  [(None, 3, 96, 1)]  0           []                               \n",
      "                                                                                                  \n",
      " conv2d (Conv2D)                (None, 3, 96, 32)    320         ['input_features_l0[0][0]']      \n",
      "                                                                                                  \n",
      " input_features_l1 (InputLayer)  [(None, 3, 3, 1)]   0           []                               \n",
      "                                                                                                  \n",
      " input_features_l2 (InputLayer)  [(None, 3, 3, 1)]   0           []                               \n",
      "                                                                                                  \n",
      " conv2d_1 (Conv2D)              (None, 3, 96, 64)    18496       ['conv2d[0][0]']                 \n",
      "                                                                                                  \n",
      " conv2d_2 (Conv2D)              (None, 3, 3, 32)     160         ['input_features_l1[0][0]']      \n",
      "                                                                                                  \n",
      " conv2d_3 (Conv2D)              (None, 3, 3, 32)     160         ['input_features_l2[0][0]']      \n",
      "                                                                                                  \n",
      " flatten (Flatten)              (None, 18432)        0           ['conv2d_1[0][0]']               \n",
      "                                                                                                  \n",
      " flatten_1 (Flatten)            (None, 288)          0           ['input_features_l0[0][0]']      \n",
      "                                                                                                  \n",
      " flatten_2 (Flatten)            (None, 288)          0           ['conv2d_2[0][0]']               \n",
      "                                                                                                  \n",
      " flatten_3 (Flatten)            (None, 9)            0           ['input_features_l1[0][0]']      \n",
      "                                                                                                  \n",
      " flatten_4 (Flatten)            (None, 288)          0           ['conv2d_3[0][0]']               \n",
      "                                                                                                  \n",
      " flatten_5 (Flatten)            (None, 9)            0           ['input_features_l2[0][0]']      \n",
      "                                                                                                  \n",
      " concatenate (Concatenate)      (None, 18720)        0           ['flatten[0][0]',                \n",
      "                                                                  'flatten_1[0][0]']              \n",
      "                                                                                                  \n",
      " concatenate_1 (Concatenate)    (None, 297)          0           ['flatten_2[0][0]',              \n",
      "                                                                  'flatten_3[0][0]']              \n",
      "                                                                                                  \n",
      " concatenate_2 (Concatenate)    (None, 297)          0           ['flatten_4[0][0]',              \n",
      "                                                                  'flatten_5[0][0]']              \n",
      "                                                                                                  \n",
      " concatenate_3 (Concatenate)    (None, 19314)        0           ['concatenate[0][0]',            \n",
      "                                                                  'concatenate_1[0][0]',          \n",
      "                                                                  'concatenate_2[0][0]']          \n",
      "                                                                                                  \n",
      " dense_3 (Dense)                (None, 1024)         19778560    ['concatenate_3[0][0]']          \n",
      "                                                                                                  \n",
      " dropout_3 (Dropout)            (None, 1024)         0           ['dense_3[0][0]']                \n",
      "                                                                                                  \n",
      " dense_4 (Dense)                (None, 512)          524800      ['dropout_3[0][0]']              \n",
      "                                                                                                  \n",
      " dropout_4 (Dropout)            (None, 512)          0           ['dense_4[0][0]']                \n",
      "                                                                                                  \n",
      " dense_5 (Dense)                (None, 64)           32832       ['dropout_4[0][0]']              \n",
      "                                                                                                  \n",
      " dropout_5 (Dropout)            (None, 64)           0           ['dense_5[0][0]']                \n",
      "                                                                                                  \n",
      " output (Dense)                 (None, 1)            65          ['dropout_5[0][0]']              \n",
      "                                                                                                  \n",
      "==================================================================================================\n",
      "Total params: 20,355,393\n",
      "Trainable params: 20,355,393\n",
      "Non-trainable params: 0\n",
      "__________________________________________________________________________________________________\n"
     ]
    }
   ],
   "source": [
    "gnn_model = gnn(hidden_units, 1, 0.1)\n",
    "gnn_model.summary()"
   ]
  },
  {
   "cell_type": "code",
   "execution_count": 16,
   "metadata": {
    "execution": {
     "iopub.execute_input": "2022-12-25T13:32:12.092983Z",
     "iopub.status.busy": "2022-12-25T13:32:12.092630Z",
     "iopub.status.idle": "2022-12-25T13:40:35.244488Z",
     "shell.execute_reply": "2022-12-25T13:40:35.243175Z",
     "shell.execute_reply.started": "2022-12-25T13:32:12.092934Z"
    }
   },
   "outputs": [
    {
     "name": "stdout",
     "output_type": "stream",
     "text": [
      "Epoch 1/50\n",
      "70/70 [==============================] - 19s 168ms/step - loss: 0.0482 - val_loss: 8.7332e-04\n",
      "Epoch 2/50\n",
      "70/70 [==============================] - 9s 134ms/step - loss: 0.0044 - val_loss: 2.3272e-04\n",
      "Epoch 3/50\n",
      "70/70 [==============================] - 9s 132ms/step - loss: 0.0037 - val_loss: 3.4772e-04\n",
      "Epoch 4/50\n",
      "70/70 [==============================] - 10s 140ms/step - loss: 0.0034 - val_loss: 2.4785e-04\n",
      "Epoch 5/50\n",
      "70/70 [==============================] - 10s 137ms/step - loss: 0.0031 - val_loss: 2.1762e-04\n",
      "Epoch 6/50\n",
      "70/70 [==============================] - 9s 133ms/step - loss: 0.0029 - val_loss: 3.4659e-04\n",
      "Epoch 7/50\n",
      "70/70 [==============================] - 9s 133ms/step - loss: 0.0028 - val_loss: 4.1937e-04\n",
      "Epoch 8/50\n",
      "70/70 [==============================] - 9s 133ms/step - loss: 0.0025 - val_loss: 3.4331e-04\n",
      "Epoch 9/50\n",
      "70/70 [==============================] - 9s 134ms/step - loss: 0.0023 - val_loss: 2.7771e-04\n",
      "Epoch 10/50\n",
      "70/70 [==============================] - 10s 141ms/step - loss: 0.0022 - val_loss: 2.3706e-04\n",
      "Epoch 11/50\n",
      "70/70 [==============================] - 9s 133ms/step - loss: 0.0021 - val_loss: 7.2949e-04\n",
      "Epoch 12/50\n",
      "70/70 [==============================] - 9s 133ms/step - loss: 0.0020 - val_loss: 2.2300e-04\n",
      "Epoch 13/50\n",
      "70/70 [==============================] - 9s 133ms/step - loss: 0.0019 - val_loss: 3.6972e-04\n",
      "Epoch 14/50\n",
      "70/70 [==============================] - 9s 133ms/step - loss: 0.0018 - val_loss: 7.0298e-04\n",
      "Epoch 15/50\n",
      "70/70 [==============================] - 9s 133ms/step - loss: 0.0017 - val_loss: 7.1039e-04\n",
      "Epoch 16/50\n",
      "70/70 [==============================] - 9s 133ms/step - loss: 0.0017 - val_loss: 5.9251e-04\n",
      "Epoch 17/50\n",
      "70/70 [==============================] - 9s 133ms/step - loss: 0.0016 - val_loss: 9.4138e-04\n",
      "Epoch 18/50\n",
      "70/70 [==============================] - 9s 133ms/step - loss: 0.0016 - val_loss: 6.9397e-04\n",
      "Epoch 19/50\n",
      "70/70 [==============================] - 9s 133ms/step - loss: 0.0015 - val_loss: 3.7972e-04\n",
      "Epoch 20/50\n",
      "70/70 [==============================] - 9s 133ms/step - loss: 0.0014 - val_loss: 3.6555e-04\n",
      "Epoch 21/50\n",
      "70/70 [==============================] - 9s 133ms/step - loss: 0.0013 - val_loss: 5.8932e-04\n",
      "Epoch 22/50\n",
      "70/70 [==============================] - 9s 133ms/step - loss: 0.0013 - val_loss: 8.2837e-04\n",
      "Epoch 23/50\n",
      "70/70 [==============================] - 9s 133ms/step - loss: 0.0013 - val_loss: 6.0959e-04\n",
      "Epoch 24/50\n",
      "70/70 [==============================] - 9s 133ms/step - loss: 0.0012 - val_loss: 6.4379e-04\n",
      "Epoch 25/50\n",
      "70/70 [==============================] - 9s 133ms/step - loss: 0.0012 - val_loss: 2.7931e-04\n",
      "Epoch 26/50\n",
      "70/70 [==============================] - 9s 133ms/step - loss: 0.0011 - val_loss: 6.2576e-04\n",
      "Epoch 27/50\n",
      "70/70 [==============================] - 9s 133ms/step - loss: 0.0011 - val_loss: 4.6048e-04\n",
      "Epoch 28/50\n",
      "70/70 [==============================] - 9s 133ms/step - loss: 0.0010 - val_loss: 5.4018e-04\n",
      "Epoch 29/50\n",
      "70/70 [==============================] - 9s 133ms/step - loss: 0.0010 - val_loss: 5.1467e-04\n",
      "Epoch 30/50\n",
      "70/70 [==============================] - 9s 133ms/step - loss: 0.0010 - val_loss: 7.6532e-04\n",
      "Epoch 31/50\n",
      "70/70 [==============================] - 9s 133ms/step - loss: 9.8587e-04 - val_loss: 5.7539e-04\n",
      "Epoch 32/50\n",
      "70/70 [==============================] - 9s 133ms/step - loss: 9.6610e-04 - val_loss: 4.7107e-04\n",
      "Epoch 33/50\n",
      "70/70 [==============================] - 9s 133ms/step - loss: 9.6248e-04 - val_loss: 8.7791e-04\n",
      "Epoch 34/50\n",
      "70/70 [==============================] - 9s 133ms/step - loss: 9.3327e-04 - val_loss: 8.9899e-04\n",
      "Epoch 35/50\n",
      "70/70 [==============================] - 9s 133ms/step - loss: 9.1542e-04 - val_loss: 5.9163e-04\n",
      "Epoch 36/50\n",
      "70/70 [==============================] - 9s 133ms/step - loss: 9.0234e-04 - val_loss: 4.0405e-04\n",
      "Epoch 37/50\n",
      "70/70 [==============================] - 9s 133ms/step - loss: 8.9627e-04 - val_loss: 5.1402e-04\n",
      "Epoch 38/50\n",
      "70/70 [==============================] - 9s 133ms/step - loss: 8.7119e-04 - val_loss: 0.0013\n",
      "Epoch 39/50\n",
      "70/70 [==============================] - 9s 133ms/step - loss: 8.5626e-04 - val_loss: 4.5770e-04\n",
      "Epoch 40/50\n",
      "70/70 [==============================] - 9s 133ms/step - loss: 8.5521e-04 - val_loss: 5.7315e-04\n",
      "Epoch 41/50\n",
      "70/70 [==============================] - 9s 134ms/step - loss: 8.4779e-04 - val_loss: 4.9894e-04\n",
      "Epoch 42/50\n",
      "70/70 [==============================] - 9s 133ms/step - loss: 8.2324e-04 - val_loss: 7.0379e-04\n",
      "Epoch 43/50\n",
      "70/70 [==============================] - 9s 134ms/step - loss: 8.2809e-04 - val_loss: 5.4539e-04\n",
      "Epoch 44/50\n",
      "70/70 [==============================] - 9s 133ms/step - loss: 8.2030e-04 - val_loss: 6.7068e-04\n",
      "Epoch 45/50\n",
      "70/70 [==============================] - 9s 134ms/step - loss: 8.2532e-04 - val_loss: 7.9105e-04\n",
      "Epoch 46/50\n",
      "70/70 [==============================] - 9s 133ms/step - loss: 7.8965e-04 - val_loss: 3.7999e-04\n",
      "Epoch 47/50\n",
      "70/70 [==============================] - 9s 133ms/step - loss: 8.3616e-04 - val_loss: 3.2009e-04\n",
      "Epoch 48/50\n",
      "70/70 [==============================] - 9s 134ms/step - loss: 7.8334e-04 - val_loss: 7.2431e-04\n",
      "Epoch 49/50\n",
      "70/70 [==============================] - 9s 133ms/step - loss: 7.7285e-04 - val_loss: 0.0010\n",
      "Epoch 50/50\n",
      "70/70 [==============================] - 9s 133ms/step - loss: 7.6126e-04 - val_loss: 0.0010\n"
     ]
    }
   ],
   "source": [
    "history_gnn=run_experiment(gnn_model,[layer0gnn_train,messages_l1_gnn_train,messages_l2_gnn_train],energy_gnn_train)"
   ]
  },
  {
   "cell_type": "code",
   "execution_count": 18,
   "metadata": {
    "execution": {
     "iopub.execute_input": "2022-12-25T13:41:46.210127Z",
     "iopub.status.busy": "2022-12-25T13:41:46.209725Z",
     "iopub.status.idle": "2022-12-25T13:41:52.726849Z",
     "shell.execute_reply": "2022-12-25T13:41:52.725813Z",
     "shell.execute_reply.started": "2022-12-25T13:41:46.210098Z"
    },
    "id": "PUPhTztZvza-"
   },
   "outputs": [
    {
     "name": "stdout",
     "output_type": "stream",
     "text": [
      "1865/1865 [==============================] - 6s 3ms/step\n"
     ]
    }
   ],
   "source": [
    "#GNN Prediction\n",
    "gnn_predict=gnn_model.predict(x=[layer0_gnn_test,messages_l1_gnn_test,messages_l2_gnn_test], verbose=1)"
   ]
  },
  {
   "cell_type": "code",
   "execution_count": 26,
   "metadata": {
    "execution": {
     "iopub.execute_input": "2022-12-25T13:43:48.051455Z",
     "iopub.status.busy": "2022-12-25T13:43:48.050866Z",
     "iopub.status.idle": "2022-12-25T13:43:48.375472Z",
     "shell.execute_reply": "2022-12-25T13:43:48.374185Z",
     "shell.execute_reply.started": "2022-12-25T13:43:48.051455Z"
    },
    "id": "267imLDtGgt2"
   },
   "outputs": [
    {
     "data": {
      "image/png": "[encoded data removed]",
      "text/plain": [
       "<Figure size 432x288 with 1 Axes>"
      ]
     },
     "metadata": {
      "needs_background": "light"
     },
     "output_type": "display_data"
    }
   ],
   "source": [
    "#GNN Energy Resolution\n",
    "np.array(gnn_predict)\n",
    "import matplotlib.pyplot as plt\n",
    "par_diff=(np.array(gnn_predict)[:,0]-np.array(energy_gnn_test)[:])/np.array(energy_gnn_test)[:]\n",
    "plt.hist(par_diff,range=[-0.1,0.1],bins=100, color=\"g\", label=\"gnn_baseline\")\n",
    "plt.ylabel(\"Frequency\", fontsize=15)\n",
    "plt.xlabel(\"$E_{\\t{Resolution}}$\", fontsize=15)\n",
    "plt.tick_params(labelsize=10)\n",
    "#Axis Title larını büyüt, başlangıç title ı çıkart, dimension verme. delta E"
   ]
  },
  {
   "cell_type": "code",
   "execution_count": 26,
   "metadata": {
    "execution": {
     "iopub.execute_input": "2022-12-10T19:01:58.930596Z",
     "iopub.status.busy": "2022-12-10T19:01:58.929583Z",
     "iopub.status.idle": "2022-12-10T19:01:59.240862Z",
     "shell.execute_reply": "2022-12-10T19:01:59.240159Z",
     "shell.execute_reply.started": "2022-12-10T19:01:58.930543Z"
    },
    "id": "BW0EWDIQ6Rhd"
   },
   "outputs": [
    {
     "data": {
      "text/plain": [
       "(array([0.35225913, 1.3512299 , 1.10193838, 0.93213223, 1.32232606,\n",
       "        1.21755159, 1.26813338, 1.03509949, 1.01884221, 0.90322818,\n",
       "        0.92490566, 0.93213148, 0.92129422, 1.05316406, 1.06761571,\n",
       "        1.04774469, 1.1218094 , 1.11277891, 1.28258402, 1.08929318,\n",
       "        1.02426076, 1.00800265, 1.00439135, 1.04232364, 1.11097245,\n",
       "        1.39097363, 1.38916271, 1.22297292, 1.17238829, 1.02787532,\n",
       "        1.00981073, 0.98813004, 1.01161719, 1.18322701, 1.20129541,\n",
       "        1.00981073, 1.06942045, 1.01703656, 1.04954946, 0.81290667,\n",
       "        0.71897079, 1.0206462 , 1.22477938, 0.87793638, 1.03148824,\n",
       "        0.84361648, 1.05496882, 1.05858513, 0.95922679, 0.90684255,\n",
       "        0.82193896, 1.0242624 , 1.0350945 , 0.97910092, 0.99355259,\n",
       "        1.0730368 , 1.10916599, 1.00980424, 1.03871408, 1.02245594,\n",
       "        1.13445642, 1.16516622, 1.15973939, 1.0730368 , 1.06039159,\n",
       "        1.07484326, 1.10735953, 1.18864255, 1.10735953, 1.1705856 ,\n",
       "        1.18684374, 1.17239206, 1.13083623, 1.11458537, 1.16697268,\n",
       "        1.20852125, 1.26090857, 1.21754572, 1.2283923 , 1.15432747,\n",
       "        1.18323082, 1.22658584, 1.28438428, 1.27174732, 1.27174732,\n",
       "        1.21394062, 1.20852125, 1.19767479, 1.30968297, 1.19587603,\n",
       "        1.32413464, 1.19768249, 1.24644888, 1.18865019, 1.30607005,\n",
       "        1.28258608, 1.11639182, 0.76412736, 0.33600142, 0.02167751]),\n",
       " array([0.03503251, 0.04430581, 0.05357911, 0.06285242, 0.07212572,\n",
       "        0.08139902, 0.09067233, 0.09994563, 0.10921893, 0.11849223,\n",
       "        0.12776554, 0.13703884, 0.14631215, 0.15558544, 0.16485874,\n",
       "        0.17413205, 0.18340535, 0.19267866, 0.20195195, 0.21122526,\n",
       "        0.22049856, 0.22977187, 0.23904517, 0.24831846, 0.25759178,\n",
       "        0.26686507, 0.27613837, 0.2854117 , 0.29468498, 0.3039583 ,\n",
       "        0.3132316 , 0.32250488, 0.3317782 , 0.3410515 , 0.3503248 ,\n",
       "        0.3595981 , 0.3688714 , 0.3781447 , 0.387418  , 0.39669132,\n",
       "        0.4059646 , 0.4152379 , 0.42451122, 0.4337845 , 0.44305784,\n",
       "        0.45233113, 0.46160442, 0.47087774, 0.48015103, 0.48942435,\n",
       "        0.49869764, 0.5079709 , 0.5172442 , 0.52651757, 0.53579086,\n",
       "        0.54506415, 0.55433744, 0.56361073, 0.5728841 , 0.5821574 ,\n",
       "        0.59143066, 0.60070395, 0.60997725, 0.6192506 , 0.6285239 ,\n",
       "        0.6377972 , 0.64707047, 0.65634376, 0.6656171 , 0.6748904 ,\n",
       "        0.6841637 , 0.693437  , 0.7027103 , 0.7119836 , 0.7212569 ,\n",
       "        0.7305302 , 0.7398035 , 0.7490768 , 0.75835013, 0.7676234 ,\n",
       "        0.7768967 , 0.78617   , 0.7954433 , 0.80471665, 0.81398994,\n",
       "        0.8232632 , 0.8325365 , 0.8418098 , 0.85108316, 0.86035645,\n",
       "        0.86962974, 0.87890303, 0.8881763 , 0.8974497 , 0.90672296,\n",
       "        0.91599625, 0.92526954, 0.93454283, 0.9438162 , 0.9530895 ,\n",
       "        0.96236277], dtype=float32),\n",
       " <BarContainer object of 100 artists>)"
      ]
     },
     "execution_count": 26,
     "metadata": {},
     "output_type": "execute_result"
    },
    {
     "data": {
      "image/png": "[encoded data removed]",
      "text/plain": [
       "<Figure size 432x288 with 1 Axes>"
      ]
     },
     "metadata": {
      "needs_background": "light"
     },
     "output_type": "display_data"
    }
   ],
   "source": [
    "#GNN Prediction\n",
    "plt.hist(gnn_predict,bins= 100, density = True, label=\"GNN predict\")"
   ]
  },
  {
   "cell_type": "code",
   "execution_count": null,
   "metadata": {
    "execution": {
     "iopub.status.busy": "2022-10-29T19:02:26.303710Z",
     "iopub.status.idle": "2022-10-29T19:02:26.304049Z",
     "shell.execute_reply": "2022-10-29T19:02:26.303888Z",
     "shell.execute_reply.started": "2022-10-29T19:02:26.303888Z"
    }
   },
   "outputs": [],
   "source": [
    "#Comparitive Plotting of Model Performances\n",
    "energy = np.array(energy)\n",
    "dnn_predict = np.array(dnn_predict)\n",
    "cnn_predict = np.array(cnn_predict)\n",
    "fig, ax = plt.subplots(1,2,figsize=[10,5])\n",
    "\n",
    "ax[0].hist(energy[:,0],bins= 100, density= True, label=\"Sum energy\") \n",
    "ax[0].hist(dnn_predict[:,0],bins= 100, density = True , alpha = 0.4,  label=\"DNN predict\")\n",
    "#ax[0].hist(cnn_predict[:,0],bins= 100, density = True, alpha = 0.4, label=\"CNN predict\")\n",
    "ax[0].hist(gnn_predict[:,0],bins= 100, density = True, alpha = 0.4, label=\"GNN predict\")\n",
    "\n",
    "ax[0].legend()\n",
    "\n",
    "ax[1].hist(energy[:,1],bins= 100, density= True, label=\"Sum energy\") \n",
    "#ax[1].hist(dnn_predict[:,1],bins= 100, density = True , alpha = 0.4,  label=\"DNN predict\")\n",
    "ax[1].hist(cnn_predict[:,1],bins= 100, density = True, alpha = 0.4, label=\"CNN predict\")\n",
    "\n",
    "plt.legend()\n"
   ]
  },
  {
   "cell_type": "code",
   "execution_count": 27,
   "metadata": {
    "execution": {
     "iopub.execute_input": "2022-12-25T13:44:46.210030Z",
     "iopub.status.busy": "2022-12-25T13:44:46.209661Z",
     "iopub.status.idle": "2022-12-25T13:44:46.345430Z",
     "shell.execute_reply": "2022-12-25T13:44:46.344722Z",
     "shell.execute_reply.started": "2022-12-25T13:44:46.210003Z"
    },
    "id": "64s3HBLVmxJl"
   },
   "outputs": [
    {
     "data": {
      "text/plain": [
       "Text(0, 0.5, 'Loss(MSE)')"
      ]
     },
     "execution_count": 27,
     "metadata": {},
     "output_type": "execute_result"
    },
    {
     "data": {
      "image/png": "[encoded data removed]",
      "text/plain": [
       "<Figure size 360x360 with 1 Axes>"
      ]
     },
     "metadata": {
      "needs_background": "light"
     },
     "output_type": "display_data"
    }
   ],
   "source": [
    "#GNN Training in the Absence of Gaussian Noise\n",
    "fig, (ax1) = plt.subplots(1, 1, figsize=(5, 5))\n",
    "ax1.plot(history_gnn.history[\"loss\"])\n",
    "ax1.plot(history_gnn.history[\"val_loss\"])\n",
    "ax1.set_ylim(top  = 0.006, bottom = 0.0)\n",
    "ax1.legend([\"train\", \"test\"],fontsize=15, loc=\"upper right\")\n",
    "ax1.set_xlabel(\"Training Epochs\",fontsize=15)\n",
    "ax1.set_ylabel(\"Loss(MSE)\",fontsize=15)"
   ]
  },
  {
   "cell_type": "code",
   "execution_count": null,
   "metadata": {
    "execution": {
     "iopub.status.busy": "2022-10-29T19:02:26.306180Z",
     "iopub.status.idle": "2022-10-29T19:02:26.306590Z",
     "shell.execute_reply": "2022-10-29T19:02:26.306412Z",
     "shell.execute_reply.started": "2022-10-29T19:02:26.306412Z"
    }
   },
   "outputs": [],
   "source": [
    "plt.plot(history_gnn.history[\"loss\"])\n",
    "plt.plot(history_gnn.history[\"val_loss\"])\n",
    "plt.ylim(top  = 0.01, bottom = 0.0)\n",
    "plt.legend([\"train\", \"test\"], loc=\"upper right\")\n",
    "plt.xlabel(\"Epochs\")\n",
    "plt.ylabel(\"loss\")"
   ]
  },
  {
   "cell_type": "code",
   "execution_count": null,
   "metadata": {
    "execution": {
     "iopub.status.busy": "2022-10-29T19:02:26.307876Z",
     "iopub.status.idle": "2022-10-29T19:02:26.308236Z",
     "shell.execute_reply": "2022-10-29T19:02:26.308015Z",
     "shell.execute_reply.started": "2022-10-29T19:02:26.308015Z"
    }
   },
   "outputs": [],
   "source": [
    "#dnn_predict = dnn_predict.reshape(dnn_predict.shape[0])\n",
    "energy_cut  = 0 / (nrm_e * 1000)\n",
    "dnn_diff_pred = (dnn_predict - energy_test)/ energy_test\n",
    "diff_sum = (np.sum(layer_0_test,axis=1)/2*nrm_l0+np.sum(layer_1_test,axis=1)/2*nrm_l1+np.sum(layer_2_test,axis=1)/2*nrm_l2 - energy_test[:,0]*nrm_e*1000 + 0.0068*energy_test[:,0]*nrm_e*1000)/(energy_test[:,0]*nrm_e*1000)\n",
    "print(np.argmin(diff_sum))\n",
    "print(np.sum(diff_sum>0))\n",
    "\n",
    "print(np.std(dnn_diff_pred))\n",
    "print(np.std(diff_sum))\n",
    "print(np.mean(dnn_diff_pred))\n",
    "print(np.mean(diff_sum))"
   ]
  },
  {
   "cell_type": "code",
   "execution_count": null,
   "metadata": {
    "execution": {
     "iopub.status.busy": "2022-10-29T19:02:26.309810Z",
     "iopub.status.idle": "2022-10-29T19:02:26.310291Z",
     "shell.execute_reply": "2022-10-29T19:02:26.310155Z",
     "shell.execute_reply.started": "2022-10-29T19:02:26.310155Z"
    }
   },
   "outputs": [],
   "source": [
    "#Cnn_nparr=cnn_predict[:,0]\n",
    "gnn_nparr=gnn_predict[:,0]\n"
   ]
  },
  {
   "cell_type": "code",
   "execution_count": null,
   "metadata": {
    "execution": {
     "iopub.status.busy": "2022-10-29T19:02:26.311603Z",
     "iopub.status.idle": "2022-10-29T19:02:26.311856Z",
     "shell.execute_reply": "2022-10-29T19:02:26.311706Z",
     "shell.execute_reply.started": "2022-10-29T19:02:26.311706Z"
    }
   },
   "outputs": [],
   "source": [
    "#cnn_diff_predict=(Cnn_nparr-energy_test[:,0])/energy_test[:,0]\n",
    "gnn_diff_predict=(gnn_nparr-energy_test)/energy_test\n",
    "plt.hist(gnn_predict, bins=20)"
   ]
  },
  {
   "cell_type": "code",
   "execution_count": null,
   "metadata": {
    "execution": {
     "iopub.status.busy": "2022-10-29T19:02:26.313298Z",
     "iopub.status.idle": "2022-10-29T19:02:26.313611Z",
     "shell.execute_reply": "2022-10-29T19:02:26.313432Z",
     "shell.execute_reply.started": "2022-10-29T19:02:26.313432Z"
    },
    "id": "rVUjJx44mycm"
   },
   "outputs": [],
   "source": [
    "#\n",
    "fig, ax = plt.subplots(1,1,figsize=[5,5])\n",
    "ax.hist(dnn_diff_pred, bins = 100, range=[-0.1,0.1], label = \"dnn pred\") \n",
    "#ax.hist(diff_sum, alpha = 0.6, bins = 100, range=[-0.1,0.1], label = \"sum algo\", color=\"r\")\n",
    "ax.hist(gnn_diff_predict,  bins = 100, range=[-0.1,0.1],color=\"g\", label = \"cnn pred\") \n",
    "ax.legend()"
   ]
  }
 ],
 "metadata": {
  "colab": {
   "collapsed_sections": [],
   "private_outputs": true,
   "provenance": []
  },
  "kernelspec": {
   "display_name": "Python 3 (ipykernel)",
   "language": "python",
   "name": "python3"
  },
  "language_info": {
   "codemirror_mode": {
    "name": "ipython",
    "version": 3
   },
   "file_extension": ".py",
   "mimetype": "text/x-python",
   "name": "python",
   "nbconvert_exporter": "python",
   "pygments_lexer": "ipython3",
   "version": "3.9.12"
  }
 },
 "nbformat": 4,
 "nbformat_minor": 4
}
