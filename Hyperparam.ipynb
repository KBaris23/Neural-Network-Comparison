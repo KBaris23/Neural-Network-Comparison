{
 "cells": [
  {
   "cell_type": "code",
   "execution_count": 1,
   "id": "a3501b04-d5b8-4a81-99a4-d34f2215748f",
   "metadata": {
    "execution": {
     "iopub.execute_input": "2022-10-08T19:33:57.854692Z",
     "iopub.status.busy": "2022-10-08T19:33:57.852446Z",
     "iopub.status.idle": "2022-10-08T19:35:12.561384Z",
     "shell.execute_reply": "2022-10-08T19:35:12.560167Z",
     "shell.execute_reply.started": "2022-10-08T19:33:57.854614Z"
    }
   },
   "outputs": [
    {
     "name": "stdout",
     "output_type": "stream",
     "text": [
      "Downloading data from https://zenodo.org/record/846388/files/gamma_angle_position_5deg_xy.h5?download=1\n",
      "2060006240/2060006240 [==============================] - 70s 0us/step\n"
     ]
    },
    {
     "data": {
      "text/plain": [
       "'/root/.keras/datasets/gamma_angle_position_5deg_xy.h5'"
      ]
     },
     "execution_count": 1,
     "metadata": {},
     "output_type": "execute_result"
    }
   ],
   "source": [
    "import tensorflow\n",
    "import numpy as np\n",
    "import pandas as pd\n",
    "import os\n",
    "import tensorflow.keras as keras\n",
    "zip_file=keras.utils.get_file(\n",
    "    fname=\"gamma_angle_position_5deg_xy.h5\",\n",
    "    origin=\"https://zenodo.org/record/846388/files/gamma_angle_position_5deg_xy.h5?download=1\",\n",
    "    extract=True\n",
    "\n",
    ")\n",
    "dirnam=os.path.join(os.path.dirname(zip_file), \"gamma_angle_position_5deg_xy.h5\")\n",
    "import h5py\n",
    "import h5py\n",
    "zip_file\n"
   ]
  },
  {
   "cell_type": "code",
   "execution_count": 2,
   "id": "1595f409-19af-4178-8929-2a7f29b43396",
   "metadata": {
    "execution": {
     "iopub.execute_input": "2022-10-08T19:36:41.941950Z",
     "iopub.status.busy": "2022-10-08T19:36:41.941555Z",
     "iopub.status.idle": "2022-10-08T19:36:52.500498Z",
     "shell.execute_reply": "2022-10-08T19:36:52.499451Z",
     "shell.execute_reply.started": "2022-10-08T19:36:41.941950Z"
    }
   },
   "outputs": [
    {
     "name": "stdout",
     "output_type": "stream",
     "text": [
      "(500000, 3, 96)\n"
     ]
    }
   ],
   "source": [
    "x=h5py.File(zip_file)\n",
    "layer_0_data = (np.array(h5py.File(zip_file)[\"layer_0\"][:]))\n",
    "layer_1_data = (np.array(h5py.File(zip_file)[\"layer_1\"][:]))\n",
    "layer_2_data = (np.array(h5py.File(zip_file)[\"layer_2\"][:]))\n",
    "energy=(np.array(h5py.File(zip_file)[\"energy\"]))\n",
    "energy=energy.reshape(energy.shape[0])\n",
    "print(layer_0_data.shape)\n",
    "\n",
    "nrm_l0=np.max(layer_0_data)\n",
    "nrm_l1=np.max(layer_1_data)\n",
    "nrm_l2=np.max(layer_2_data)\n",
    "nrm_e=np.max(energy)\n",
    "rng = np.random.default_rng()\n",
    "def noise_add(layer_name, alpha, noise):\n",
    "    noise_ln = rng.normal(alpha, noise ,layer_name.shape[0]*layer_name.shape[1]*layer_name.shape[2])\n",
    "    noise_ln = noise_ln.reshape(layer_name.shape[0],layer_name.shape[1],layer_name.shape[2])\n",
    "    layer_name = layer_name + noise_ln\n",
    "    layer_name[layer_name<0] = 0\n",
    "noise_add(layer_0_data,0,167)\n",
    "noise_add(layer_1_data,0,167)\n",
    "noise_add(layer_2_data,0,167)"
   ]
  },
  {
   "cell_type": "code",
   "execution_count": 6,
   "id": "618f58ed-c8a3-4162-b429-3cf9b9a4976e",
   "metadata": {
    "execution": {
     "iopub.execute_input": "2022-10-08T19:39:07.180965Z",
     "iopub.status.busy": "2022-10-08T19:39:07.179721Z",
     "iopub.status.idle": "2022-10-08T19:39:08.206759Z",
     "shell.execute_reply": "2022-10-08T19:39:08.206003Z",
     "shell.execute_reply.started": "2022-10-08T19:39:07.180924Z"
    }
   },
   "outputs": [],
   "source": [
    "Layer_0_data_preprocessed=layer_0_data/nrm_l0\n",
    "Layer_1_data_preprocessed=layer_1_data/nrm_l1\n",
    "Layer_2_data_preprocessed=layer_2_data/nrm_l2\n",
    "energy = energy / nrm_e\n",
    "flatten_layer_0=Layer_0_data_preprocessed.reshape(500000,3*96)\n",
    "flatten_layer_1=Layer_1_data_preprocessed.reshape(500000,12*12)\n",
    "flatten_layer_2=Layer_2_data_preprocessed.reshape(500000,6*12)"
   ]
  },
  {
   "cell_type": "code",
   "execution_count": 7,
   "id": "6fc84f62-5172-408b-949f-6a0a6305a8cf",
   "metadata": {
    "execution": {
     "iopub.execute_input": "2022-10-08T19:39:52.007941Z",
     "iopub.status.busy": "2022-10-08T19:39:52.006814Z",
     "iopub.status.idle": "2022-10-08T19:39:55.625787Z",
     "shell.execute_reply": "2022-10-08T19:39:55.624346Z",
     "shell.execute_reply.started": "2022-10-08T19:39:52.007912Z"
    }
   },
   "outputs": [],
   "source": [
    "from sklearn.model_selection import train_test_split\n",
    "layer_0_train, layer_0_test, energy_train, energy_test,  layer_1_train,layer_1_test, layer_2_train, layer_2_test,= train_test_split(flatten_layer_0,  energy, flatten_layer_1, flatten_layer_2,  test_size=0.4, random_state=42)\n",
    "layer_0_train_2D, layer_0_test_2D, energy_train, energy_test,  layer_1_train_2D,layer_1_test_2D, layer_2_train_2D, layer_2_test2D,= train_test_split(Layer_0_data_preprocessed,  energy, Layer_1_data_preprocessed, Layer_2_data_preprocessed,  test_size=0.4, random_state=42)"
   ]
  },
  {
   "cell_type": "code",
   "execution_count": 98,
   "id": "352d4c11-bbb8-46a3-bf95-62650e6bc6e3",
   "metadata": {
    "execution": {
     "iopub.execute_input": "2022-10-08T21:00:35.173737Z",
     "iopub.status.busy": "2022-10-08T21:00:35.173271Z",
     "iopub.status.idle": "2022-10-08T21:00:39.365184Z",
     "shell.execute_reply": "2022-10-08T21:00:39.363146Z",
     "shell.execute_reply.started": "2022-10-08T21:00:35.173695Z"
    }
   },
   "outputs": [],
   "source": [
    "lc1_test=np.array([np.concatenate((layer_0_test, layer_1_test, layer_2_test),axis=1)  ])\n",
    "lc1_train=np.array([np.concatenate((layer_0_train, layer_1_train, layer_2_train),axis=1)  ])\n",
    "lc1_train=lc1_train.reshape(lc1_train.shape[1],lc1_train.shape[2])\n",
    "lc1_test=lc1_test.reshape(lc1_test.shape[1],lc1_test.shape[2])"
   ]
  },
  {
   "cell_type": "code",
   "execution_count": 15,
   "id": "69054ab6-bc1e-4108-b638-80ab3fc9851c",
   "metadata": {
    "execution": {
     "iopub.execute_input": "2022-10-08T20:03:53.212442Z",
     "iopub.status.busy": "2022-10-08T20:03:53.211216Z",
     "iopub.status.idle": "2022-10-08T20:03:53.421972Z",
     "shell.execute_reply": "2022-10-08T20:03:53.420973Z",
     "shell.execute_reply.started": "2022-10-08T20:03:53.212383Z"
    }
   },
   "outputs": [],
   "source": [
    "import hyperas\n",
    "from hyperopt import Trials, STATUS_OK, tpe\n",
    "from hyperas import optim\n",
    "from hyperas.distributions import choice, uniform"
   ]
  },
  {
   "cell_type": "code",
   "execution_count": 116,
   "id": "797ff1b8-e987-470c-bb4f-173c1a186b17",
   "metadata": {
    "execution": {
     "iopub.execute_input": "2022-10-08T21:13:41.879159Z",
     "iopub.status.busy": "2022-10-08T21:13:41.878799Z",
     "iopub.status.idle": "2022-10-08T21:13:43.396876Z",
     "shell.execute_reply": "2022-10-08T21:13:43.395575Z",
     "shell.execute_reply.started": "2022-10-08T21:13:41.879133Z"
    }
   },
   "outputs": [],
   "source": [
    "def dat():\n",
    "    x_train=lc1_train\n",
    "    y_train=energy_train\n",
    "    x_test=lc1_test\n",
    "    y_test=energy_test\n",
    "    return x_train, y_train, x_test, y_test\n",
    "x_train,y_train,x_test,y_test=data()"
   ]
  },
  {
   "cell_type": "code",
   "execution_count": 118,
   "id": "777d049b-d7e5-4a8f-bd96-9debc9041fdf",
   "metadata": {
    "execution": {
     "iopub.execute_input": "2022-10-08T21:14:42.154065Z",
     "iopub.status.busy": "2022-10-08T21:14:42.153701Z",
     "iopub.status.idle": "2022-10-08T21:14:42.162449Z",
     "shell.execute_reply": "2022-10-08T21:14:42.161176Z",
     "shell.execute_reply.started": "2022-10-08T21:14:42.154038Z"
    }
   },
   "outputs": [],
   "source": [
    "def dnn_opt(x_train, y_train, x_test, y_test):\n",
    "    \n",
    "    inputs = layers.Input(shape=(144+(96*3)+72,), name=\"input_features\")\n",
    "    x = inputs\n",
    "    for units in hidden_units:        \n",
    "        x  = layers.Dense(units, activation=tf.nn.relu)(x)\n",
    "        x  = layers.Dropout({{uniform(0, 1)}})(x)\n",
    "    logits = layers.Dense(1, name=\"output\")(x)\n",
    "    model=keras.Model(inputs=inputs, outputs=logits, name=\"dnn\")\n",
    "    # Create the model.\n",
    "    model.compile(\n",
    "        optimizer=keras.optimizers.Adam({{uniform(0.001, 0.003)}}),\n",
    "        loss=keras.losses.MeanSquaredError(reduction=\"auto\", name=\"mean_squared_error\")#,\n",
    "        #metrics=tf.keras.metrics.BinaryAccuracy(),\n",
    "    )\n",
    "    \n",
    "    early_stopping = keras.callbacks.EarlyStopping(\n",
    "        monitor=\"val_loss\", patience=50, restore_best_weights=True\n",
    "    )\n",
    "    \n",
    "    history = model.fit(\n",
    "        x_train,\n",
    "        y_train,\n",
    "        epochs=50,\n",
    "        batch_size={{choice([512,1024,2028,4056])}},\n",
    "        validation_split=0.2,\n",
    "        callbacks=[early_stopping],\n",
    "    )\n",
    "\n",
    "    validation_acc=np.amin(history.history[\"val_acc\"])\n",
    "    return {'loss': validation_acc, 'status': STATUS_OK, 'model': model}, "
   ]
  },
  {
   "cell_type": "code",
   "execution_count": 121,
   "id": "a1d10365-ce96-4bfd-9e42-183d9821423a",
   "metadata": {
    "execution": {
     "iopub.execute_input": "2022-10-08T21:18:48.270624Z",
     "iopub.status.busy": "2022-10-08T21:18:48.270165Z",
     "iopub.status.idle": "2022-10-08T21:18:51.635089Z",
     "shell.execute_reply": "2022-10-08T21:18:51.633445Z",
     "shell.execute_reply.started": "2022-10-08T21:18:48.270596Z"
    }
   },
   "outputs": [
    {
     "name": "stdout",
     "output_type": "stream",
     "text": [
      ">>> Imports:\n",
      "#coding=utf-8\n",
      "\n",
      "try:\n",
      "    import tensorflow\n",
      "except:\n",
      "    pass\n",
      "\n",
      "try:\n",
      "    import numpy as np\n",
      "except:\n",
      "    pass\n",
      "\n",
      "try:\n",
      "    import pandas as pd\n",
      "except:\n",
      "    pass\n",
      "\n",
      "try:\n",
      "    import os\n",
      "except:\n",
      "    pass\n",
      "\n",
      "try:\n",
      "    import tensorflow.keras as keras\n",
      "except:\n",
      "    pass\n",
      "\n",
      "try:\n",
      "    import h5py\n",
      "except:\n",
      "    pass\n",
      "\n",
      "try:\n",
      "    import h5py\n",
      "except:\n",
      "    pass\n",
      "\n",
      "try:\n",
      "    from sklearn.model_selection import train_test_split\n",
      "except:\n",
      "    pass\n",
      "\n",
      "try:\n",
      "    import hyperas\n",
      "except:\n",
      "    pass\n",
      "\n",
      "try:\n",
      "    from hyperopt import Trials, STATUS_OK, tpe\n",
      "except:\n",
      "    pass\n",
      "\n",
      "try:\n",
      "    from hyperas import optim\n",
      "except:\n",
      "    pass\n",
      "\n",
      "try:\n",
      "    from hyperas.distributions import choice, uniform\n",
      "except:\n",
      "    pass\n",
      "\n",
      ">>> Hyperas search space:\n",
      "\n",
      "def get_space():\n",
      "    return {\n",
      "        'Dropout': hp.uniform('Dropout', 0, 1),\n",
      "        'Adam': hp.uniform('Adam', 0.001, 0.003),\n",
      "        'batch_size': hp.choice('batch_size', [512,1024,2028,4056]),\n",
      "    }\n",
      "\n",
      ">>> Data\n",
      " 1: \n",
      " 2: x_train=lc1_train\n",
      " 3: y_train=energy_train\n",
      " 4: x_test=lc1_test\n",
      " 5: y_test=energy_test\n",
      " 6: \n",
      " 7: \n",
      " 8: \n",
      ">>> Resulting replaced keras model:\n",
      "\n",
      "   1: def keras_fmin_fnct(space):\n",
      "   2: \n",
      "   3:     \n",
      "   4:     inputs = layers.Input(shape=(144+(96*3)+72,), name=\"input_features\")\n",
      "   5:     x = inputs\n",
      "   6:     for units in hidden_units:        \n",
      "   7:         x  = layers.Dense(units, activation=tf.nn.relu)(x)\n",
      "   8:         x  = layers.Dropout(space['Dropout'])(x)\n",
      "   9:     logits = layers.Dense(1, name=\"output\")(x)\n",
      "  10:     model=keras.Model(inputs=inputs, outputs=logits, name=\"dnn\")\n",
      "  11:     # Create the model.\n",
      "  12:     model.compile(\n",
      "  13:         optimizer=keras.optimizers.Adam(space['Adam']),\n",
      "  14:         loss=keras.losses.MeanSquaredError(reduction=\"auto\", name=\"mean_squared_error\")#,\n",
      "  15:         #metrics=tf.keras.metrics.BinaryAccuracy(),\n",
      "  16:     )\n",
      "  17:     \n",
      "  18:     early_stopping = keras.callbacks.EarlyStopping(\n",
      "  19:         monitor=\"val_loss\", patience=50, restore_best_weights=True\n",
      "  20:     )\n",
      "  21:     \n",
      "  22:     history = model.fit(\n",
      "  23:         x_train,\n",
      "  24:         y_train,\n",
      "  25:         epochs=50,\n",
      "  26:         batch_size=space['batch_size'],\n",
      "  27:         validation_split=0.2,\n",
      "  28:         callbacks=[early_stopping],\n",
      "  29:     )\n",
      "  30: \n",
      "  31:     validation_acc=np.amin(history.history[\"val_acc\"])\n",
      "  32:     return {'loss': validation_acc, 'status': STATUS_OK, 'model': model}, \n",
      "  33: \n",
      "Unexpected error: <class 'NameError'>\n"
     ]
    },
    {
     "ename": "NameError",
     "evalue": "name 'lc1_train' is not defined",
     "output_type": "error",
     "traceback": [
      "\u001b[0;31m---------------------------------------------------------------------------\u001b[0m",
      "\u001b[0;31mNameError\u001b[0m                                 Traceback (most recent call last)",
      "Input \u001b[0;32mIn [121]\u001b[0m, in \u001b[0;36m<cell line: 2>\u001b[0;34m()\u001b[0m\n\u001b[1;32m      1\u001b[0m x_train,y_train,x_test,y_test\u001b[38;5;241m=\u001b[39mdata()\n\u001b[0;32m----> 2\u001b[0m best_run, best_model \u001b[38;5;241m=\u001b[39m \u001b[43moptim\u001b[49m\u001b[38;5;241;43m.\u001b[39;49m\u001b[43mminimize\u001b[49m\u001b[43m(\u001b[49m\u001b[43mmodel\u001b[49m\u001b[38;5;241;43m=\u001b[39;49m\u001b[43mdnn_opt\u001b[49m\u001b[43m,\u001b[49m\u001b[43mdata\u001b[49m\u001b[38;5;241;43m=\u001b[39;49m\u001b[43mdat\u001b[49m\u001b[43m,\u001b[49m\u001b[43m \u001b[49m\u001b[43malgo\u001b[49m\u001b[38;5;241;43m=\u001b[39;49m\u001b[43mtpe\u001b[49m\u001b[38;5;241;43m.\u001b[39;49m\u001b[43msuggest\u001b[49m\u001b[43m,\u001b[49m\u001b[43mmax_evals\u001b[49m\u001b[38;5;241;43m=\u001b[39;49m\u001b[38;5;241;43m5\u001b[39;49m\u001b[43m,\u001b[49m\u001b[43mtrials\u001b[49m\u001b[38;5;241;43m=\u001b[39;49m\u001b[43mTrials\u001b[49m\u001b[43m(\u001b[49m\u001b[43m)\u001b[49m\u001b[43m,\u001b[49m\u001b[43mnotebook_name\u001b[49m\u001b[38;5;241;43m=\u001b[39;49m\u001b[38;5;124;43m'\u001b[39;49m\u001b[38;5;124;43mHyperparam\u001b[39;49m\u001b[38;5;124;43m'\u001b[39;49m\u001b[43m)\u001b[49m\n",
      "File \u001b[0;32m/usr/local/lib/python3.9/dist-packages/hyperas/optim.py:59\u001b[0m, in \u001b[0;36mminimize\u001b[0;34m(model, data, algo, max_evals, trials, functions, rseed, notebook_name, verbose, eval_space, return_space, keep_temp)\u001b[0m\n\u001b[1;32m     20\u001b[0m \u001b[38;5;28;01mdef\u001b[39;00m \u001b[38;5;21mminimize\u001b[39m(model,\n\u001b[1;32m     21\u001b[0m              data,\n\u001b[1;32m     22\u001b[0m              algo,\n\u001b[0;32m   (...)\u001b[0m\n\u001b[1;32m     30\u001b[0m              return_space\u001b[38;5;241m=\u001b[39m\u001b[38;5;28;01mFalse\u001b[39;00m,\n\u001b[1;32m     31\u001b[0m              keep_temp\u001b[38;5;241m=\u001b[39m\u001b[38;5;28;01mFalse\u001b[39;00m):\n\u001b[1;32m     32\u001b[0m     \u001b[38;5;124;03m\"\"\"\u001b[39;00m\n\u001b[1;32m     33\u001b[0m \u001b[38;5;124;03m    Minimize a keras model for given data and implicit hyperparameters.\u001b[39;00m\n\u001b[1;32m     34\u001b[0m \n\u001b[0;32m   (...)\u001b[0m\n\u001b[1;32m     57\u001b[0m \u001b[38;5;124;03m    If `return_space` is True: The pair of best result and corresponding keras model, and the hyperopt search space\u001b[39;00m\n\u001b[1;32m     58\u001b[0m \u001b[38;5;124;03m    \"\"\"\u001b[39;00m\n\u001b[0;32m---> 59\u001b[0m     best_run, space \u001b[38;5;241m=\u001b[39m \u001b[43mbase_minimizer\u001b[49m\u001b[43m(\u001b[49m\u001b[43mmodel\u001b[49m\u001b[38;5;241;43m=\u001b[39;49m\u001b[43mmodel\u001b[49m\u001b[43m,\u001b[49m\n\u001b[1;32m     60\u001b[0m \u001b[43m                                     \u001b[49m\u001b[43mdata\u001b[49m\u001b[38;5;241;43m=\u001b[39;49m\u001b[43mdata\u001b[49m\u001b[43m,\u001b[49m\n\u001b[1;32m     61\u001b[0m \u001b[43m                                     \u001b[49m\u001b[43mfunctions\u001b[49m\u001b[38;5;241;43m=\u001b[39;49m\u001b[43mfunctions\u001b[49m\u001b[43m,\u001b[49m\n\u001b[1;32m     62\u001b[0m \u001b[43m                                     \u001b[49m\u001b[43malgo\u001b[49m\u001b[38;5;241;43m=\u001b[39;49m\u001b[43malgo\u001b[49m\u001b[43m,\u001b[49m\n\u001b[1;32m     63\u001b[0m \u001b[43m                                     \u001b[49m\u001b[43mmax_evals\u001b[49m\u001b[38;5;241;43m=\u001b[39;49m\u001b[43mmax_evals\u001b[49m\u001b[43m,\u001b[49m\n\u001b[1;32m     64\u001b[0m \u001b[43m                                     \u001b[49m\u001b[43mtrials\u001b[49m\u001b[38;5;241;43m=\u001b[39;49m\u001b[43mtrials\u001b[49m\u001b[43m,\u001b[49m\n\u001b[1;32m     65\u001b[0m \u001b[43m                                     \u001b[49m\u001b[43mrseed\u001b[49m\u001b[38;5;241;43m=\u001b[39;49m\u001b[43mrseed\u001b[49m\u001b[43m,\u001b[49m\n\u001b[1;32m     66\u001b[0m \u001b[43m                                     \u001b[49m\u001b[43mfull_model_string\u001b[49m\u001b[38;5;241;43m=\u001b[39;49m\u001b[38;5;28;43;01mNone\u001b[39;49;00m\u001b[43m,\u001b[49m\n\u001b[1;32m     67\u001b[0m \u001b[43m                                     \u001b[49m\u001b[43mnotebook_name\u001b[49m\u001b[38;5;241;43m=\u001b[39;49m\u001b[43mnotebook_name\u001b[49m\u001b[43m,\u001b[49m\n\u001b[1;32m     68\u001b[0m \u001b[43m                                     \u001b[49m\u001b[43mverbose\u001b[49m\u001b[38;5;241;43m=\u001b[39;49m\u001b[43mverbose\u001b[49m\u001b[43m,\u001b[49m\n\u001b[1;32m     69\u001b[0m \u001b[43m                                     \u001b[49m\u001b[43mkeep_temp\u001b[49m\u001b[38;5;241;43m=\u001b[39;49m\u001b[43mkeep_temp\u001b[49m\u001b[43m)\u001b[49m\n\u001b[1;32m     71\u001b[0m     best_model \u001b[38;5;241m=\u001b[39m \u001b[38;5;28;01mNone\u001b[39;00m\n\u001b[1;32m     72\u001b[0m     \u001b[38;5;28;01mfor\u001b[39;00m trial \u001b[38;5;129;01min\u001b[39;00m trials:\n",
      "File \u001b[0;32m/usr/local/lib/python3.9/dist-packages/hyperas/optim.py:106\u001b[0m, in \u001b[0;36mbase_minimizer\u001b[0;34m(model, data, functions, algo, max_evals, trials, rseed, full_model_string, notebook_name, verbose, stack, keep_temp)\u001b[0m\n\u001b[1;32m    103\u001b[0m     \u001b[38;5;28;01mdel\u001b[39;00m sys\u001b[38;5;241m.\u001b[39mmodules[\u001b[38;5;124m\"\u001b[39m\u001b[38;5;124mtemp_model\u001b[39m\u001b[38;5;124m\"\u001b[39m]\n\u001b[1;32m    105\u001b[0m \u001b[38;5;28;01mtry\u001b[39;00m:\n\u001b[0;32m--> 106\u001b[0m     \u001b[38;5;28;01mfrom\u001b[39;00m \u001b[38;5;21;01mtemp_model\u001b[39;00m \u001b[38;5;28;01mimport\u001b[39;00m keras_fmin_fnct, get_space\n\u001b[1;32m    107\u001b[0m \u001b[38;5;28;01mexcept\u001b[39;00m:\n\u001b[1;32m    108\u001b[0m     \u001b[38;5;28mprint\u001b[39m(\u001b[38;5;124m\"\u001b[39m\u001b[38;5;124mUnexpected error: \u001b[39m\u001b[38;5;132;01m{}\u001b[39;00m\u001b[38;5;124m\"\u001b[39m\u001b[38;5;241m.\u001b[39mformat(sys\u001b[38;5;241m.\u001b[39mexc_info()[\u001b[38;5;241m0\u001b[39m]))\n",
      "File \u001b[0;32m/notebooks/temp_model.py:64\u001b[0m, in \u001b[0;36m<module>\u001b[0;34m\u001b[0m\n\u001b[1;32m     61\u001b[0m     \u001b[38;5;28;01mpass\u001b[39;00m\n\u001b[1;32m     62\u001b[0m \u001b[38;5;28;01mfrom\u001b[39;00m \u001b[38;5;21;01mhyperopt\u001b[39;00m \u001b[38;5;28;01mimport\u001b[39;00m fmin, tpe, hp, STATUS_OK, Trials\n\u001b[0;32m---> 64\u001b[0m x_train\u001b[38;5;241m=\u001b[39m\u001b[43mlc1_train\u001b[49m\n\u001b[1;32m     65\u001b[0m y_train\u001b[38;5;241m=\u001b[39menergy_train\n\u001b[1;32m     66\u001b[0m x_test\u001b[38;5;241m=\u001b[39mlc1_test\n",
      "\u001b[0;31mNameError\u001b[0m: name 'lc1_train' is not defined"
     ]
    }
   ],
   "source": [
    "x_train,y_train,x_test,y_test=data()\n",
    "best_run, best_model = optim.minimize(model=dnn_opt,data=dat, algo=tpe.suggest,max_evals=5,trials=Trials(),notebook_name='Hyperparam')"
   ]
  }
 ],
 "metadata": {
  "kernelspec": {
   "display_name": "Python 3 (ipykernel)",
   "language": "python",
   "name": "python3"
  },
  "language_info": {
   "codemirror_mode": {
    "name": "ipython",
    "version": 3
   },
   "file_extension": ".py",
   "mimetype": "text/x-python",
   "name": "python",
   "nbconvert_exporter": "python",
   "pygments_lexer": "ipython3",
   "version": "3.9.13"
  }
 },
 "nbformat": 4,
 "nbformat_minor": 5
}
