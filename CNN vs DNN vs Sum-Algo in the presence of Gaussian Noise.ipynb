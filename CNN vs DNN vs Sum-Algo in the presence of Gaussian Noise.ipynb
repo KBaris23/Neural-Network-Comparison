{
 "cells": [
  {
   "cell_type": "code",
   "execution_count": 1,
   "metadata": {
    "execution": {
     "iopub.execute_input": "2022-12-24T07:37:36.483420Z",
     "iopub.status.busy": "2022-12-24T07:37:36.482283Z",
     "iopub.status.idle": "2022-12-24T07:37:39.868131Z",
     "shell.execute_reply": "2022-12-24T07:37:39.866603Z",
     "shell.execute_reply.started": "2022-12-24T07:37:36.483329Z"
    },
    "id": "RIO91Fu65s6k"
   },
   "outputs": [
    {
     "data": {
      "text/plain": [
       "'/root/.keras/datasets/gamma_angle_position_5deg_xy.h5'"
      ]
     },
     "execution_count": 1,
     "metadata": {},
     "output_type": "execute_result"
    }
   ],
   "source": [
    "import tensorflow\n",
    "import numpy as np\n",
    "import pandas as pd\n",
    "import os\n",
    "import tensorflow.keras as keras\n",
    "import h5py\n",
    "zip_file=keras.utils.get_file(\n",
    "    fname=\"gamma_angle_position_5deg_xy.h5\",\n",
    "    origin=\"https://zenodo.org/record/846388/files/gamma_angle_position_5deg_xy.h5?download=1\",\n",
    "    extract=True\n",
    "\n",
    ")\n",
    "dirnam=os.path.join(os.path.dirname(zip_file), \"gamma_angle_position_5deg_xy.h5\")\n",
    "zip_file\n"
   ]
  },
  {
   "cell_type": "code",
   "execution_count": 2,
   "metadata": {
    "execution": {
     "iopub.execute_input": "2022-12-24T07:37:45.694503Z",
     "iopub.status.busy": "2022-12-24T07:37:45.694134Z",
     "iopub.status.idle": "2022-12-24T07:37:58.511379Z",
     "shell.execute_reply": "2022-12-24T07:37:58.510101Z",
     "shell.execute_reply.started": "2022-12-24T07:37:45.694477Z"
    },
    "id": "cuM9humvFrbe"
   },
   "outputs": [
    {
     "name": "stdout",
     "output_type": "stream",
     "text": [
      "(500000, 3, 96)\n"
     ]
    }
   ],
   "source": [
    "#Data Import\n",
    "layer_0_data = (np.array(h5py.File(zip_file)[\"layer_0\"][:]))\n",
    "layer_1_data = (np.array(h5py.File(zip_file)[\"layer_1\"][:]))\n",
    "y=np.copy(layer_1_data)\n",
    "layer_2_data = (np.array(h5py.File(zip_file)[\"layer_2\"][:]))\n",
    "energy=(np.array(h5py.File(zip_file)[\"energy\"]))\n",
    "energy=energy.reshape(energy.shape[0])\n",
    "print(layer_0_data.shape)\n",
    "\n",
    "nrm_l0=np.max(layer_0_data)\n",
    "nrm_l1=np.max(layer_1_data)\n",
    "nrm_l2=np.max(layer_2_data)\n",
    "nrm_e=np.max(energy)\n",
    "\n",
    "rng = np.random.default_rng()\n",
    "noise_l0 = rng.normal(0,167,layer_0_data.shape[0]*layer_0_data.shape[1]*layer_0_data.shape[2])\n",
    "noise_l0 = noise_l0.reshape(layer_0_data.shape[0],layer_0_data.shape[1],layer_0_data.shape[2])\n",
    "layer_0_data = layer_0_data + noise_l0\n",
    "layer_0_data[layer_0_data<0] = 0\n",
    "\n",
    "noise_l1 = rng.normal(0,167,layer_1_data.shape[0]*layer_1_data.shape[1]*layer_1_data.shape[2])\n",
    "noise_l1 = noise_l1.reshape(layer_1_data.shape[0],layer_1_data.shape[1],layer_1_data.shape[2])\n",
    "layer_1_data = layer_1_data + noise_l1\n",
    "layer_1_data[layer_1_data<0] = 0\n",
    "\n",
    "noise_l2 = rng.normal(0,167,layer_2_data.shape[0]*layer_2_data.shape[1]*layer_2_data.shape[2])\n",
    "noise_l2 = noise_l2.reshape(layer_2_data.shape[0],layer_2_data.shape[1],layer_2_data.shape[2])\n",
    "layer_2_data = layer_2_data + noise_l2\n",
    "layer_2_data[layer_2_data<0] = 0\n",
    "\n",
    "Layer_0_data_preprocessed=layer_0_data/nrm_l0\n",
    "Layer_1_data_preprocessed=layer_1_data/nrm_l1\n",
    "Layer_2_data_preprocessed=layer_2_data/nrm_l2\n",
    "energy = energy / nrm_e\n"
   ]
  },
  {
   "cell_type": "code",
   "execution_count": 3,
   "metadata": {
    "execution": {
     "iopub.execute_input": "2022-12-24T07:37:58.514458Z",
     "iopub.status.busy": "2022-12-24T07:37:58.513983Z",
     "iopub.status.idle": "2022-12-24T07:38:07.153254Z",
     "shell.execute_reply": "2022-12-24T07:38:07.152154Z",
     "shell.execute_reply.started": "2022-12-24T07:37:58.514420Z"
    }
   },
   "outputs": [],
   "source": [
    "#Alternative Gaussian Noise Adding Function\n",
    "def noise_add(layer_name, alpha, noise):\n",
    "    noise_ln = rng.normal(alpha, noise ,layer_name.shape[0]*layer_name.shape[1]*layer_name.shape[2])\n",
    "    noise_ln = noise_ln.reshape(layer_name.shape[0],layer_name.shape[1],layer_name.shape[2])\n",
    "    layer_name = layer_name + noise_ln\n",
    "    layer_name[layer_name<0] = 0\n",
    "noise_add(layer_0_data,0,167)\n",
    "noise_add(layer_1_data,0,167)\n",
    "noise_add(layer_2_data,0,167)"
   ]
  },
  {
   "cell_type": "code",
   "execution_count": 4,
   "metadata": {
    "execution": {
     "iopub.execute_input": "2022-12-24T07:38:07.154927Z",
     "iopub.status.busy": "2022-12-24T07:38:07.154670Z",
     "iopub.status.idle": "2022-12-24T07:38:07.160516Z",
     "shell.execute_reply": "2022-12-24T07:38:07.159724Z",
     "shell.execute_reply.started": "2022-12-24T07:38:07.154904Z"
    },
    "id": "I7a-mPR6O9qa"
   },
   "outputs": [],
   "source": [
    "#DNN Preprocess-1\n",
    "flatten_layer_0=Layer_0_data_preprocessed.reshape(500000,3*96)\n",
    "flatten_layer_1=Layer_1_data_preprocessed.reshape(500000,12*12)\n",
    "flatten_layer_2=Layer_2_data_preprocessed.reshape(500000,6*12)\n",
    "#from random import randint\n",
    "#random_selection=np.array([x for x in range (500000) if x not in random])"
   ]
  },
  {
   "cell_type": "code",
   "execution_count": 5,
   "metadata": {
    "execution": {
     "iopub.execute_input": "2022-12-24T07:38:07.163693Z",
     "iopub.status.busy": "2022-12-24T07:38:07.163212Z",
     "iopub.status.idle": "2022-12-24T07:38:10.057249Z",
     "shell.execute_reply": "2022-12-24T07:38:10.055749Z",
     "shell.execute_reply.started": "2022-12-24T07:38:07.163665Z"
    },
    "id": "Qpn56IptgnKn"
   },
   "outputs": [],
   "source": [
    "#Train-Test Split\n",
    "from sklearn.model_selection import train_test_split\n",
    "layer_0_train, layer_0_test, energy_train, energy_test,  layer_1_train,layer_1_test, layer_2_train, layer_2_test,= train_test_split(flatten_layer_0,  energy, flatten_layer_1, flatten_layer_2,  test_size=0.4, random_state=42)\n",
    "layer_0_train_2D, layer_0_test_2D, energy_train, energy_test,  layer_1_train_2D,layer_1_test_2D, layer_2_train_2D, layer_2_test2D,= train_test_split(Layer_0_data_preprocessed,  energy, Layer_1_data_preprocessed, Layer_2_data_preprocessed,  test_size=0.4, random_state=42)"
   ]
  },
  {
   "cell_type": "code",
   "execution_count": 6,
   "metadata": {
    "execution": {
     "iopub.execute_input": "2022-12-24T07:38:10.059147Z",
     "iopub.status.busy": "2022-12-24T07:38:10.058856Z",
     "iopub.status.idle": "2022-12-24T07:38:12.968133Z",
     "shell.execute_reply": "2022-12-24T07:38:12.967246Z",
     "shell.execute_reply.started": "2022-12-24T07:38:10.059122Z"
    },
    "id": "TOYVznGWZMyy"
   },
   "outputs": [],
   "source": [
    "#DNN Preprocess-2\n",
    "lc1_test=np.array([np.concatenate((layer_0_test, layer_1_test, layer_2_test),axis=1)  ])\n",
    "lc1_train=np.array([np.concatenate((layer_0_train, layer_1_train, layer_2_train),axis=1)  ])\n",
    "lc1_train=lc1_train.reshape(lc1_train.shape[1],lc1_train.shape[2])\n",
    "lc1_test=lc1_test.reshape(lc1_test.shape[1],lc1_test.shape[2])"
   ]
  },
  {
   "cell_type": "code",
   "execution_count": 7,
   "metadata": {
    "execution": {
     "iopub.execute_input": "2022-12-24T07:38:12.969616Z",
     "iopub.status.busy": "2022-12-24T07:38:12.969374Z",
     "iopub.status.idle": "2022-12-24T07:38:12.976058Z",
     "shell.execute_reply": "2022-12-24T07:38:12.975206Z",
     "shell.execute_reply.started": "2022-12-24T07:38:12.969593Z"
    },
    "id": "7yz029HZvne9"
   },
   "outputs": [],
   "source": [
    "#Model Run Mechanism\n",
    "def run_experiment(model, x_train, y_train):\n",
    "    \n",
    "    model.compile(\n",
    "        optimizer=keras.optimizers.Adam(0.003),\n",
    "        loss=keras.losses.MeanSquaredError(reduction=\"auto\", name=\"mean_squared_error\")#,\n",
    "        #metrics=tf.keras.metrics.BinaryAccuracy(),\n",
    "    )\n",
    "    \n",
    "    early_stopping = keras.callbacks.EarlyStopping(\n",
    "        monitor=\"val_loss\", patience=50, restore_best_weights=True\n",
    "    )\n",
    "    \n",
    "    history = model.fit(\n",
    "        x=x_train,\n",
    "        y=y_train,\n",
    "        epochs=50,\n",
    "        batch_size=2028,\n",
    "        validation_split=0.2,\n",
    "        callbacks=[early_stopping],\n",
    "    )\n",
    "\n",
    "    return history"
   ]
  },
  {
   "cell_type": "code",
   "execution_count": 8,
   "metadata": {
    "execution": {
     "iopub.execute_input": "2022-12-24T07:38:12.977694Z",
     "iopub.status.busy": "2022-12-24T07:38:12.977439Z",
     "iopub.status.idle": "2022-12-24T07:38:15.311296Z",
     "shell.execute_reply": "2022-12-24T07:38:15.310269Z",
     "shell.execute_reply.started": "2022-12-24T07:38:12.977671Z"
    },
    "id": "AgJ2Mj70s9fk"
   },
   "outputs": [
    {
     "name": "stdout",
     "output_type": "stream",
     "text": [
      "Model: \"dnn\"\n",
      "_________________________________________________________________\n",
      " Layer (type)                Output Shape              Param #   \n",
      "=================================================================\n",
      " input_features (InputLayer)  [(None, 504)]            0         \n",
      "                                                                 \n",
      " dense (Dense)               (None, 1024)              517120    \n",
      "                                                                 \n",
      " dropout (Dropout)           (None, 1024)              0         \n",
      "                                                                 \n",
      " dense_1 (Dense)             (None, 512)               524800    \n",
      "                                                                 \n",
      " dropout_1 (Dropout)         (None, 512)               0         \n",
      "                                                                 \n",
      " dense_2 (Dense)             (None, 64)                32832     \n",
      "                                                                 \n",
      " dropout_2 (Dropout)         (None, 64)                0         \n",
      "                                                                 \n",
      " output (Dense)              (None, 1)                 65        \n",
      "                                                                 \n",
      "=================================================================\n",
      "Total params: 1,074,817\n",
      "Trainable params: 1,074,817\n",
      "Non-trainable params: 0\n",
      "_________________________________________________________________\n"
     ]
    }
   ],
   "source": [
    "#DNN\n",
    "import keras.layers as layers\n",
    "import tensorflow as tf\n",
    "hidden_units = [1024, 512,64]\n",
    "def dnn(hidden_units, num_classes, dropout_rate):\n",
    "    inputs = layers.Input(shape=(144+(96*3)+72,), name=\"input_features\")\n",
    "    x = inputs\n",
    "    for units in hidden_units:        \n",
    "        x  = layers.Dense(units, activation=tf.nn.relu)(x)\n",
    "        x  = layers.Dropout(rate=dropout_rate)(x)\n",
    "    logits = layers.Dense(num_classes, name=\"output\")(x)\n",
    "    # Create the model.\n",
    "    return keras.Model(inputs=inputs, outputs=logits, name=\"dnn\")\n",
    "\n",
    "\n",
    "dnn_model = dnn(hidden_units, 1, 0)\n",
    "dnn_model.summary()"
   ]
  },
  {
   "cell_type": "code",
   "execution_count": 9,
   "metadata": {
    "execution": {
     "iopub.execute_input": "2022-12-24T07:38:15.313700Z",
     "iopub.status.busy": "2022-12-24T07:38:15.313290Z",
     "iopub.status.idle": "2022-12-24T07:38:15.328389Z",
     "shell.execute_reply": "2022-12-24T07:38:15.326832Z",
     "shell.execute_reply.started": "2022-12-24T07:38:15.313659Z"
    }
   },
   "outputs": [],
   "source": [
    "#CNN\n",
    "def cnn(hidden_units, num_classes, dropout_rate):\n",
    "    inputs0 = layers.Input(shape=(3,96,1,), name=\"input_features_l0\")\n",
    "    inputs1 = layers.Input(shape=(12,12,1,), name=\"input_features_l1\")\n",
    "    inputs2 = layers.Input(shape=(12,6,1,), name=\"input_features_l2\")\n",
    "    cnn0 = layers.Conv2D(32, 3, activation='relu', padding='same')(inputs0)\n",
    "    cnn0 = layers.Conv2D(64, 3, activation='relu')(cnn0)\n",
    "    # cnn0 = layers.Conv2D(64, 5, activation='relu')(cnn0)\n",
    "    cnn0 = layers.Flatten()(cnn0)\n",
    "    inputs0_flat = layers.Flatten()(inputs0)\n",
    "    cnn0Comb = layers.Concatenate()([cnn0,inputs0_flat])\n",
    "    cnn1 = layers.Conv2D(32, 3, activation='relu', padding='same')(inputs1)\n",
    "    cnn1 = layers.Conv2D(64, 3, activation='relu')(cnn1)\n",
    "    cnn1 = layers.Conv2D(128, 5, activation='relu')(cnn1)\n",
    "    cnn1 = layers.Flatten()(cnn1)\n",
    "    inputs1_flat = layers.Flatten()(inputs1)\n",
    "    cnn1Comb = layers.Concatenate()([cnn1,inputs1_flat])\n",
    "    cnn2 = layers.Conv2D(32, 3, activation='relu', padding='same')(inputs2)\n",
    "    cnn2 = layers.Conv2D(64, 3, activation='relu')(cnn2)  \n",
    "    cnn2 = layers.Conv2D(128, 3, activation='relu')(cnn2)      \n",
    "    cnn2 = layers.Flatten()(cnn2)\n",
    "    inputs2_flat = layers.Flatten()(inputs2)\n",
    "    cnn2Comb = layers.Concatenate()([cnn2,inputs2_flat])\n",
    "    x =  layers.Concatenate()([cnn0Comb,cnn1Comb,cnn2Comb])\n",
    "    for units in hidden_units:        \n",
    "        x  = layers.Dense(units, activation=tf.nn.relu)(x)\n",
    "        x  = layers.Dropout(rate=dropout_rate)(x)\n",
    "    logits = layers.Dense(num_classes, name=\"output\")(x)\n",
    "    # Create the model.\n",
    "    return keras.Model(inputs=(inputs0,inputs1,inputs2), outputs=logits, name=\"dnn\")"
   ]
  },
  {
   "cell_type": "code",
   "execution_count": 10,
   "metadata": {
    "execution": {
     "iopub.execute_input": "2022-12-24T07:38:15.331253Z",
     "iopub.status.busy": "2022-12-24T07:38:15.330925Z",
     "iopub.status.idle": "2022-12-24T07:38:15.570442Z",
     "shell.execute_reply": "2022-12-24T07:38:15.567419Z",
     "shell.execute_reply.started": "2022-12-24T07:38:15.331227Z"
    }
   },
   "outputs": [
    {
     "name": "stdout",
     "output_type": "stream",
     "text": [
      "Model: \"dnn\"\n",
      "__________________________________________________________________________________________________\n",
      " Layer (type)                   Output Shape         Param #     Connected to                     \n",
      "==================================================================================================\n",
      " input_features_l1 (InputLayer)  [(None, 12, 12, 1)]  0          []                               \n",
      "                                                                                                  \n",
      " input_features_l2 (InputLayer)  [(None, 12, 6, 1)]  0           []                               \n",
      "                                                                                                  \n",
      " input_features_l0 (InputLayer)  [(None, 3, 96, 1)]  0           []                               \n",
      "                                                                                                  \n",
      " conv2d_2 (Conv2D)              (None, 12, 12, 32)   320         ['input_features_l1[0][0]']      \n",
      "                                                                                                  \n",
      " conv2d_5 (Conv2D)              (None, 12, 6, 32)    320         ['input_features_l2[0][0]']      \n",
      "                                                                                                  \n",
      " conv2d (Conv2D)                (None, 3, 96, 32)    320         ['input_features_l0[0][0]']      \n",
      "                                                                                                  \n",
      " conv2d_3 (Conv2D)              (None, 10, 10, 64)   18496       ['conv2d_2[0][0]']               \n",
      "                                                                                                  \n",
      " conv2d_6 (Conv2D)              (None, 10, 4, 64)    18496       ['conv2d_5[0][0]']               \n",
      "                                                                                                  \n",
      " conv2d_1 (Conv2D)              (None, 1, 94, 64)    18496       ['conv2d[0][0]']                 \n",
      "                                                                                                  \n",
      " conv2d_4 (Conv2D)              (None, 6, 6, 128)    204928      ['conv2d_3[0][0]']               \n",
      "                                                                                                  \n",
      " conv2d_7 (Conv2D)              (None, 8, 2, 128)    73856       ['conv2d_6[0][0]']               \n",
      "                                                                                                  \n",
      " flatten (Flatten)              (None, 6016)         0           ['conv2d_1[0][0]']               \n",
      "                                                                                                  \n",
      " flatten_1 (Flatten)            (None, 288)          0           ['input_features_l0[0][0]']      \n",
      "                                                                                                  \n",
      " flatten_2 (Flatten)            (None, 4608)         0           ['conv2d_4[0][0]']               \n",
      "                                                                                                  \n",
      " flatten_3 (Flatten)            (None, 144)          0           ['input_features_l1[0][0]']      \n",
      "                                                                                                  \n",
      " flatten_4 (Flatten)            (None, 2048)         0           ['conv2d_7[0][0]']               \n",
      "                                                                                                  \n",
      " flatten_5 (Flatten)            (None, 72)           0           ['input_features_l2[0][0]']      \n",
      "                                                                                                  \n",
      " concatenate (Concatenate)      (None, 6304)         0           ['flatten[0][0]',                \n",
      "                                                                  'flatten_1[0][0]']              \n",
      "                                                                                                  \n",
      " concatenate_1 (Concatenate)    (None, 4752)         0           ['flatten_2[0][0]',              \n",
      "                                                                  'flatten_3[0][0]']              \n",
      "                                                                                                  \n",
      " concatenate_2 (Concatenate)    (None, 2120)         0           ['flatten_4[0][0]',              \n",
      "                                                                  'flatten_5[0][0]']              \n",
      "                                                                                                  \n",
      " concatenate_3 (Concatenate)    (None, 13176)        0           ['concatenate[0][0]',            \n",
      "                                                                  'concatenate_1[0][0]',          \n",
      "                                                                  'concatenate_2[0][0]']          \n",
      "                                                                                                  \n",
      " dense_3 (Dense)                (None, 1024)         13493248    ['concatenate_3[0][0]']          \n",
      "                                                                                                  \n",
      " dropout_3 (Dropout)            (None, 1024)         0           ['dense_3[0][0]']                \n",
      "                                                                                                  \n",
      " dense_4 (Dense)                (None, 512)          524800      ['dropout_3[0][0]']              \n",
      "                                                                                                  \n",
      " dropout_4 (Dropout)            (None, 512)          0           ['dense_4[0][0]']                \n",
      "                                                                                                  \n",
      " dense_5 (Dense)                (None, 64)           32832       ['dropout_4[0][0]']              \n",
      "                                                                                                  \n",
      " dropout_5 (Dropout)            (None, 64)           0           ['dense_5[0][0]']                \n",
      "                                                                                                  \n",
      " output (Dense)                 (None, 1)            65          ['dropout_5[0][0]']              \n",
      "                                                                                                  \n",
      "==================================================================================================\n",
      "Total params: 14,386,177\n",
      "Trainable params: 14,386,177\n",
      "Non-trainable params: 0\n",
      "__________________________________________________________________________________________________\n"
     ]
    }
   ],
   "source": [
    "cnn_model = cnn(hidden_units, 1, 0.1)\n",
    "cnn_model.summary()"
   ]
  },
  {
   "cell_type": "code",
   "execution_count": 11,
   "metadata": {
    "execution": {
     "iopub.execute_input": "2022-12-24T07:38:15.577798Z",
     "iopub.status.busy": "2022-12-24T07:38:15.577446Z",
     "iopub.status.idle": "2022-12-24T07:39:44.786480Z",
     "shell.execute_reply": "2022-12-24T07:39:44.785586Z",
     "shell.execute_reply.started": "2022-12-24T07:38:15.577771Z"
    },
    "id": "PUPhTztZvza-"
   },
   "outputs": [
    {
     "name": "stdout",
     "output_type": "stream",
     "text": [
      "Epoch 1/50\n",
      "119/119 [==============================] - 4s 18ms/step - loss: 0.0268 - val_loss: 8.4869e-04\n",
      "Epoch 2/50\n",
      "119/119 [==============================] - 2s 15ms/step - loss: 4.9863e-04 - val_loss: 2.8432e-04\n",
      "Epoch 3/50\n",
      "119/119 [==============================] - 2s 15ms/step - loss: 2.4763e-04 - val_loss: 1.8459e-04\n",
      "Epoch 4/50\n",
      "119/119 [==============================] - 2s 15ms/step - loss: 1.8674e-04 - val_loss: 1.4952e-04\n",
      "Epoch 5/50\n",
      "119/119 [==============================] - 2s 14ms/step - loss: 1.6429e-04 - val_loss: 1.3928e-04\n",
      "Epoch 6/50\n",
      "119/119 [==============================] - 2s 14ms/step - loss: 1.5575e-04 - val_loss: 1.4311e-04\n",
      "Epoch 7/50\n",
      "119/119 [==============================] - 2s 14ms/step - loss: 1.5106e-04 - val_loss: 1.2729e-04\n",
      "Epoch 8/50\n",
      "119/119 [==============================] - 2s 14ms/step - loss: 1.4757e-04 - val_loss: 1.2627e-04\n",
      "Epoch 9/50\n",
      "119/119 [==============================] - 2s 15ms/step - loss: 1.4449e-04 - val_loss: 1.2494e-04\n",
      "Epoch 10/50\n",
      "119/119 [==============================] - 2s 14ms/step - loss: 1.4253e-04 - val_loss: 1.2053e-04\n",
      "Epoch 11/50\n",
      "119/119 [==============================] - 2s 14ms/step - loss: 1.4298e-04 - val_loss: 1.2078e-04\n",
      "Epoch 12/50\n",
      "119/119 [==============================] - 2s 14ms/step - loss: 1.4184e-04 - val_loss: 1.2042e-04\n",
      "Epoch 13/50\n",
      "119/119 [==============================] - 2s 14ms/step - loss: 1.4324e-04 - val_loss: 1.2623e-04\n",
      "Epoch 14/50\n",
      "119/119 [==============================] - 2s 14ms/step - loss: 1.4914e-04 - val_loss: 1.1591e-04\n",
      "Epoch 15/50\n",
      "119/119 [==============================] - 2s 14ms/step - loss: 1.5084e-04 - val_loss: 1.1679e-04\n",
      "Epoch 16/50\n",
      "119/119 [==============================] - 2s 14ms/step - loss: 1.6025e-04 - val_loss: 1.2983e-04\n",
      "Epoch 17/50\n",
      "119/119 [==============================] - 2s 14ms/step - loss: 1.5136e-04 - val_loss: 1.2880e-04\n",
      "Epoch 18/50\n",
      "119/119 [==============================] - 2s 14ms/step - loss: 1.5937e-04 - val_loss: 1.1373e-04\n",
      "Epoch 19/50\n",
      "119/119 [==============================] - 2s 14ms/step - loss: 1.6368e-04 - val_loss: 1.1227e-04\n",
      "Epoch 20/50\n",
      "119/119 [==============================] - 2s 14ms/step - loss: 1.8614e-04 - val_loss: 1.2207e-04\n",
      "Epoch 21/50\n",
      "119/119 [==============================] - 2s 16ms/step - loss: 1.6276e-04 - val_loss: 1.5742e-04\n",
      "Epoch 22/50\n",
      "119/119 [==============================] - 2s 14ms/step - loss: 1.6502e-04 - val_loss: 1.4387e-04\n",
      "Epoch 23/50\n",
      "119/119 [==============================] - 2s 15ms/step - loss: 2.1091e-04 - val_loss: 1.3754e-04\n",
      "Epoch 24/50\n",
      "119/119 [==============================] - 2s 14ms/step - loss: 1.4780e-04 - val_loss: 1.4632e-04\n",
      "Epoch 25/50\n",
      "119/119 [==============================] - 2s 14ms/step - loss: 1.8839e-04 - val_loss: 1.5628e-04\n",
      "Epoch 26/50\n",
      "119/119 [==============================] - 2s 14ms/step - loss: 1.7375e-04 - val_loss: 1.1456e-04\n",
      "Epoch 27/50\n",
      "119/119 [==============================] - 2s 14ms/step - loss: 1.6833e-04 - val_loss: 0.0017\n",
      "Epoch 28/50\n",
      "119/119 [==============================] - 2s 14ms/step - loss: 2.2122e-04 - val_loss: 1.0853e-04\n",
      "Epoch 29/50\n",
      "119/119 [==============================] - 2s 14ms/step - loss: 1.5079e-04 - val_loss: 1.2561e-04\n",
      "Epoch 30/50\n",
      "119/119 [==============================] - 2s 14ms/step - loss: 1.6730e-04 - val_loss: 1.4016e-04\n",
      "Epoch 31/50\n",
      "119/119 [==============================] - 2s 14ms/step - loss: 1.8660e-04 - val_loss: 1.5801e-04\n",
      "Epoch 32/50\n",
      "119/119 [==============================] - 2s 14ms/step - loss: 1.4430e-04 - val_loss: 1.4342e-04\n",
      "Epoch 33/50\n",
      "119/119 [==============================] - 2s 14ms/step - loss: 1.7565e-04 - val_loss: 1.5787e-04\n",
      "Epoch 34/50\n",
      "119/119 [==============================] - 2s 14ms/step - loss: 1.8170e-04 - val_loss: 1.0974e-04\n",
      "Epoch 35/50\n",
      "119/119 [==============================] - 2s 14ms/step - loss: 1.6439e-04 - val_loss: 2.7395e-04\n",
      "Epoch 36/50\n",
      "119/119 [==============================] - 2s 14ms/step - loss: 1.6419e-04 - val_loss: 1.4603e-04\n",
      "Epoch 37/50\n",
      "119/119 [==============================] - 2s 15ms/step - loss: 1.6791e-04 - val_loss: 1.2165e-04\n",
      "Epoch 38/50\n",
      "119/119 [==============================] - 2s 14ms/step - loss: 1.5028e-04 - val_loss: 1.0834e-04\n",
      "Epoch 39/50\n",
      "119/119 [==============================] - 2s 14ms/step - loss: 2.0068e-04 - val_loss: 1.5011e-04\n",
      "Epoch 40/50\n",
      "119/119 [==============================] - 2s 14ms/step - loss: 1.3706e-04 - val_loss: 1.0935e-04\n",
      "Epoch 41/50\n",
      "119/119 [==============================] - 2s 15ms/step - loss: 1.7295e-04 - val_loss: 1.2364e-04\n",
      "Epoch 42/50\n",
      "119/119 [==============================] - 2s 15ms/step - loss: 1.3982e-04 - val_loss: 1.4265e-04\n",
      "Epoch 43/50\n",
      "119/119 [==============================] - 2s 15ms/step - loss: 1.6502e-04 - val_loss: 1.0550e-04\n",
      "Epoch 44/50\n",
      "119/119 [==============================] - 2s 14ms/step - loss: 1.4537e-04 - val_loss: 1.5746e-04\n",
      "Epoch 45/50\n",
      "119/119 [==============================] - 2s 14ms/step - loss: 1.6765e-04 - val_loss: 1.2056e-04\n",
      "Epoch 46/50\n",
      "119/119 [==============================] - 2s 14ms/step - loss: 1.4949e-04 - val_loss: 1.0764e-04\n",
      "Epoch 47/50\n",
      "119/119 [==============================] - 2s 14ms/step - loss: 1.4890e-04 - val_loss: 1.2831e-04\n",
      "Epoch 48/50\n",
      "119/119 [==============================] - 2s 14ms/step - loss: 1.5090e-04 - val_loss: 1.2525e-04\n",
      "Epoch 49/50\n",
      "119/119 [==============================] - 2s 14ms/step - loss: 1.5366e-04 - val_loss: 1.1566e-04\n",
      "Epoch 50/50\n",
      "119/119 [==============================] - 2s 14ms/step - loss: 1.4330e-04 - val_loss: 2.0915e-04\n"
     ]
    }
   ],
   "source": [
    "#DNN Training\n",
    "x_train=lc1_train\n",
    "y_train=energy_train\n",
    "history_dnn=run_experiment(dnn_model, x_train, y_train)"
   ]
  },
  {
   "cell_type": "code",
   "execution_count": 12,
   "metadata": {
    "execution": {
     "iopub.execute_input": "2022-12-24T07:39:44.787982Z",
     "iopub.status.busy": "2022-12-24T07:39:44.787672Z",
     "iopub.status.idle": "2022-12-24T08:05:44.227792Z",
     "shell.execute_reply": "2022-12-24T08:05:44.226867Z",
     "shell.execute_reply.started": "2022-12-24T07:39:44.787956Z"
    }
   },
   "outputs": [
    {
     "name": "stdout",
     "output_type": "stream",
     "text": [
      "Epoch 1/50\n",
      "119/119 [==============================] - 40s 278ms/step - loss: 0.1183 - val_loss: 2.5128e-04\n",
      "Epoch 2/50\n",
      "119/119 [==============================] - 31s 263ms/step - loss: 0.0038 - val_loss: 3.2150e-04\n",
      "Epoch 3/50\n",
      "119/119 [==============================] - 31s 260ms/step - loss: 0.0032 - val_loss: 5.6292e-04\n",
      "Epoch 4/50\n",
      "119/119 [==============================] - 31s 260ms/step - loss: 0.0030 - val_loss: 3.7448e-04\n",
      "Epoch 5/50\n",
      "119/119 [==============================] - 31s 260ms/step - loss: 0.0028 - val_loss: 4.0635e-04\n",
      "Epoch 6/50\n",
      "119/119 [==============================] - 31s 260ms/step - loss: 0.0026 - val_loss: 4.8449e-04\n",
      "Epoch 7/50\n",
      "119/119 [==============================] - 31s 260ms/step - loss: 0.0024 - val_loss: 0.0011\n",
      "Epoch 8/50\n",
      "119/119 [==============================] - 31s 260ms/step - loss: 0.0022 - val_loss: 8.7241e-04\n",
      "Epoch 9/50\n",
      "119/119 [==============================] - 31s 260ms/step - loss: 0.0021 - val_loss: 0.0013\n",
      "Epoch 10/50\n",
      "119/119 [==============================] - 31s 260ms/step - loss: 0.0020 - val_loss: 0.0015\n",
      "Epoch 11/50\n",
      "119/119 [==============================] - 31s 260ms/step - loss: 0.0019 - val_loss: 0.0015\n",
      "Epoch 12/50\n",
      "119/119 [==============================] - 31s 261ms/step - loss: 0.0018 - val_loss: 0.0014\n",
      "Epoch 13/50\n",
      "119/119 [==============================] - 31s 261ms/step - loss: 0.0017 - val_loss: 0.0019\n",
      "Epoch 14/50\n",
      "119/119 [==============================] - 31s 261ms/step - loss: 0.0016 - val_loss: 0.0031\n",
      "Epoch 15/50\n",
      "119/119 [==============================] - 31s 261ms/step - loss: 0.0016 - val_loss: 0.0035\n",
      "Epoch 16/50\n",
      "119/119 [==============================] - 31s 260ms/step - loss: 0.0015 - val_loss: 0.0040\n",
      "Epoch 17/50\n",
      "119/119 [==============================] - 31s 260ms/step - loss: 0.0015 - val_loss: 0.0030\n",
      "Epoch 18/50\n",
      "119/119 [==============================] - 31s 261ms/step - loss: 0.0014 - val_loss: 0.0033\n",
      "Epoch 19/50\n",
      "119/119 [==============================] - 31s 260ms/step - loss: 0.0014 - val_loss: 0.0039\n",
      "Epoch 20/50\n",
      "119/119 [==============================] - 31s 261ms/step - loss: 0.0013 - val_loss: 0.0034\n",
      "Epoch 21/50\n",
      "119/119 [==============================] - 31s 260ms/step - loss: 0.0012 - val_loss: 0.0036\n",
      "Epoch 22/50\n",
      "119/119 [==============================] - 31s 261ms/step - loss: 0.0012 - val_loss: 0.0044\n",
      "Epoch 23/50\n",
      "119/119 [==============================] - 31s 260ms/step - loss: 0.0012 - val_loss: 0.0037\n",
      "Epoch 24/50\n",
      "119/119 [==============================] - 31s 261ms/step - loss: 0.0011 - val_loss: 0.0042\n",
      "Epoch 25/50\n",
      "119/119 [==============================] - 31s 261ms/step - loss: 0.0011 - val_loss: 0.0033\n",
      "Epoch 26/50\n",
      "119/119 [==============================] - 31s 261ms/step - loss: 0.0011 - val_loss: 0.0031\n",
      "Epoch 27/50\n",
      "119/119 [==============================] - 31s 261ms/step - loss: 0.0010 - val_loss: 0.0039\n",
      "Epoch 28/50\n",
      "119/119 [==============================] - 31s 261ms/step - loss: 0.0010 - val_loss: 0.0035\n",
      "Epoch 29/50\n",
      "119/119 [==============================] - 31s 261ms/step - loss: 9.8900e-04 - val_loss: 0.0034\n",
      "Epoch 30/50\n",
      "119/119 [==============================] - 31s 261ms/step - loss: 9.8280e-04 - val_loss: 0.0030\n",
      "Epoch 31/50\n",
      "119/119 [==============================] - 31s 260ms/step - loss: 9.6223e-04 - val_loss: 0.0029\n",
      "Epoch 32/50\n",
      "119/119 [==============================] - 31s 260ms/step - loss: 9.6661e-04 - val_loss: 0.0027\n",
      "Epoch 33/50\n",
      "119/119 [==============================] - 31s 261ms/step - loss: 9.4132e-04 - val_loss: 0.0036\n",
      "Epoch 34/50\n",
      "119/119 [==============================] - 31s 261ms/step - loss: 9.4429e-04 - val_loss: 0.0031\n",
      "Epoch 35/50\n",
      "119/119 [==============================] - 31s 260ms/step - loss: 9.4620e-04 - val_loss: 0.0042\n",
      "Epoch 36/50\n",
      "119/119 [==============================] - 31s 260ms/step - loss: 9.4170e-04 - val_loss: 0.0031\n",
      "Epoch 37/50\n",
      "119/119 [==============================] - 31s 260ms/step - loss: 9.2212e-04 - val_loss: 0.0026\n",
      "Epoch 38/50\n",
      "119/119 [==============================] - 31s 260ms/step - loss: 8.9904e-04 - val_loss: 0.0034\n",
      "Epoch 39/50\n",
      "119/119 [==============================] - 31s 260ms/step - loss: 8.8148e-04 - val_loss: 0.0035\n",
      "Epoch 40/50\n",
      "119/119 [==============================] - 31s 260ms/step - loss: 9.0572e-04 - val_loss: 0.0022\n",
      "Epoch 41/50\n",
      "119/119 [==============================] - 31s 260ms/step - loss: 8.9107e-04 - val_loss: 0.0024\n",
      "Epoch 42/50\n",
      "119/119 [==============================] - 31s 260ms/step - loss: 8.7893e-04 - val_loss: 0.0028\n",
      "Epoch 43/50\n",
      "119/119 [==============================] - 31s 260ms/step - loss: 8.7891e-04 - val_loss: 0.0039\n",
      "Epoch 44/50\n",
      "119/119 [==============================] - 31s 260ms/step - loss: 9.0147e-04 - val_loss: 0.0041\n",
      "Epoch 45/50\n",
      "119/119 [==============================] - 31s 260ms/step - loss: 8.7165e-04 - val_loss: 0.0024\n",
      "Epoch 46/50\n",
      "119/119 [==============================] - 31s 260ms/step - loss: 8.7594e-04 - val_loss: 0.0025\n",
      "Epoch 47/50\n",
      "119/119 [==============================] - 31s 260ms/step - loss: 8.7617e-04 - val_loss: 0.0027\n",
      "Epoch 48/50\n",
      "119/119 [==============================] - 31s 262ms/step - loss: 8.5938e-04 - val_loss: 0.0031\n",
      "Epoch 49/50\n",
      "119/119 [==============================] - 31s 260ms/step - loss: 8.6851e-04 - val_loss: 0.0025\n",
      "Epoch 50/50\n",
      "119/119 [==============================] - 31s 260ms/step - loss: 8.5832e-04 - val_loss: 0.0023\n"
     ]
    }
   ],
   "source": [
    "#CNN Training\n",
    "history_cnn=run_experiment(cnn_model,[layer_0_train_2D,l ayer_1_train_2D,layer_2_train_2D],energy_train)"
   ]
  },
  {
   "cell_type": "code",
   "execution_count": 13,
   "metadata": {
    "execution": {
     "iopub.execute_input": "2022-12-24T08:05:44.230079Z",
     "iopub.status.busy": "2022-12-24T08:05:44.229808Z",
     "iopub.status.idle": "2022-12-24T08:06:38.528101Z",
     "shell.execute_reply": "2022-12-24T08:06:38.527196Z",
     "shell.execute_reply.started": "2022-12-24T08:05:44.230055Z"
    }
   },
   "outputs": [
    {
     "name": "stdout",
     "output_type": "stream",
     "text": [
      "6250/6250 [==============================] - 22s 4ms/step\n",
      "6250/6250 [==============================] - 10s 2ms/step\n"
     ]
    }
   ],
   "source": [
    "#CNN Prediction\n",
    "cnn_predict=cnn_model.predict(x=[layer_0_test_2D,layer_1_test_2D,layer_2_test2D],verbose=1)\n",
    "dnn_predict = dnn_model.predict(x=lc1_test, verbose=1)"
   ]
  },
  {
   "cell_type": "code",
   "execution_count": 19,
   "metadata": {
    "execution": {
     "iopub.execute_input": "2022-12-10T17:43:30.467808Z",
     "iopub.status.busy": "2022-12-10T17:43:30.466707Z",
     "iopub.status.idle": "2022-12-10T17:43:31.780905Z",
     "shell.execute_reply": "2022-12-10T17:43:31.779952Z",
     "shell.execute_reply.started": "2022-12-10T17:43:30.467781Z"
    }
   },
   "outputs": [
    {
     "data": {
      "text/plain": [
       "<matplotlib.legend.Legend at 0x7f2c74a27b50>"
      ]
     },
     "execution_count": 19,
     "metadata": {},
     "output_type": "execute_result"
    },
    {
     "data": {
      "image/png": "[encoded data removed]",
      "text/plain": [
       "<Figure size 360x360 with 1 Axes>"
      ]
     },
     "metadata": {
      "needs_background": "light"
     },
     "output_type": "display_data"
    }
   ],
   "source": [
    "#Model Predictions\n",
    "energy = np.array(energy)\n",
    "dnn_predict = np.array(dnn_predict)\n",
    "cnn_predict = np.array(cnn_predict)\n",
    "import matplotlib.pyplot as plt\n",
    "fig, ax = plt.subplots(1,1,figsize=[5,5])\n",
    "algo=np.sum(layer_0_test[energy_test>0],axis=1)*nrm_l0+np.sum(layer_1_test[energy_test>0],axis=1)*nrm_l1+np.sum(layer_2_test[energy_test>0],axis=1)*nrm_l2\n",
    "#ax.hist(algo,bins= 100, density= True, label=\"Sum energy\") \n",
    "ax.hist(dnn_predict,bins= 100, density = True , alpha = 0.4,  label=\"DNN predict\")\n",
    "ax.hist(cnn_predict,bins= 100, density = True, alpha = 0.4, label=\"CNN predict\")\n",
    "\n",
    "plt.legend() \n"
   ]
  },
  {
   "cell_type": "code",
   "execution_count": null,
   "metadata": {
    "execution": {
     "iopub.execute_input": "2022-12-24T09:04:08.826010Z",
     "iopub.status.busy": "2022-12-24T09:04:08.825642Z",
     "iopub.status.idle": "2022-12-24T09:04:09.106062Z",
     "shell.execute_reply": "2022-12-24T09:04:09.105056Z",
     "shell.execute_reply.started": "2022-12-24T09:04:08.825986Z"
    },
    "id": "64s3HBLVmxJl"
   },
   "outputs": [],
   "source": [
    "#Training Performance\n",
    "import matplotlib.pyplot as plt\n",
    "fig, (ax) = plt.subplots(1, 2, figsize=(10,5))\n",
    "ax[0].plot(history_dnn.history[\"loss\"])\n",
    "ax[0].plot(history_dnn.history[\"val_loss\"])\n",
    "ax[0].legend([\"train\", \"val\"],fontsize=15, loc=\"upper right\")\n",
    "ax[0].set_xlabel(\"Training Epochs\",fontsize=15)\n",
    "ax[0].set_ylabel(\"Loss(MSE)\", fontsize=15)\n",
    "ax[0].tick_params(labelsize=12)\n",
    "ax[1].tick_params(labelsize=12)\n",
    "ax[1].plot(history_cnn.history[\"loss\"])\n",
    "ax[1].plot(history_cnn.history[\"val_loss\"])\n",
    "ax[1].legend([\"train\", \"val\"],fontsize=15, loc=\"upper right\")\n",
    "ax[1].set_xlabel(\"Training Epochs\",fontsize=15)\n",
    "ax[1].set_ylim(top  = 0.006, bottom = 0.0)\n",
    "ax[0].set_ylim(top  = 0.006, bottom = 0.0)\n",
    "plt.show()"
   ]
  },
  {
   "cell_type": "code",
   "execution_count": 19,
   "metadata": {
    "execution": {
     "iopub.execute_input": "2022-12-24T08:36:04.044910Z",
     "iopub.status.busy": "2022-12-24T08:36:04.044561Z",
     "iopub.status.idle": "2022-12-24T08:36:04.579748Z",
     "shell.execute_reply": "2022-12-24T08:36:04.578465Z",
     "shell.execute_reply.started": "2022-12-24T08:36:04.044885Z"
    }
   },
   "outputs": [
    {
     "name": "stdout",
     "output_type": "stream",
     "text": [
      "141083\n",
      "199971\n",
      "0.07071936773431463\n",
      "2.943261827966066\n",
      "-0.018267973349515926\n",
      "1.5026923280228004\n"
     ]
    }
   ],
   "source": [
    "#Energy Resolution Distribution\n",
    "dnn_predict = dnn_predict.reshape(dnn_predict.shape[0])\n",
    "energy_cut  = 0 / (nrm_e * 1000)\n",
    "dnn_diff_pred = (dnn_predict[energy_test>energy_cut] - energy_test[energy_test>energy_cut])/ energy_test[energy_test>energy_cut]\n",
    "diff_sum = (np.sum(layer_0_test[energy_test>energy_cut],axis=1)*nrm_l0+np.sum(layer_1_test[energy_test>energy_cut],axis=1)*nrm_l1+np.sum(layer_2_test[energy_test>energy_cut],axis=1)*nrm_l2 - energy_test[energy_test>energy_cut]*nrm_e*1000 + 0.0068*energy_test[energy_test>energy_cut]*nrm_e*1000)/(energy_test[energy_test>energy_cut]*nrm_e*1000)\n",
    "print(np.argmin(diff_sum))\n",
    "print(np.sum(diff_sum>0))\n",
    "\n",
    "print(np.std(dnn_diff_pred))\n",
    "print(np.std(diff_sum))\n",
    "print(np.mean(dnn_diff_pred))\n",
    "print(np.mean(diff_sum))"
   ]
  },
  {
   "cell_type": "code",
   "execution_count": 20,
   "metadata": {
    "execution": {
     "iopub.execute_input": "2022-12-24T08:36:06.294288Z",
     "iopub.status.busy": "2022-12-24T08:36:06.293914Z",
     "iopub.status.idle": "2022-12-24T08:36:06.302246Z",
     "shell.execute_reply": "2022-12-24T08:36:06.301247Z",
     "shell.execute_reply.started": "2022-12-24T08:36:06.294262Z"
    }
   },
   "outputs": [],
   "source": [
    "#CNN Energy Resolution\n",
    "cnn_predict=np.array([cnn_predict]).reshape(200000)\n",
    "cnn_diff_predict=(cnn_predict[energy_test>energy_cut]-energy_test[energy_test>energy_cut])/energy_test[energy_test>energy_cut]"
   ]
  },
  {
   "cell_type": "code",
   "execution_count": 66,
   "metadata": {
    "execution": {
     "iopub.execute_input": "2022-12-24T09:04:41.869033Z",
     "iopub.status.busy": "2022-12-24T09:04:41.868534Z",
     "iopub.status.idle": "2022-12-24T09:04:42.476658Z",
     "shell.execute_reply": "2022-12-24T09:04:42.475727Z",
     "shell.execute_reply.started": "2022-12-24T09:04:41.869005Z"
    },
    "id": "rVUjJx44mycm"
   },
   "outputs": [
    {
     "data": {
      "text/plain": [
       "<matplotlib.legend.Legend at 0x7ef9f18f0df0>"
      ]
     },
     "execution_count": 66,
     "metadata": {},
     "output_type": "execute_result"
    },
    {
     "data": {
      "image/png": "[encoded data removed]",
      "text/plain": [
       "<Figure size 504x360 with 1 Axes>"
      ]
     },
     "metadata": {
      "needs_background": "light"
     },
     "output_type": "display_data"
    }
   ],
   "source": [
    "fig, ax = plt.subplots(1,1,figsize=[7,5])\n",
    "ax.hist(dnn_diff_pred, bins = 100, range=[-0.1,0.1], label = \"DNN\") \n",
    "ax.hist(cnn_diff_predict,  bins = 100, range=[-0.1,0.1],color=\"g\", label = \"CNN\") \n",
    "ax.set_ylabel(\"Frequency\", fontsize=15)\n",
    "ax.tick_params(labelsize=12)\n",
    "ax.set_xlabel(\"$E_{\\t{Resolution}}$\", fontsize=15)\n",
    "ax.legend(fontsize=15)"
   ]
  },
  {
   "cell_type": "code",
   "execution_count": 72,
   "metadata": {
    "execution": {
     "iopub.execute_input": "2022-12-24T09:08:45.871191Z",
     "iopub.status.busy": "2022-12-24T09:08:45.870840Z",
     "iopub.status.idle": "2022-12-24T09:08:46.184002Z",
     "shell.execute_reply": "2022-12-24T09:08:46.182767Z",
     "shell.execute_reply.started": "2022-12-24T09:08:45.871166Z"
    }
   },
   "outputs": [
    {
     "data": {
      "image/png": "[encoded data removed]",
      "text/plain": [
       "<Figure size 432x288 with 1 Axes>"
      ]
     },
     "metadata": {
      "needs_background": "light"
     },
     "output_type": "display_data"
    }
   ],
   "source": [
    "#Sum-Algo Energy Resolution\n",
    "plt.hist(diff_sum, alpha = 0.6, bins = 100, range=[-0.1,0.1], label = \"sum algo\", color=\"r\")\n",
    "plt.ylabel(\"Frequency\", fontsize=15)\n",
    "plt.xlabel(\"$E_{\\t{Resolution}}$\", fontsize=15)\n",
    "plt.tick_params(labelsize=10)\n"
   ]
  },
  {
   "cell_type": "code",
   "execution_count": 65,
   "metadata": {
    "execution": {
     "iopub.execute_input": "2022-10-24T11:57:44.503123Z",
     "iopub.status.busy": "2022-10-24T11:57:44.502264Z",
     "iopub.status.idle": "2022-10-24T11:57:44.953156Z",
     "shell.execute_reply": "2022-10-24T11:57:44.951464Z",
     "shell.execute_reply.started": "2022-10-24T11:57:44.503083Z"
    }
   },
   "outputs": [
    {
     "data": {
      "image/png": "[encoded data removed]",
      "text/plain": [
       "<Figure size 432x288 with 4 Axes>"
      ]
     },
     "metadata": {
      "needs_background": "light"
     },
     "output_type": "display_data"
    }
   ],
   "source": [
    "#Log-Normalized Data\n",
    "from matplotlib.colors import LogNorm\n",
    "def log_normalized_figures(n):\n",
    "    fig, ax=plt.subplots(1,4)\n",
    "    ax[0].imshow(y[n], norm=LogNorm(vmin=1, vmax=np.max(y[n])))\n",
    "    ax[1].imshow(y[n])\n",
    "    ax[2].imshow(layer_1_data[n], norm=LogNorm(vmin=1, vmax=np.max(layer_1_data[1])))\n",
    "    ax[3].imshow(layer_1_data[n])\n",
    "    plt.show()\n",
    "log_normalized_figures(100)"
   ]
  }
 ],
 "metadata": {
  "colab": {
   "collapsed_sections": [],
   "private_outputs": true,
   "provenance": []
  },
  "kernelspec": {
   "display_name": "Python 3 (ipykernel)",
   "language": "python",
   "name": "python3"
  },
  "language_info": {
   "codemirror_mode": {
    "name": "ipython",
    "version": 3
   },
   "file_extension": ".py",
   "mimetype": "text/x-python",
   "name": "python",
   "nbconvert_exporter": "python",
   "pygments_lexer": "ipython3",
   "version": "3.9.12"
  }
 },
 "nbformat": 4,
 "nbformat_minor": 4
}
