{
 "cells": [
  {
   "cell_type": "code",
   "execution_count": 3,
   "metadata": {
    "execution": {
     "iopub.execute_input": "2022-12-25T17:10:54.948127Z",
     "iopub.status.busy": "2022-12-25T17:10:54.947330Z",
     "iopub.status.idle": "2022-12-25T17:10:54.955388Z",
     "shell.execute_reply": "2022-12-25T17:10:54.954168Z",
     "shell.execute_reply.started": "2022-12-25T17:10:54.948086Z"
    },
    "id": "RIO91Fu65s6k"
   },
   "outputs": [],
   "source": [
    "import tensorflow\n",
    "import numpy as np\n",
    "import pandas as pd\n",
    "import os\n",
    "import tensorflow.keras as keras\n",
    "zip_file=keras.utils.get_file(\n",
    "    fname=\"gamma_angle_position_5deg_xy.h5\",\n",
    "    origin=\"https://zenodo.org/record/846388/files/gamma_angle_position_5deg_xy.h5?download=1\",\n",
    "    extract=True\n",
    "\n",
    ")\n",
    "dirnam=os.path.join(os.path.dirname(zip_file), \"gamma_angle_position_5deg_xy.h5\")\n",
    "import h5py\n",
    "#data imported"
   ]
  },
  {
   "cell_type": "code",
   "execution_count": 4,
   "metadata": {
    "execution": {
     "iopub.execute_input": "2022-12-25T17:10:55.962910Z",
     "iopub.status.busy": "2022-12-25T17:10:55.962496Z",
     "iopub.status.idle": "2022-12-25T17:10:55.971259Z",
     "shell.execute_reply": "2022-12-25T17:10:55.969449Z",
     "shell.execute_reply.started": "2022-12-25T17:10:55.962884Z"
    }
   },
   "outputs": [],
   "source": [
    "#Input Genration Algorithm-Particle Position Finder\n",
    "def max_loc(layer):\n",
    "    layer_flat_2D=layer.reshape(layer.shape[0],layer.shape[1]*layer.shape[2])\n",
    "    maxx = np.argmax(layer_flat_2D,axis=1)%layer.shape[2]\n",
    "    maxy = np.argmax(layer_flat_2D,axis=1)//layer.shape[2]\n",
    "    max = np.stack([maxx,maxy],axis=1)\n",
    "    return max\n",
    "    #maxes = Layer_1_data_preprocessed.take(max)"
   ]
  },
  {
   "cell_type": "code",
   "execution_count": 5,
   "metadata": {
    "execution": {
     "iopub.execute_input": "2022-12-25T17:10:56.911272Z",
     "iopub.status.busy": "2022-12-25T17:10:56.910911Z",
     "iopub.status.idle": "2022-12-25T17:10:56.919388Z",
     "shell.execute_reply": "2022-12-25T17:10:56.918223Z",
     "shell.execute_reply.started": "2022-12-25T17:10:56.911252Z"
    }
   },
   "outputs": [],
   "source": [
    "#Input Extraction\n",
    "def extract_message(layers):\n",
    "    max_coor = max_loc(layers)\n",
    "    print(max_coor.shape)\n",
    "    e_message = np.zeros((1,3,3))\n",
    "    message = np.empty((500000,3,3))\n",
    "    print(max_coor[0,0])\n",
    "    for index in range(max_coor.shape[0]):\n",
    "        if(max_coor[index,0] > 1 and max_coor[index,1] > 1 and  max_coor[index,0] < layers.shape[2]-1 and max_coor[index,1] < layers.shape[1]-1):\n",
    "            test = np.array(layers[index,max_coor[index,1]-1:max_coor[index,1]+2,max_coor[index,0]-1:max_coor[index,0]+2])\n",
    "        else:\n",
    "            test = e_message\n",
    "        if index == 12 : \n",
    "            print(test)\n",
    "        message[index] =  test\n",
    "    return message\n",
    "#first gnn model input extraction"
   ]
  },
  {
   "cell_type": "code",
   "execution_count": 6,
   "metadata": {
    "execution": {
     "iopub.execute_input": "2022-12-25T17:10:58.883646Z",
     "iopub.status.busy": "2022-12-25T17:10:58.883017Z",
     "iopub.status.idle": "2022-12-25T17:11:03.470822Z",
     "shell.execute_reply": "2022-12-25T17:11:03.469318Z",
     "shell.execute_reply.started": "2022-12-25T17:10:58.883646Z"
    },
    "id": "cuM9humvFrbe"
   },
   "outputs": [
    {
     "name": "stdout",
     "output_type": "stream",
     "text": [
      "(500000, 3, 96)\n"
     ]
    }
   ],
   "source": [
    "#Data Generation\n",
    "layer_0_data = (np.array(h5py.File(zip_file)[\"layer_0\"][:]))\n",
    "layer_1_data = (np.array(h5py.File(zip_file)[\"layer_1\"][:]))\n",
    "layer_2_data = (np.array(h5py.File(zip_file)[\"layer_2\"][:]))\n",
    "energy=(np.array(h5py.File(zip_file)[\"energy\"]))\n",
    "order = np.arange(0, energy.shape[0])\n",
    "np.random.shuffle(order)\n",
    "energy=energy.reshape(energy.shape[0])\n",
    "energy_s = energy[order]\n",
    "layer_0_data_s = layer_0_data[order] \n",
    "layer_1_data_s = layer_1_data[order] \n",
    "layer_2_data_s = layer_2_data[order] \n",
    "\n",
    "\n",
    "nottobe_merged = max_loc(layer_1_data_s) == max_loc(layer_1_data)\n",
    "\n",
    "print(layer_0_data.shape)\n",
    "\n",
    "nrm_e=np.max(energy)\n",
    "\n",
    "\n",
    "#data classes imported"
   ]
  },
  {
   "cell_type": "code",
   "execution_count": 8,
   "metadata": {
    "execution": {
     "iopub.execute_input": "2022-12-25T17:11:06.341441Z",
     "iopub.status.busy": "2022-12-25T17:11:06.341073Z",
     "iopub.status.idle": "2022-12-25T17:11:15.019201Z",
     "shell.execute_reply": "2022-12-25T17:11:15.018188Z",
     "shell.execute_reply.started": "2022-12-25T17:11:06.341411Z"
    }
   },
   "outputs": [],
   "source": [
    "#The Gaussian Noise\n",
    "rng = np.random.default_rng()\n",
    "noise_l0 = rng.normal(0,167,layer_0_data.shape[0]*layer_0_data.shape[1]*layer_0_data.shape[2])\n",
    "noise_l0 = noise_l0.reshape(layer_0_data.shape[0],layer_0_data.shape[1],layer_0_data.shape[2])\n",
    "mask = np.zeros([layer_0_data.shape[1],layer_0_data.shape[2]])\n",
    "layer_0_data= layer_0_data# + noise_l0\n",
    "nrm_l0=np.max(layer_0_data)\n",
    "layer_0_data[layer_0_data<0] = 0\n",
    "\n",
    "\n",
    "\n",
    "noise_l1 = rng.normal(0,167,layer_1_data.shape[0]*layer_1_data.shape[1]*layer_1_data.shape[2])\n",
    "noise_l1 = noise_l1.reshape(layer_1_data.shape[0],layer_1_data.shape[1],layer_1_data.shape[2])\n",
    "mask = np.zeros([layer_1_data.shape[1],layer_1_data.shape[2]])\n",
    "layer_1_data = layer_1_data#+ noise_l1\n",
    "nrm_l1=np.max(layer_1_data)\n",
    "layer_1_data[layer_1_data<0] = 0\n",
    "\n",
    "noise_l2 = rng.normal(0,167,layer_2_data.shape[0]*layer_2_data.shape[1]*layer_2_data.shape[2])\n",
    "noise_l2 = noise_l2.reshape(layer_2_data.shape[0],layer_2_data.shape[1],layer_2_data.shape[2])\n",
    "mask = np.zeros([layer_2_data.shape[1],layer_2_data.shape[2]])\n",
    "layer_2_data = layer_2_data# + noise_l2\n",
    "nrm_l2=np.max(layer_2_data)\n",
    "layer_2_data[layer_2_data<0] = 0\n",
    "\n",
    "Layer_0_data_preprocessed=(layer_0_data)/nrm_l0\n",
    "Layer_1_data_preprocessed=(layer_1_data)/nrm_l1\n",
    "Layer_2_data_preprocessed=(layer_2_data)/nrm_l2\n",
    "energy = energy / nrm_e\n",
    "#data, noise and preprocessing "
   ]
  },
  {
   "cell_type": "code",
   "execution_count": 9,
   "metadata": {
    "execution": {
     "iopub.execute_input": "2022-12-25T17:11:28.039230Z",
     "iopub.status.busy": "2022-12-25T17:11:28.038749Z",
     "iopub.status.idle": "2022-12-25T17:11:32.135404Z",
     "shell.execute_reply": "2022-12-25T17:11:32.134534Z",
     "shell.execute_reply.started": "2022-12-25T17:11:28.039197Z"
    }
   },
   "outputs": [
    {
     "name": "stdout",
     "output_type": "stream",
     "text": [
      "(500000, 2)\n",
      "6\n",
      "[[0.00760367 0.02254065 0.01318654]\n",
      " [0.02211892 0.77083919 0.07237   ]\n",
      " [0.01185242 0.0664807  0.02532525]]\n",
      "(500000, 2)\n",
      "3\n",
      "[[1.44615634e-04 2.96960331e-04 1.61899489e-03]\n",
      " [0.00000000e+00 1.80149791e-03 1.30472245e-03]\n",
      " [3.95087883e-04 7.78432114e-05 1.67594708e-04]]\n"
     ]
    }
   ],
   "source": [
    "messages_l1_gnn = extract_message(Layer_1_data_preprocessed)\n",
    "messages_l2_gnn = extract_message(Layer_2_data_preprocessed)\n",
    "#First GNN Inputs"
   ]
  },
  {
   "cell_type": "code",
   "execution_count": 10,
   "metadata": {
    "execution": {
     "iopub.execute_input": "2022-12-25T17:11:33.327718Z",
     "iopub.status.busy": "2022-12-25T17:11:33.327068Z",
     "iopub.status.idle": "2022-12-25T17:12:04.093111Z",
     "shell.execute_reply": "2022-12-25T17:12:04.092125Z",
     "shell.execute_reply.started": "2022-12-25T17:11:33.327596Z"
    }
   },
   "outputs": [],
   "source": [
    "#Data Preprocessing and Exclusion of Some Data\n",
    "def empty2D(par):\n",
    "    empty1=par==np.zeros((3,3))\n",
    "    empty1=np.logical_and.reduce(empty1, axis = 2)\n",
    "    empty1=np.array(np.where(empty1==True))\n",
    "    empty1=empty1[0]\n",
    "    empty1=set(empty1)\n",
    "    return empty1\n",
    "def intersect2L(layer1,layer2):\n",
    "    intersect=layer1.union(layer2)\n",
    "    return intersect\n",
    "emp1=empty2D(messages_l1_gnn)\n",
    "emp2=empty2D(messages_l2_gnn)\n",
    "excluded_data1=intersect2L(emp1,emp2)\n",
    "excluded_data1=np.array([list(excluded_data1)])\n",
    "excluded_data1.shape\n",
    "included_data1=[]\n",
    "for index in range(messages_l1_gnn.shape[0]):\n",
    "    if ((index in excluded_data1)==False):\n",
    "        included_data1.append(index)"
   ]
  },
  {
   "cell_type": "code",
   "execution_count": 11,
   "metadata": {
    "execution": {
     "iopub.execute_input": "2022-12-25T17:12:04.095407Z",
     "iopub.status.busy": "2022-12-25T17:12:04.094783Z",
     "iopub.status.idle": "2022-12-25T17:12:06.466274Z",
     "shell.execute_reply": "2022-12-25T17:12:06.465238Z",
     "shell.execute_reply.started": "2022-12-25T17:12:04.095370Z"
    }
   },
   "outputs": [
    {
     "data": {
      "text/plain": [
       "(386685, 3, 96)"
      ]
     },
     "execution_count": 11,
     "metadata": {},
     "output_type": "execute_result"
    }
   ],
   "source": [
    "#Final Inputs\n",
    "inp1_gnnbaseline=np.copy(Layer_0_data_preprocessed)[included_data1]\n",
    "messages_l1_gnn1=np.copy(messages_l1_gnn)[included_data1]\n",
    "messages_l2_gnn1=np.copy(messages_l2_gnn)[included_data1]\n",
    "inp1_gnnbaseline.shape"
   ]
  },
  {
   "cell_type": "code",
   "execution_count": 19,
   "metadata": {
    "execution": {
     "iopub.execute_input": "2022-12-18T08:11:44.597487Z",
     "iopub.status.busy": "2022-12-18T08:11:44.596537Z",
     "iopub.status.idle": "2022-12-18T08:11:44.725060Z",
     "shell.execute_reply": "2022-12-18T08:11:44.724352Z",
     "shell.execute_reply.started": "2022-12-18T08:11:44.597444Z"
    }
   },
   "outputs": [
    {
     "data": {
      "text/plain": [
       "<matplotlib.image.AxesImage at 0x7f427c9914c0>"
      ]
     },
     "execution_count": 19,
     "metadata": {},
     "output_type": "execute_result"
    },
    {
     "data": {
      "image/png": "[encoded data removed]",
      "text/plain": [
       "<Figure size 360x360 with 1 Axes>"
      ]
     },
     "metadata": {
      "needs_background": "light"
     },
     "output_type": "display_data"
    }
   ],
   "source": [
    "#Model Checking\n",
    "import matplotlib.pyplot as plt\n",
    "fig,ax=plt.subplots(1,1,figsize=(5,5))\n",
    "ax.imshow(inp1_gnnbaseline[5],aspect=\"auto\")"
   ]
  },
  {
   "cell_type": "code",
   "execution_count": 114,
   "metadata": {
    "execution": {
     "iopub.execute_input": "2022-11-22T19:36:39.328872Z",
     "iopub.status.busy": "2022-11-22T19:36:39.328437Z",
     "iopub.status.idle": "2022-11-22T19:36:39.344756Z",
     "shell.execute_reply": "2022-11-22T19:36:39.343545Z",
     "shell.execute_reply.started": "2022-11-22T19:36:39.328829Z"
    }
   },
   "outputs": [],
   "source": [
    "#Layer Check Algorithm Substitutes\n",
    "def check_layer_0(ind):\n",
    "    fig, ax=plt.subplots(1,3)\n",
    "    ax[0].imshow(layer_0_data_st[ind], aspect=\"auto\")\n",
    "    ax[1].imshow(particle0_1[ind])\n",
    "    print(max_loc(layer_0_data_st)[ind,1])\n",
    "    ax[2].imshow(particle0_2[ind])\n",
    "    print(particle0_1[ind], particle0_2[ind])\n",
    "    print(max_loc(layer_0_data_st)[ind])\n",
    "    print(max_loc(layer_clone_0_1)[ind])\n",
    "def check_layer_2(ind):\n",
    "    fig, ax=plt.subplots(1,3)\n",
    "    ax[0].imshow(layer_2_data_st[ind], aspect=\"auto\")\n",
    "    ax[1].imshow(particle2_1[ind])\n",
    "    print(max_loc(layer_2_data_st)[ind,1])\n",
    "    ax[2].imshow(particle2_2[ind])\n",
    "    print(particle2_1[ind], particle2_2[ind])\n",
    "    print(max_loc(layer_2_data_st)[ind])\n",
    "    print(max_loc(layer_clone_2_1)[ind])\n",
    "def check_layer_1(int):\n",
    "    fig, ax=plt.subplots(1,4)\n",
    "    ax[0].imshow(particle1_1[int])\n",
    "    ax[1].imshow(layer_1_data_st[int])\n",
    "    ax[2].imshow(particle1_2[int])\n",
    "    ax[3].imshow(layer_clone_1_1[int])\n",
    "    print(max_loc(layer_1_data_st)[int])\n",
    "    print(max_loc(layer_clone_1_1)[int])\n",
    "    print(particle1_1[int])\n",
    "    print(particle1_2[int])"
   ]
  },
  {
   "cell_type": "code",
   "execution_count": 244,
   "metadata": {
    "execution": {
     "iopub.execute_input": "2022-10-29T19:02:22.372454Z",
     "iopub.status.busy": "2022-10-29T19:02:22.372216Z",
     "iopub.status.idle": "2022-10-29T19:02:22.554278Z",
     "shell.execute_reply": "2022-10-29T19:02:22.553329Z",
     "shell.execute_reply.started": "2022-10-29T19:02:22.372430Z"
    },
    "scrolled": true,
    "tags": []
   },
   "outputs": [
    {
     "name": "stdout",
     "output_type": "stream",
     "text": [
      "5\n",
      "6\n",
      "0.7210057179529423\n",
      "(500000, 2)\n",
      "[0.         0.00139134]\n"
     ]
    }
   ],
   "source": [
    "#DNN and CNN Input Generation\n",
    "layer1_flat_2D=np.reshape(Layer_1_data_preprocessed,[500000,144])\n",
    "maxx = np.argmax(layer1_flat_2D,axis=1)//12\n",
    "maxy = np.argmax(layer1_flat_2D,axis=1)%12\n",
    "max = np.stack([maxy,maxx],axis=1)\n",
    "maxes = Layer_1_data_preprocessed.take(max)\n",
    "print(maxx[0])\n",
    "print(maxy[0])\n",
    "print(Layer_1_data_preprocessed[0][5][6])\n",
    "print(maxes.shape)\n",
    "print(maxes[0])"
   ]
  },
  {
   "cell_type": "code",
   "execution_count": 54,
   "metadata": {
    "execution": {
     "iopub.execute_input": "2022-12-10T18:22:05.083936Z",
     "iopub.status.busy": "2022-12-10T18:22:05.083608Z",
     "iopub.status.idle": "2022-12-10T18:22:05.089026Z",
     "shell.execute_reply": "2022-12-10T18:22:05.088212Z",
     "shell.execute_reply.started": "2022-12-10T18:22:05.083911Z"
    },
    "id": "I7a-mPR6O9qa"
   },
   "outputs": [],
   "source": [
    "#DNN Input Preprocessing-1\n",
    "flatten_layer_0=Layer_0_data_preprocessed.reshape(500000,3*96)\n",
    "flatten_layer_1=Layer_1_data_preprocessed.reshape(500000,12*12)\n",
    "flatten_layer_2=Layer_2_data_preprocessed.reshape(500000,6*12)\n",
    "#from random import randint"
   ]
  },
  {
   "cell_type": "code",
   "execution_count": 12,
   "metadata": {
    "execution": {
     "iopub.execute_input": "2022-12-25T17:12:06.467819Z",
     "iopub.status.busy": "2022-12-25T17:12:06.467479Z",
     "iopub.status.idle": "2022-12-25T17:12:07.386977Z",
     "shell.execute_reply": "2022-12-25T17:12:07.385850Z",
     "shell.execute_reply.started": "2022-12-25T17:12:06.467793Z"
    },
    "id": "Qpn56IptgnKn"
   },
   "outputs": [],
   "source": [
    "#Test-Train Split\n",
    "from sklearn.model_selection import train_test_split\n",
    "#layer_0_train, layer_0_test, energy_train, energy_test,  layer_1_train,layer_1_test, layer_2_train, layer_2_test= train_test_split(flatten_layer_0,  energy, flatten_layer_1, flatten_layer_2,  test_size=0.4, random_state=42)\n",
    "#layer_0_train_2D, layer_0_test_2D, energy_train, energy_test,layer_1_train2d,layer_1_test2d,layer_2_train2d,layer_2_test2d=train_test_split(Layer_0_data_preprocessed,  energy, Layer_1_data_preprocessed, Layer_2_data_preprocessed,test_size=0.4, random_state=42)\n",
    "energy_gnn_train,energy_gnn_test,layer0gnn_train,layer0_gnn_test, messages_l1_gnn_train, messages_l1_gnn_test, messages_l2_gnn_train, messages_l2_gnn_test= train_test_split(energy[included_data1],inp1_gnnbaseline, messages_l1_gnn1, messages_l2_gnn1 ,test_size=0.4, random_state=42)"
   ]
  },
  {
   "cell_type": "code",
   "execution_count": 56,
   "metadata": {
    "execution": {
     "iopub.execute_input": "2022-12-10T18:22:19.738716Z",
     "iopub.status.busy": "2022-12-10T18:22:19.738224Z",
     "iopub.status.idle": "2022-12-10T18:22:29.444178Z",
     "shell.execute_reply": "2022-12-10T18:22:29.443240Z",
     "shell.execute_reply.started": "2022-12-10T18:22:19.738690Z"
    },
    "id": "TOYVznGWZMyy"
   },
   "outputs": [],
   "source": [
    "#DNN Input Preprocessing-2\n",
    "lc1_test=np.array([np.concatenate((layer_0_test, layer_1_test, layer_2_test),axis=1)  ])\n",
    "lc1_train=np.array([np.concatenate((layer_0_train, layer_1_train, layer_2_train),axis=1)  ])\n",
    "lc1_train=lc1_train.reshape(lc1_train.shape[1],lc1_train.shape[2])\n",
    "lc1_test=lc1_test.reshape(lc1_test.shape[1],lc1_test.shape[2])"
   ]
  },
  {
   "cell_type": "code",
   "execution_count": 57,
   "metadata": {
    "execution": {
     "iopub.execute_input": "2022-12-10T18:22:29.446220Z",
     "iopub.status.busy": "2022-12-10T18:22:29.445970Z",
     "iopub.status.idle": "2022-12-10T18:22:29.450975Z",
     "shell.execute_reply": "2022-12-10T18:22:29.450206Z",
     "shell.execute_reply.started": "2022-12-10T18:22:29.446195Z"
    },
    "id": "Z06AW0WdFnIy"
   },
   "outputs": [
    {
     "name": "stdout",
     "output_type": "stream",
     "text": [
      "(200000, 504)\n",
      "(200000,)\n",
      "(300000, 504)\n",
      "(300000,)\n"
     ]
    }
   ],
   "source": [
    "print(lc1_test.shape) \n",
    "print(energy_test.shape)\n",
    "print(lc1_train.shape)\n",
    "print(energy_train.shape) "
   ]
  },
  {
   "cell_type": "code",
   "execution_count": 13,
   "metadata": {
    "execution": {
     "iopub.execute_input": "2022-12-25T17:12:07.390352Z",
     "iopub.status.busy": "2022-12-25T17:12:07.389962Z",
     "iopub.status.idle": "2022-12-25T17:12:07.398012Z",
     "shell.execute_reply": "2022-12-25T17:12:07.396442Z",
     "shell.execute_reply.started": "2022-12-25T17:12:07.389962Z"
    },
    "id": "7yz029HZvne9"
   },
   "outputs": [],
   "source": [
    "#Model Run Settings\n",
    "def run_experiment(model, x_train, y_train):\n",
    "    \n",
    "    model.compile(\n",
    "        optimizer=keras.optimizers.Adam(0.003),\n",
    "        loss=keras.losses.MeanSquaredError(reduction=\"auto\", name=\"mean_squared_error\")#,\n",
    "        #metrics=tf.keras.metrics.BinaryAccuracy(),\n",
    "    )\n",
    "    \n",
    "    early_stopping = keras.callbacks.EarlyStopping(\n",
    "        monitor=\"val_loss\", patience=50, restore_best_weights=True\n",
    "    )\n",
    "    \n",
    "    history = model.fit(\n",
    "        x=x_train,\n",
    "        y=y_train,\n",
    "        epochs=200,\n",
    "        batch_size=1024,\n",
    "        validation_split=0.2,\n",
    "        callbacks=[early_stopping],\n",
    "    )\n",
    "\n",
    "    return history"
   ]
  },
  {
   "cell_type": "code",
   "execution_count": 14,
   "metadata": {
    "execution": {
     "iopub.execute_input": "2022-12-25T17:12:07.399695Z",
     "iopub.status.busy": "2022-12-25T17:12:07.399381Z",
     "iopub.status.idle": "2022-12-25T17:12:10.189693Z",
     "shell.execute_reply": "2022-12-25T17:12:10.188314Z",
     "shell.execute_reply.started": "2022-12-25T17:12:07.399670Z"
    },
    "id": "AgJ2Mj70s9fk"
   },
   "outputs": [
    {
     "name": "stdout",
     "output_type": "stream",
     "text": [
      "Model: \"dnn\"\n",
      "_________________________________________________________________\n",
      " Layer (type)                Output Shape              Param #   \n",
      "=================================================================\n",
      " input_features (InputLayer)  [(None, 504)]            0         \n",
      "                                                                 \n",
      " dense (Dense)               (None, 1024)              517120    \n",
      "                                                                 \n",
      " dropout (Dropout)           (None, 1024)              0         \n",
      "                                                                 \n",
      " dense_1 (Dense)             (None, 512)               524800    \n",
      "                                                                 \n",
      " dropout_1 (Dropout)         (None, 512)               0         \n",
      "                                                                 \n",
      " dense_2 (Dense)             (None, 64)                32832     \n",
      "                                                                 \n",
      " dropout_2 (Dropout)         (None, 64)                0         \n",
      "                                                                 \n",
      " output (Dense)              (None, 1)                 65        \n",
      "                                                                 \n",
      "=================================================================\n",
      "Total params: 1,074,817\n",
      "Trainable params: 1,074,817\n",
      "Non-trainable params: 0\n",
      "_________________________________________________________________\n"
     ]
    }
   ],
   "source": [
    "#DNN\n",
    "import keras.layers as layers\n",
    "import tensorflow as tf\n",
    "hidden_units = [1024, 512,64]\n",
    "def dnn(hidden_units, num_classes, dropout_rate):\n",
    "    inputs = layers.Input(shape=(144+(96*3)+72,), name=\"input_features\")\n",
    "    x = inputs\n",
    "    for units in hidden_units:        \n",
    "        x  = layers.Dense(units, activation=tf.nn.relu)(x)\n",
    "        x  = layers.Dropout(rate=dropout_rate)(x)\n",
    "    logits = layers.Dense(num_classes, name=\"output\")(x)\n",
    "    # Create the model.\n",
    "    return keras.Model(inputs=inputs, outputs=logits, name=\"dnn\")\n",
    "baseline_model = dnn(hidden_units, 1, 0)\n",
    "baseline_model.summary()"
   ]
  },
  {
   "cell_type": "code",
   "execution_count": 21,
   "metadata": {
    "execution": {
     "iopub.execute_input": "2022-12-25T14:24:01.699449Z",
     "iopub.status.busy": "2022-12-25T14:24:01.698570Z",
     "iopub.status.idle": "2022-12-25T14:24:01.710473Z",
     "shell.execute_reply": "2022-12-25T14:24:01.709105Z",
     "shell.execute_reply.started": "2022-12-25T14:24:01.699418Z"
    }
   },
   "outputs": [],
   "source": [
    "#CNN\n",
    "def cnn(hidden_units, num_classes, dropout_rate):\n",
    "    inputs0 = layers.Input(shape=(3,96,1,), name=\"input_features_l0\")\n",
    "    inputs1 = layers.Input(shape=(12,12,1,), name=\"input_features_l1\")\n",
    "    inputs2 = layers.Input(shape=(12,6,1,), name=\"input_features_l2\")\n",
    "    cnn0 = layers.Conv2D(32, 3, activation='relu', padding='same')(inputs0)\n",
    "    cnn0 = layers.Conv2D(64, 3, activation='relu', padding='same')(cnn0)\n",
    "    #cnn0 = layers.Conv2D(128, 5, activation='relu', padding='same')(cnn0)\n",
    "    cnn0 = layers.Flatten()(cnn0)\n",
    "    inputs0_flat = layers.Flatten()(inputs0)\n",
    "    cnn0Comb = layers.Concatenate()([cnn0,inputs0_flat])\n",
    "    cnn1 = layers.Conv2D(32, 3, activation='relu', padding='same')(inputs1)\n",
    "    cnn1 = layers.Conv2D(64, 3, activation='relu', padding='same')(cnn1)\n",
    "    #cnn1 = layers.Conv2D(128, 5, activation='relu', padding='same')(cnn1)\n",
    "    cnn1 = layers.Flatten()(cnn1)\n",
    "    inputs1_flat = layers.Flatten()(inputs1)\n",
    "    cnn1Comb = layers.Concatenate()([cnn1,inputs1_flat])\n",
    "    cnn2 = layers.Conv2D(32, 3, activation='relu', padding='same')(inputs2)\n",
    "    cnn2 = layers.Conv2D(64, 3, activation='relu', padding='same')(cnn2)  \n",
    "    #cnn2 = layers.Conv2D(128, 5, activation='relu', padding='same')(cnn2)      \n",
    "    cnn2 = layers.Flatten()(cnn2)\n",
    "    inputs2_flat = layers.Flatten()(inputs2)\n",
    "    cnn2Comb = layers.Concatenate()([cnn2,inputs2_flat])\n",
    "    x =  layers.Concatenate()([cnn0Comb,cnn1Comb,cnn2Comb])\n",
    "    for units in hidden_units:        \n",
    "        x  = layers.Dense(units, activation=tf.nn.relu)(x)\n",
    "        x  = layers.Dropout(rate=dropout_rate)(x)\n",
    "    logits = layers.Dense(num_classes, name=\"output\")(x)\n",
    "    return keras.Model(inputs=(inputs0,inputs1,inputs2), outputs=logits, name=\"cnn\")"
   ]
  },
  {
   "cell_type": "code",
   "execution_count": 15,
   "metadata": {
    "execution": {
     "iopub.execute_input": "2022-12-25T17:12:10.191600Z",
     "iopub.status.busy": "2022-12-25T17:12:10.191232Z",
     "iopub.status.idle": "2022-12-25T17:12:10.204762Z",
     "shell.execute_reply": "2022-12-25T17:12:10.202981Z",
     "shell.execute_reply.started": "2022-12-25T17:12:10.191573Z"
    }
   },
   "outputs": [],
   "source": [
    "#GNN\n",
    "def gnn(hidden_units, num_classes, dropout_rate):\n",
    "    inputs0 = layers.Input(shape=(3,96,1,), name=\"input_features_l0\")\n",
    "    inputs1 = layers.Input(shape=(3,3,1,), name=\"input_features_l1\")\n",
    "    inputs2 = layers.Input(shape=(3,3,1,), name=\"input_features_l2\")\n",
    "    cnn0 = layers.Conv2D(32, 3, activation='relu', padding='same')(inputs0)\n",
    "    cnn0 = layers.Conv2D(64, 3, activation='relu', padding='same')(cnn0)\n",
    "    #cnn0 = layers.Conv2D(128, 5, activation='relu', padding='same')(cnn0)\n",
    "    cnn0 = layers.Flatten()(cnn0)\n",
    "    inputs0_flat = layers.Flatten()(inputs0)\n",
    "    cnn0Comb = layers.Concatenate()([cnn0,inputs0_flat])\n",
    "    cnn1 = layers.Conv2D(32, 2, activation='relu', padding='same')(inputs1)\n",
    "    #cnn1 = layers.Conv2D(64, 2, activation='relu', padding='same')(cnn1)\n",
    "    #cnn1 = layers.Conv2D(128, 5, activation='relu', padding='same')(cnn1)\n",
    "    cnn1 = layers.Flatten()(cnn1)\n",
    "    inputs1_flat = layers.Flatten()(inputs1)\n",
    "    cnn1Comb = layers.Concatenate()([cnn1,inputs1_flat])\n",
    "    cnn2 = layers.Conv2D(32, 2, activation='relu', padding='same')(inputs2)\n",
    "    #cnn2 = layers.Conv2D(64, 2, activation='relu', padding='same')(cnn2)  \n",
    "    #cnn2 = layers.Conv2D(128, 5, activation='relu', padding='same')(cnn2)      \n",
    "    cnn2 = layers.Flatten()(cnn2)\n",
    "    inputs2_flat = layers.Flatten()(inputs2)\n",
    "    cnn2Comb = layers.Concatenate()([cnn2,inputs2_flat])\n",
    "    x =  layers.Concatenate()([cnn0Comb,cnn1Comb,cnn2Comb])\n",
    "    for units in hidden_units:        \n",
    "        x  = layers.Dense(units, activation=tf.nn.relu)(x)\n",
    "        x  = layers.Dropout(rate=dropout_rate)(x)\n",
    "    logits = layers.Dense(num_classes, name=\"output\")(x)\n",
    "    return keras.Model(inputs=(inputs0,inputs1,inputs2), outputs=logits, name=\"gnn\")"
   ]
  },
  {
   "cell_type": "code",
   "execution_count": 16,
   "metadata": {
    "execution": {
     "iopub.execute_input": "2022-12-25T17:12:10.207939Z",
     "iopub.status.busy": "2022-12-25T17:12:10.207539Z",
     "iopub.status.idle": "2022-12-25T17:12:10.437850Z",
     "shell.execute_reply": "2022-12-25T17:12:10.434358Z",
     "shell.execute_reply.started": "2022-12-25T17:12:10.207911Z"
    }
   },
   "outputs": [
    {
     "name": "stdout",
     "output_type": "stream",
     "text": [
      "Model: \"gnn\"\n",
      "__________________________________________________________________________________________________\n",
      " Layer (type)                   Output Shape         Param #     Connected to                     \n",
      "==================================================================================================\n",
      " input_features_l0 (InputLayer)  [(None, 3, 96, 1)]  0           []                               \n",
      "                                                                                                  \n",
      " conv2d (Conv2D)                (None, 3, 96, 32)    320         ['input_features_l0[0][0]']      \n",
      "                                                                                                  \n",
      " input_features_l1 (InputLayer)  [(None, 3, 3, 1)]   0           []                               \n",
      "                                                                                                  \n",
      " input_features_l2 (InputLayer)  [(None, 3, 3, 1)]   0           []                               \n",
      "                                                                                                  \n",
      " conv2d_1 (Conv2D)              (None, 3, 96, 64)    18496       ['conv2d[0][0]']                 \n",
      "                                                                                                  \n",
      " conv2d_2 (Conv2D)              (None, 3, 3, 32)     160         ['input_features_l1[0][0]']      \n",
      "                                                                                                  \n",
      " conv2d_3 (Conv2D)              (None, 3, 3, 32)     160         ['input_features_l2[0][0]']      \n",
      "                                                                                                  \n",
      " flatten (Flatten)              (None, 18432)        0           ['conv2d_1[0][0]']               \n",
      "                                                                                                  \n",
      " flatten_1 (Flatten)            (None, 288)          0           ['input_features_l0[0][0]']      \n",
      "                                                                                                  \n",
      " flatten_2 (Flatten)            (None, 288)          0           ['conv2d_2[0][0]']               \n",
      "                                                                                                  \n",
      " flatten_3 (Flatten)            (None, 9)            0           ['input_features_l1[0][0]']      \n",
      "                                                                                                  \n",
      " flatten_4 (Flatten)            (None, 288)          0           ['conv2d_3[0][0]']               \n",
      "                                                                                                  \n",
      " flatten_5 (Flatten)            (None, 9)            0           ['input_features_l2[0][0]']      \n",
      "                                                                                                  \n",
      " concatenate (Concatenate)      (None, 18720)        0           ['flatten[0][0]',                \n",
      "                                                                  'flatten_1[0][0]']              \n",
      "                                                                                                  \n",
      " concatenate_1 (Concatenate)    (None, 297)          0           ['flatten_2[0][0]',              \n",
      "                                                                  'flatten_3[0][0]']              \n",
      "                                                                                                  \n",
      " concatenate_2 (Concatenate)    (None, 297)          0           ['flatten_4[0][0]',              \n",
      "                                                                  'flatten_5[0][0]']              \n",
      "                                                                                                  \n",
      " concatenate_3 (Concatenate)    (None, 19314)        0           ['concatenate[0][0]',            \n",
      "                                                                  'concatenate_1[0][0]',          \n",
      "                                                                  'concatenate_2[0][0]']          \n",
      "                                                                                                  \n",
      " dense_3 (Dense)                (None, 1024)         19778560    ['concatenate_3[0][0]']          \n",
      "                                                                                                  \n",
      " dropout_3 (Dropout)            (None, 1024)         0           ['dense_3[0][0]']                \n",
      "                                                                                                  \n",
      " dense_4 (Dense)                (None, 512)          524800      ['dropout_3[0][0]']              \n",
      "                                                                                                  \n",
      " dropout_4 (Dropout)            (None, 512)          0           ['dense_4[0][0]']                \n",
      "                                                                                                  \n",
      " dense_5 (Dense)                (None, 64)           32832       ['dropout_4[0][0]']              \n",
      "                                                                                                  \n",
      " dropout_5 (Dropout)            (None, 64)           0           ['dense_5[0][0]']                \n",
      "                                                                                                  \n",
      " output (Dense)                 (None, 1)            65          ['dropout_5[0][0]']              \n",
      "                                                                                                  \n",
      "==================================================================================================\n",
      "Total params: 20,355,393\n",
      "Trainable params: 20,355,393\n",
      "Non-trainable params: 0\n",
      "__________________________________________________________________________________________________\n"
     ]
    }
   ],
   "source": [
    "gnn_model = gnn(hidden_units, 1, 0.1)\n",
    "gnn_model.summary()"
   ]
  },
  {
   "cell_type": "code",
   "execution_count": 26,
   "metadata": {
    "execution": {
     "iopub.execute_input": "2022-12-25T17:15:21.634420Z",
     "iopub.status.busy": "2022-12-25T17:15:21.633503Z",
     "iopub.status.idle": "2022-12-25T17:35:48.486195Z",
     "shell.execute_reply": "2022-12-25T17:35:48.485307Z",
     "shell.execute_reply.started": "2022-12-25T17:15:21.634355Z"
    }
   },
   "outputs": [
    {
     "name": "stdout",
     "output_type": "stream",
     "text": [
      "Epoch 1/50\n",
      "182/182 [==============================] - 26s 136ms/step - loss: 0.0042 - val_loss: 0.0011\n",
      "Epoch 2/50\n",
      "182/182 [==============================] - 24s 135ms/step - loss: 0.0019 - val_loss: 0.0018\n",
      "Epoch 3/50\n",
      "182/182 [==============================] - 25s 138ms/step - loss: 0.0016 - val_loss: 9.2584e-04\n",
      "Epoch 4/50\n",
      "182/182 [==============================] - 25s 135ms/step - loss: 0.0013 - val_loss: 0.0013\n",
      "Epoch 5/50\n",
      "182/182 [==============================] - 25s 135ms/step - loss: 0.0011 - val_loss: 0.0011\n",
      "Epoch 6/50\n",
      "182/182 [==============================] - 24s 135ms/step - loss: 0.0010 - val_loss: 0.0012\n",
      "Epoch 7/50\n",
      "182/182 [==============================] - 25s 135ms/step - loss: 0.0010 - val_loss: 6.8330e-04\n",
      "Epoch 8/50\n",
      "182/182 [==============================] - 24s 134ms/step - loss: 9.5990e-04 - val_loss: 0.0011\n",
      "Epoch 9/50\n",
      "182/182 [==============================] - 24s 134ms/step - loss: 9.2027e-04 - val_loss: 6.9366e-04\n",
      "Epoch 10/50\n",
      "182/182 [==============================] - 24s 134ms/step - loss: 8.8136e-04 - val_loss: 7.1494e-04\n",
      "Epoch 11/50\n",
      "182/182 [==============================] - 24s 135ms/step - loss: 8.6634e-04 - val_loss: 6.9644e-04\n",
      "Epoch 12/50\n",
      "182/182 [==============================] - 25s 135ms/step - loss: 8.8235e-04 - val_loss: 2.5380e-04\n",
      "Epoch 13/50\n",
      "182/182 [==============================] - 25s 135ms/step - loss: 8.6933e-04 - val_loss: 0.0019\n",
      "Epoch 14/50\n",
      "182/182 [==============================] - 24s 134ms/step - loss: 8.6943e-04 - val_loss: 2.9484e-04\n",
      "Epoch 15/50\n",
      "182/182 [==============================] - 24s 134ms/step - loss: 8.7729e-04 - val_loss: 8.9527e-04\n",
      "Epoch 16/50\n",
      "182/182 [==============================] - 24s 134ms/step - loss: 8.5622e-04 - val_loss: 7.9585e-04\n",
      "Epoch 17/50\n",
      "182/182 [==============================] - 24s 134ms/step - loss: 8.5526e-04 - val_loss: 7.6275e-04\n",
      "Epoch 18/50\n",
      "182/182 [==============================] - 24s 134ms/step - loss: 8.6084e-04 - val_loss: 9.6580e-04\n",
      "Epoch 19/50\n",
      "182/182 [==============================] - 25s 135ms/step - loss: 8.6920e-04 - val_loss: 4.6692e-04\n",
      "Epoch 20/50\n",
      "182/182 [==============================] - 25s 135ms/step - loss: 8.6267e-04 - val_loss: 0.0012\n",
      "Epoch 21/50\n",
      "182/182 [==============================] - 24s 134ms/step - loss: 8.5768e-04 - val_loss: 4.7745e-04\n",
      "Epoch 22/50\n",
      "182/182 [==============================] - 24s 134ms/step - loss: 8.5294e-04 - val_loss: 6.9412e-04\n",
      "Epoch 23/50\n",
      "182/182 [==============================] - 24s 134ms/step - loss: 8.3808e-04 - val_loss: 0.0017\n",
      "Epoch 24/50\n",
      "182/182 [==============================] - 24s 135ms/step - loss: 8.6095e-04 - val_loss: 7.4587e-04\n",
      "Epoch 25/50\n",
      "182/182 [==============================] - 24s 135ms/step - loss: 8.4765e-04 - val_loss: 0.0013\n",
      "Epoch 26/50\n",
      "182/182 [==============================] - 25s 138ms/step - loss: 7.8931e-04 - val_loss: 5.9448e-04\n",
      "Epoch 27/50\n",
      "182/182 [==============================] - 24s 135ms/step - loss: 7.8382e-04 - val_loss: 5.4084e-04\n",
      "Epoch 28/50\n",
      "182/182 [==============================] - 24s 135ms/step - loss: 7.8862e-04 - val_loss: 0.0011\n",
      "Epoch 29/50\n",
      "182/182 [==============================] - 24s 134ms/step - loss: 7.8470e-04 - val_loss: 0.0020\n",
      "Epoch 30/50\n",
      "182/182 [==============================] - 24s 134ms/step - loss: 7.7470e-04 - val_loss: 2.2543e-04\n",
      "Epoch 31/50\n",
      "182/182 [==============================] - 24s 134ms/step - loss: 7.7749e-04 - val_loss: 5.8544e-04\n",
      "Epoch 32/50\n",
      "182/182 [==============================] - 24s 135ms/step - loss: 7.8896e-04 - val_loss: 7.9872e-04\n",
      "Epoch 33/50\n",
      "182/182 [==============================] - 25s 135ms/step - loss: 7.8090e-04 - val_loss: 7.2103e-04\n",
      "Epoch 34/50\n",
      "182/182 [==============================] - 24s 134ms/step - loss: 7.6611e-04 - val_loss: 6.2090e-04\n",
      "Epoch 35/50\n",
      "182/182 [==============================] - 24s 134ms/step - loss: 7.7739e-04 - val_loss: 0.0013\n",
      "Epoch 36/50\n",
      "182/182 [==============================] - 24s 134ms/step - loss: 7.7474e-04 - val_loss: 6.2705e-04\n",
      "Epoch 37/50\n",
      "182/182 [==============================] - 24s 134ms/step - loss: 7.7614e-04 - val_loss: 0.0012\n",
      "Epoch 38/50\n",
      "182/182 [==============================] - 24s 134ms/step - loss: 7.7892e-04 - val_loss: 0.0013\n",
      "Epoch 39/50\n",
      "182/182 [==============================] - 24s 134ms/step - loss: 7.5925e-04 - val_loss: 9.3663e-04\n",
      "Epoch 40/50\n",
      "182/182 [==============================] - 24s 134ms/step - loss: 7.7742e-04 - val_loss: 8.5688e-04\n",
      "Epoch 41/50\n",
      "182/182 [==============================] - 25s 135ms/step - loss: 7.7327e-04 - val_loss: 4.8087e-04\n",
      "Epoch 42/50\n",
      "182/182 [==============================] - 24s 134ms/step - loss: 7.7804e-04 - val_loss: 6.3830e-04\n",
      "Epoch 43/50\n",
      "182/182 [==============================] - 24s 134ms/step - loss: 7.6291e-04 - val_loss: 0.0013\n",
      "Epoch 44/50\n",
      "182/182 [==============================] - 24s 134ms/step - loss: 7.5928e-04 - val_loss: 8.8981e-04\n",
      "Epoch 45/50\n",
      "182/182 [==============================] - 25s 135ms/step - loss: 7.5749e-04 - val_loss: 5.7612e-04\n",
      "Epoch 46/50\n",
      "182/182 [==============================] - 25s 137ms/step - loss: 7.7286e-04 - val_loss: 0.0017\n",
      "Epoch 47/50\n",
      "182/182 [==============================] - 24s 134ms/step - loss: 7.5529e-04 - val_loss: 5.7326e-04\n",
      "Epoch 48/50\n",
      "182/182 [==============================] - 24s 134ms/step - loss: 7.5936e-04 - val_loss: 8.5434e-04\n",
      "Epoch 49/50\n",
      "182/182 [==============================] - 24s 134ms/step - loss: 7.7547e-04 - val_loss: 5.5701e-04\n",
      "Epoch 50/50\n",
      "182/182 [==============================] - 24s 135ms/step - loss: 7.7772e-04 - val_loss: 6.8255e-04\n"
     ]
    }
   ],
   "source": [
    "#GNN Training\n",
    "history_gnn=run_experiment(gnn_model,[layer0gnn_train,messages_l1_gnn_train,messages_l2_gnn_train],energy_gnn_train)"
   ]
  },
  {
   "cell_type": "code",
   "execution_count": 18,
   "metadata": {
    "execution": {
     "iopub.execute_input": "2022-12-25T17:13:02.950729Z",
     "iopub.status.busy": "2022-12-25T17:13:02.949799Z",
     "iopub.status.idle": "2022-12-25T17:13:24.142593Z",
     "shell.execute_reply": "2022-12-25T17:13:24.141088Z",
     "shell.execute_reply.started": "2022-12-25T17:13:02.950701Z"
    },
    "id": "PUPhTztZvza-"
   },
   "outputs": [
    {
     "name": "stdout",
     "output_type": "stream",
     "text": [
      "4834/4834 [==============================] - 17s 3ms/step\n"
     ]
    }
   ],
   "source": [
    "#GNN Prediction\n",
    "gnn_predict=gnn_model.predict(x=[layer0_gnn_test,messages_l1_gnn_test,messages_l2_gnn_test], verbose=1)"
   ]
  },
  {
   "cell_type": "code",
   "execution_count": 25,
   "metadata": {
    "execution": {
     "iopub.execute_input": "2022-12-25T17:15:03.766172Z",
     "iopub.status.busy": "2022-12-25T17:15:03.764982Z",
     "iopub.status.idle": "2022-12-25T17:15:04.176342Z",
     "shell.execute_reply": "2022-12-25T17:15:04.175488Z",
     "shell.execute_reply.started": "2022-12-25T17:15:03.766131Z"
    },
    "id": "267imLDtGgt2"
   },
   "outputs": [
    {
     "data": {
      "text/plain": [
       "<matplotlib.legend.Legend at 0x7fce21600e80>"
      ]
     },
     "execution_count": 25,
     "metadata": {},
     "output_type": "execute_result"
    },
    {
     "data": {
      "image/png": "[encoded data removed]",
      "text/plain": [
       "<Figure size 432x288 with 1 Axes>"
      ]
     },
     "metadata": {
      "needs_background": "light"
     },
     "output_type": "display_data"
    }
   ],
   "source": [
    "np.array(gnn_predict)\n",
    "import matplotlib.pyplot as plt\n",
    "fig, ax =plt.subplots(1,1)\n",
    "par_diff=(np.array(gnn_predict)[:,0]-np.array(energy_gnn_test)[:])/np.array(energy_gnn_test)[:]\n",
    "plt.hist(par_diff,range=[-0.1,0.1],bins=100, color=\"g\", label=\"GNN\")\n",
    "ax.set_ylabel(\"Frequency\", fontsize=15)\n",
    "ax.tick_params(labelsize=11)\n",
    "ax.set_xlabel(\"$E_{\\t{Resolution}}$\", fontsize=15)\n",
    "ax.legend(fontsize=15)"
   ]
  },
  {
   "cell_type": "code",
   "execution_count": 69,
   "metadata": {
    "execution": {
     "iopub.execute_input": "2022-12-10T18:44:49.879712Z",
     "iopub.status.busy": "2022-12-10T18:44:49.878364Z",
     "iopub.status.idle": "2022-12-10T18:44:50.177238Z",
     "shell.execute_reply": "2022-12-10T18:44:50.175828Z",
     "shell.execute_reply.started": "2022-12-10T18:44:49.879640Z"
    },
    "id": "BW0EWDIQ6Rhd"
   },
   "outputs": [
    {
     "data": {
      "text/plain": [
       "(array([9.74039584e-03, 2.92211766e-02, 5.77930370e-02, 1.09092352e-01,\n",
       "        1.74028406e-01, 1.81171363e-01, 2.40263097e-01, 2.91562516e-01,\n",
       "        3.36368085e-01, 4.59097324e-01, 5.59098721e-01, 6.92217465e-01,\n",
       "        6.01307103e-01, 6.88970666e-01, 7.98712459e-01, 7.62348315e-01,\n",
       "        7.22088012e-01, 7.15594415e-01, 7.27281801e-01, 8.43518280e-01,\n",
       "        9.85078700e-01, 9.64299189e-01, 9.96768667e-01, 1.02793490e+00,\n",
       "        1.01430141e+00, 9.92220172e-01, 1.04222080e+00, 1.05521113e+00,\n",
       "        1.10520859e+00, 1.13053697e+00, 1.10066308e+00, 1.12469272e+00,\n",
       "        1.10975411e+00, 1.03832775e+00, 9.72090050e-01, 9.06507530e-01,\n",
       "        1.33832839e+00, 1.30066558e+00, 1.17664158e+00, 1.05975348e+00,\n",
       "        9.61053828e-01, 1.06429899e+00, 1.12274464e+00, 1.10975411e+00,\n",
       "        9.93521863e-01, 1.11235154e+00, 1.25521422e+00, 1.17533934e+00,\n",
       "        1.09027334e+00, 9.77284920e-01, 8.80535738e-01, 1.48313539e+00,\n",
       "        1.21040471e+00, 8.76634314e-01, 1.33833640e+00, 1.45845975e+00,\n",
       "        1.04611695e+00, 1.33378287e+00, 1.39223350e+00, 1.24806752e+00,\n",
       "        1.23183355e+00, 1.24936624e+00, 1.38313414e+00, 1.27599758e+00,\n",
       "        1.09157206e+00, 1.23702842e+00, 1.27923674e+00, 9.63004793e-01,\n",
       "        1.08183168e+00, 1.37404312e+00, 1.32728929e+00, 1.29872528e+00,\n",
       "        1.39677067e+00, 1.43378412e+00, 1.33248416e+00, 1.24547008e+00,\n",
       "        1.23898391e+00, 1.21689830e+00, 1.16430024e+00, 1.21754766e+00,\n",
       "        1.21885367e+00, 1.24157393e+00, 1.28702904e+00, 1.25066495e+00,\n",
       "        1.31301126e+00, 1.34287390e+00, 1.36884825e+00, 1.30066558e+00,\n",
       "        1.33378287e+00, 1.34807684e+00, 1.32469185e+00, 1.32599057e+00,\n",
       "        1.34027646e+00, 1.36301218e+00, 1.27793802e+00, 1.23248291e+00,\n",
       "        8.55854834e-01, 1.01949934e-01, 1.29870973e-03, 6.49362639e-04]),\n",
       " array([0.035873  , 0.04582928, 0.05578557, 0.06574185, 0.07569814,\n",
       "        0.08565443, 0.09561072, 0.105567  , 0.11552329, 0.12547958,\n",
       "        0.13543586, 0.14539215, 0.15534844, 0.16530472, 0.175261  ,\n",
       "        0.18521729, 0.19517358, 0.20512986, 0.21508615, 0.22504245,\n",
       "        0.23499873, 0.24495502, 0.2549113 , 0.26486757, 0.27482387,\n",
       "        0.28478014, 0.29473644, 0.30469275, 0.31464902, 0.32460532,\n",
       "        0.3345616 , 0.3445179 , 0.35447416, 0.36443046, 0.37438673,\n",
       "        0.38434303, 0.3942993 , 0.4042556 , 0.4142119 , 0.42416817,\n",
       "        0.43412447, 0.44408074, 0.45403704, 0.4639933 , 0.4739496 ,\n",
       "        0.48390588, 0.49386218, 0.50381845, 0.51377475, 0.52373105,\n",
       "        0.53368735, 0.5436436 , 0.5535999 , 0.5635562 , 0.5735125 ,\n",
       "        0.58346874, 0.59342504, 0.60338134, 0.61333764, 0.6232939 ,\n",
       "        0.6332502 , 0.6432065 , 0.6531628 , 0.6631191 , 0.6730753 ,\n",
       "        0.6830316 , 0.6929879 , 0.7029442 , 0.71290046, 0.72285676,\n",
       "        0.73281306, 0.74276936, 0.7527256 , 0.7626819 , 0.7726382 ,\n",
       "        0.7825945 , 0.7925508 , 0.80250704, 0.81246334, 0.82241964,\n",
       "        0.83237594, 0.8423322 , 0.8522885 , 0.8622448 , 0.8722011 ,\n",
       "        0.8821573 , 0.8921136 , 0.9020699 , 0.9120262 , 0.9219825 ,\n",
       "        0.93193877, 0.94189507, 0.95185137, 0.96180767, 0.9717639 ,\n",
       "        0.9817202 , 0.9916765 , 1.0016328 , 1.011589  , 1.0215454 ,\n",
       "        1.0315017 ], dtype=float32),\n",
       " <BarContainer object of 100 artists>)"
      ]
     },
     "execution_count": 69,
     "metadata": {},
     "output_type": "execute_result"
    },
    {
     "data": {
      "image/png": "[encoded data removed]",
      "text/plain": [
       "<Figure size 432x288 with 1 Axes>"
      ]
     },
     "metadata": {
      "needs_background": "light"
     },
     "output_type": "display_data"
    }
   ],
   "source": [
    "#Plotting Predictions\n",
    "plt.hist(gnn_predict,bins= 100, density = True, label=\"GNN predict\")"
   ]
  },
  {
   "cell_type": "code",
   "execution_count": null,
   "metadata": {
    "execution": {
     "iopub.status.busy": "2022-10-29T19:02:26.303710Z",
     "iopub.status.idle": "2022-10-29T19:02:26.304049Z",
     "shell.execute_reply": "2022-10-29T19:02:26.303888Z",
     "shell.execute_reply.started": "2022-10-29T19:02:26.303888Z"
    }
   },
   "outputs": [],
   "source": [
    "#Comparitive Plotting of All Models\n",
    "energy = np.array(energy)\n",
    "dnn_predict = np.array(dnn_predict)\n",
    "cnn_predict = np.array(cnn_predict)\n",
    "fig, ax = plt.subplots(1,2,figsize=[10,5])\n",
    "\n",
    "ax[0].hist(energy[:,0],bins= 100, density= True, label=\"Sum energy\") \n",
    "ax[0].hist(dnn_predict[:,0],bins= 100, density = True , alpha = 0.4,  label=\"DNN predict\")\n",
    "#ax[0].hist(cnn_predict[:,0],bins= 100, density = True, alpha = 0.4, label=\"CNN predict\")\n",
    "ax[0].hist(gnn_predict[:,0],bins= 100, density = True, alpha = 0.4, label=\"GNN predict\")\n",
    "\n",
    "ax[0].legend()\n",
    "\n",
    "ax[1].hist(energy[:,1],bins= 100, density= True, label=\"Sum energy\") \n",
    "#ax[1].hist(dnn_predict[:,1],bins= 100, density = True , alpha = 0.4,  label=\"DNN predict\")\n",
    "ax[1].hist(cnn_predict[:,1],bins= 100, density = True, alpha = 0.4, label=\"CNN predict\")\n",
    "\n",
    "plt.legend()\n"
   ]
  },
  {
   "cell_type": "code",
   "execution_count": 75,
   "metadata": {
    "execution": {
     "iopub.execute_input": "2022-12-10T18:48:21.472828Z",
     "iopub.status.busy": "2022-12-10T18:48:21.472465Z",
     "iopub.status.idle": "2022-12-10T18:48:21.619596Z",
     "shell.execute_reply": "2022-12-10T18:48:21.618623Z",
     "shell.execute_reply.started": "2022-12-10T18:48:21.472787Z"
    },
    "id": "64s3HBLVmxJl"
   },
   "outputs": [
    {
     "data": {
      "text/plain": [
       "Text(0.5, 1.0, 'GNN Energy Reconstruction Training without Noise')"
      ]
     },
     "execution_count": 75,
     "metadata": {},
     "output_type": "execute_result"
    },
    {
     "data": {
      "image/png": "[encoded data removed]",
      "text/plain": [
       "<Figure size 360x360 with 1 Axes>"
      ]
     },
     "metadata": {
      "needs_background": "light"
     },
     "output_type": "display_data"
    }
   ],
   "source": [
    "#GNN Training in the Absence of Gaussian Noise\n",
    "fig, (ax1) = plt.subplots(1, 1, figsize=(5, 5))\n",
    "ax1.plot(history_gnn.history[\"loss\"])\n",
    "ax1.plot(history_gnn.history[\"val_loss\"])\n",
    "ax1.set_ylim(top  = 0.006, bottom = 0.0)\n",
    "ax1.legend([\"train\", \"test\"], loc=\"upper right\")\n",
    "ax1.set_xlabel(\"Training Epochs\")\n",
    "ax1.set_ylabel(\"Loss(MSE)\")\n",
    "ax1.set_title(\"GNN Energy Reconstruction Training without Noise\")"
   ]
  },
  {
   "cell_type": "code",
   "execution_count": null,
   "metadata": {
    "execution": {
     "iopub.status.busy": "2022-10-29T19:02:26.306180Z",
     "iopub.status.idle": "2022-10-29T19:02:26.306590Z",
     "shell.execute_reply": "2022-10-29T19:02:26.306412Z",
     "shell.execute_reply.started": "2022-10-29T19:02:26.306412Z"
    }
   },
   "outputs": [],
   "source": [
    "plt.plot(history_gnn.history[\"loss\"])\n",
    "plt.plot(history_gnn.history[\"val_loss\"])\n",
    "plt.ylim(top  = 0.01, bottom = 0.0)\n",
    "plt.legend([\"train\", \"test\"], loc=\"upper right\")\n",
    "plt.xlabel(\"Epochs\")\n",
    "plt.ylabel(\"loss\")"
   ]
  },
  {
   "cell_type": "code",
   "execution_count": null,
   "metadata": {
    "execution": {
     "iopub.status.busy": "2022-10-29T19:02:26.307876Z",
     "iopub.status.idle": "2022-10-29T19:02:26.308236Z",
     "shell.execute_reply": "2022-10-29T19:02:26.308015Z",
     "shell.execute_reply.started": "2022-10-29T19:02:26.308015Z"
    }
   },
   "outputs": [],
   "source": [
    "#dnn_predict = dnn_predict.reshape(dnn_predict.shape[0])\n",
    "energy_cut  = 0 / (nrm_e * 1000)\n",
    "dnn_diff_pred = (dnn_predict - energy_test)/ energy_test\n",
    "diff_sum = (np.sum(layer_0_test,axis=1)/2*nrm_l0+np.sum(layer_1_test,axis=1)/2*nrm_l1+np.sum(layer_2_test,axis=1)/2*nrm_l2 - energy_test[:,0]*nrm_e*1000 + 0.0068*energy_test[:,0]*nrm_e*1000)/(energy_test[:,0]*nrm_e*1000)\n",
    "print(np.argmin(diff_sum))\n",
    "print(np.sum(diff_sum>0))\n",
    "\n",
    "print(np.std(dnn_diff_pred))\n",
    "print(np.std(diff_sum))\n",
    "print(np.mean(dnn_diff_pred))\n",
    "print(np.mean(diff_sum))"
   ]
  },
  {
   "cell_type": "code",
   "execution_count": null,
   "metadata": {
    "execution": {
     "iopub.status.busy": "2022-10-29T19:02:26.308825Z",
     "iopub.status.idle": "2022-10-29T19:02:26.309171Z",
     "shell.execute_reply": "2022-10-29T19:02:26.309026Z",
     "shell.execute_reply.started": "2022-10-29T19:02:26.309026Z"
    }
   },
   "outputs": [],
   "source": [
    "\n",
    "def check_predict(n):\n",
    "    print(cnn_predict[n], energy_test[n], (diff_sum[n]*energy_test[n]*nrm_e+energy_test[n]*nrm_e)/100)\n",
    "check_predict(100)"
   ]
  },
  {
   "cell_type": "code",
   "execution_count": null,
   "metadata": {
    "execution": {
     "iopub.status.busy": "2022-10-29T19:02:26.309810Z",
     "iopub.status.idle": "2022-10-29T19:02:26.310291Z",
     "shell.execute_reply": "2022-10-29T19:02:26.310155Z",
     "shell.execute_reply.started": "2022-10-29T19:02:26.310155Z"
    }
   },
   "outputs": [],
   "source": [
    "#Cnn_nparr=cnn_predict[:,0]\n",
    "gnn_nparr=gnn_predict[:,0]\n"
   ]
  },
  {
   "cell_type": "code",
   "execution_count": null,
   "metadata": {
    "execution": {
     "iopub.status.busy": "2022-10-29T19:02:26.311603Z",
     "iopub.status.idle": "2022-10-29T19:02:26.311856Z",
     "shell.execute_reply": "2022-10-29T19:02:26.311706Z",
     "shell.execute_reply.started": "2022-10-29T19:02:26.311706Z"
    }
   },
   "outputs": [],
   "source": [
    "#cnn_diff_predict=(Cnn_nparr-energy_test[:,0])/energy_test[:,0]\n",
    "gnn_diff_predict=(gnn_nparr-energy_test)/energy_test\n",
    "plt.hist(gnn_predict, bins=20)"
   ]
  },
  {
   "cell_type": "code",
   "execution_count": null,
   "metadata": {
    "execution": {
     "iopub.status.busy": "2022-10-29T19:02:26.313298Z",
     "iopub.status.idle": "2022-10-29T19:02:26.313611Z",
     "shell.execute_reply": "2022-10-29T19:02:26.313432Z",
     "shell.execute_reply.started": "2022-10-29T19:02:26.313432Z"
    },
    "id": "rVUjJx44mycm"
   },
   "outputs": [],
   "source": [
    "fig, ax = plt.subplots(1,1,figsize=[5,5])\n",
    "ax.hist(dnn_diff_pred, bins = 100, range=[-0.1,0.1], label = \"dnn pred\") \n",
    "#ax.hist(diff_sum, alpha = 0.6, bins = 100, range=[-0.1,0.1], label = \"sum algo\", color=\"r\")\n",
    "ax.hist(gnn_diff_predict,  bins = 100, range=[-0.1,0.1],color=\"g\", label = \"cnn pred\") \n",
    "ax.legend()"
   ]
  },
  {
   "cell_type": "code",
   "execution_count": 10,
   "metadata": {
    "execution": {
     "iopub.execute_input": "2022-12-18T08:08:29.612003Z",
     "iopub.status.busy": "2022-12-18T08:08:29.611293Z",
     "iopub.status.idle": "2022-12-18T08:08:32.007234Z",
     "shell.execute_reply": "2022-12-18T08:08:32.006173Z",
     "shell.execute_reply.started": "2022-12-18T08:08:29.612003Z"
    }
   },
   "outputs": [
    {
     "data": {
      "text/plain": [
       "(386685, 3, 96)"
      ]
     },
     "execution_count": 10,
     "metadata": {},
     "output_type": "execute_result"
    }
   ],
   "source": [
    "inp1_gnnbaseline=np.copy(Layer_0_data_preprocessed)[included_data1]\n",
    "messages_l1_gnn1=np.copy(messages_l1_gnn)[included_data1]\n",
    "messages_l2_gnn1=np.copy(messages_l2_gnn)[included_data1]\n",
    "inp1_gnnbaseline.shape"
   ]
  }
 ],
 "metadata": {
  "colab": {
   "collapsed_sections": [],
   "private_outputs": true,
   "provenance": []
  },
  "kernelspec": {
   "display_name": "Python 3 (ipykernel)",
   "language": "python",
   "name": "python3"
  },
  "language_info": {
   "codemirror_mode": {
    "name": "ipython",
    "version": 3
   },
   "file_extension": ".py",
   "mimetype": "text/x-python",
   "name": "python",
   "nbconvert_exporter": "python",
   "pygments_lexer": "ipython3",
   "version": "3.9.12"
  }
 },
 "nbformat": 4,
 "nbformat_minor": 4
}
